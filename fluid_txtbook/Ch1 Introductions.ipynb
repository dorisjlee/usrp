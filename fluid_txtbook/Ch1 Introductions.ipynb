{
 "cells": [
  {
   "cell_type": "markdown",
   "metadata": {},
   "source": [
    "# Introduction\n",
    "\n",
    "- astrophysical fluids are highly compressible usually accelerated by gravity to hihg Mach #\n",
    "- A __fluid element__ must be chosen so that :\n",
    "    - large enough to average out any particle-to-particle flucatuations in the variables ('discret\\ness noise')\n",
    "        - enforce nl^3_{region}>>1\n",
    "    - small enough that the variable does not change significantly over the span of the box:\n",
    "          - enforce l_{region}<<l_{scale}\n",
    "- for collisional fluid: also enforce $l_{region}>>\\lambda$ (mean free path)\n",
    "- Eulerian frame useful for steady flow (since $\\partial/\\partial t$=0 simplify)\n",
    "- why is potential a minimum in $\\rho$, could be max too? doesn't make sense intuitively if mass is considered as \"source\" here \n",
    "##Question\n",
    "- not too sure what the difference between streakline, streamline and particle path is ?\n",
    "- don't really understand how $\\rho u\\cdot\\nabla u$ in Eq. 2.17 accounts for the momentum flux in and out of the grid cell"
   ]
  },
  {
   "cell_type": "markdown",
   "metadata": {},
   "source": []
  },
  {
   "cell_type": "code",
   "execution_count": null,
   "metadata": {
    "collapsed": true
   },
   "outputs": [],
   "source": []
  }
 ],
 "metadata": {
  "kernelspec": {
   "display_name": "Python 2",
   "language": "python",
   "name": "python2"
  },
  "language_info": {
   "codemirror_mode": {
    "name": "ipython",
    "version": 2
   },
   "file_extension": ".py",
   "mimetype": "text/x-python",
   "name": "python",
   "nbconvert_exporter": "python",
   "pygments_lexer": "ipython2",
   "version": "2.7.9"
  }
 },
 "nbformat": 4,
 "nbformat_minor": 0
}
