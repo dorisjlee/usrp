{
 "cells": [
  {
   "cell_type": "markdown",
   "metadata": {},
   "source": [
    "Links to Readings: \n",
    "    - Eddington luminosity limit : radiation pressure > gravity,so material can not infall    \n",
    "    http://www-astro.physics.ox.ac.uk/~garret/teaching/lecture7-2011.pdf"
   ]
  },
  {
   "cell_type": "markdown",
   "metadata": {},
   "source": [
    "# 3D simulations of Black Hole Tori (Hawley 1991)"
   ]
  },
  {
   "cell_type": "markdown",
   "metadata": {},
   "source": [
    "### Introduction\n",
    "- Motivation: Linear stability analysis (general or onparticular type of geometry) only tells us that unstable modes of PPI does __exist__ but only simulation can tell us the final amplitude attained by the unstable modesand what it does to the accretion disk (i.e. does it really transport angular momentum? destroy the EQM structure or just die off ?)\n",
    "    - prior simulation work shows that at mode saturation, it can either:\n",
    "        - 1)  break off and merge into planet\n",
    "        - 2) create spiral density waves for OLT\n",
    "###Numerical Technique\n"
   ]
  },
  {
   "cell_type": "markdown",
   "metadata": {},
   "source": [
    "- Schwarchild BH = non rotating\n",
    "- Kerr metric: spacetime geometry derived from GR around uncharged , rotating BH"
   ]
  },
  {
   "cell_type": "markdown",
   "metadata": {},
   "source": [
    "- numerical diffusion: in simulations, fluids exhibit higher diffusiivty than the actual fluid itself.\n",
    "   - so it makes the modes look like it is growing faster than it really is . so it makes it unstable. \n",
    "- mode saturation describe the time when the normal mode completely dies off? \n",
    "        "
   ]
  },
  {
   "cell_type": "markdown",
   "metadata": {},
   "source": [
    "- Acceretion can't be the only thing that cause mode saturation because in different tori model where the accretion rate is different (i.e different amount of stuff is getting accretted on) the resulting state of the disk is the same (density enhancement + spiral waves) \n",
    "- Because slender torus is thinner (i.e. lower height) so it is closer to \"surface\" so that it can interact with surface waves more, so it can twist around distort the inside of the torus more. Whereas if you how a thicker torus, and same depth of bending , it twist less. (an intuitive analogy would be mixing cake batter at the same height, with more material (thicker torus) and less material(slender torus))\n",
    "- Conclusion: PP instability requires reflection on the inner boundary of the torus and this requirement (along with the requirement of constant l ) limits its applicability to specific types of tori.\n",
    "- PPI compared to MRI : MRI is local, mhd instability, but requires very little B field and has significant effect than PPI"
   ]
  },
  {
   "cell_type": "markdown",
   "metadata": {},
   "source": [
    "- Pseudo potentials is a trick that people use to simplify the situation (not applying full GR) but masking it with a potential that give you relativistic effects. There are various modifications to which psedo potential is better to use around BH. [link](http://arxiv.org/pdf/astro-ph/0205475v2.pdf)"
   ]
  },
  {
   "cell_type": "markdown",
   "metadata": {},
   "source": [
    "- variable and broad iron emmision lines likely come from near the BH , they have been observed in many BH and can telll us about strucutre, radiation and motion of BH accretion disks. [link](http://www.readcube.com/articles/10.1002%2Fasna.200610669?r3_referer=wol&tracking_action=preview_click&show_checkout=1&purchase_referrer=adsabs.harvard.edu&purchase_site_license=LICENSE_DENIED_NO_CUSTOMER)"
   ]
  },
  {
   "cell_type": "markdown",
   "metadata": {},
   "source": [
    "# Question"
   ]
  },
  {
   "cell_type": "markdown",
   "metadata": {},
   "source": [
    "- How are mode amplitudes measured in simulations? \n",
    "    - In a numerical simulation you compute the output of your primitives and conservative values, but how can you get from that to the more important  wave modes infromation ?\n",
    "- (PP 743) How does numerical effects result in an what looks like a emergenet mode and how does adding diffusive terms make that go away?"
   ]
  },
  {
   "cell_type": "markdown",
   "metadata": {},
   "source": [
    "$\\checkmark$ relation between shear stress and $\\alpha$ viscosity? \n",
    "   - traditionally, people used the $\\alpha$ viscosity to mock up stress due to MRI turbulence because we didn't know what the underlying mechanism that causes the viscosity is."
   ]
  },
  {
   "cell_type": "markdown",
   "metadata": {},
   "source": [
    "$\\checkmark$What is the diference between shear viscosity (denoted as $\\mu$ in the paper) and kinematic viscosity($\\nu$)\n",
    "   - Formally, viscosity is defined as how much the fluid is deformed as it experience stress. Intuitively, this makes sense because pouring somewhat \"bends\" honey, but there is no way you can \"bend\" water.\n",
    "    - Shear viscosity (a.k.a dynamic viscosity) is due to the velocity of the top layer moving at a faster speed as the velocity of the sheared layer of fluid beneeth it, which generates a kind of force (so mathematically, it would be  $\\propto$ $\\partial u/\\partial y$, where u is the shear velocity)\n",
    "   - Kinematic viscosity $\\nu=\\mu/\\rho$\n",
    "       -  \" momentum  diffusivity \" . describes bulkwise macroscopic fluid motion and how easy it is to move through it or transfer momentum"
   ]
  },
  {
   "cell_type": "markdown",
   "metadata": {},
   "source": [
    "- What is the Solberg-Hoiland criterion for stability?\n"
   ]
  },
  {
   "cell_type": "code",
   "execution_count": null,
   "metadata": {
    "collapsed": true
   },
   "outputs": [],
   "source": []
  }
 ],
 "metadata": {
  "kernelspec": {
   "display_name": "Python 2",
   "language": "python",
   "name": "python2"
  },
  "language_info": {
   "codemirror_mode": {
    "name": "ipython",
    "version": 2
   },
   "file_extension": ".py",
   "mimetype": "text/x-python",
   "name": "python",
   "nbconvert_exporter": "python",
   "pygments_lexer": "ipython2",
   "version": "2.7.6"
  }
 },
 "nbformat": 4,
 "nbformat_minor": 0
}
