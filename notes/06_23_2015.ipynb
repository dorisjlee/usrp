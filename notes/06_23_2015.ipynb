{
 "cells": [
  {
   "cell_type": "markdown",
   "metadata": {},
   "source": [
    "- we don't have a left and right state so can eliminate all the boundary if statement stuff \n",
    "    - delete all the left states \n",
    "        - then delete all \"r\" in the right state names \n",
    "- U==q?? \n",
    "- par_getd gets the values from the input file in the \"problem\" block\n",
    "-  Structs in C are like objects/classes but without methods or public/private specifications. \"Members\" are just instance variables.\n",
    "- look into athena.h for how the object structs are defined \n",
    "- Difference between ConsS and Cons1Ds\n",
    "    - except Cons1DS doesn't contain $B_x$, not relevant for our case here anyways, but why?/"
   ]
  },
  {
   "cell_type": "markdown",
   "metadata": {},
   "source": [
    "- Before trying to setup the torus first run the problem and see if you could set up a constant background and get it running "
   ]
  },
  {
   "cell_type": "markdown",
   "metadata": {},
   "source": [
    "- it looks like vfr and vfl is a quantity between [0,1] that sorta tells you how much volume the fluid occupy of percentage of the cell. This is determined by a series of if else cases that figures out whtether it is half, more thna half of fully in the left or right cell, so then you use this to do volume averaging . For now since I took out that whole if else I'm just going to assume that vf=1.0, so its not necessary to be in here. But for now I'm going to put vf in as a placeholder so that if I really need  to figure out the boundary cases later I could. \n"
   ]
  },
  {
   "cell_type": "markdown",
   "metadata": {},
   "source": [
    "###Input File\n",
    "- using athinput.shk_cloud as a template (doens't really matter) \n",
    "- nscalars \t# \tadd # passively advected scalars (default is 0)\n",
    "- inthis case it should be zero in the flag so default"
   ]
  },
  {
   "cell_type": "markdown",
   "metadata": {},
   "source": [
    "\n",
    "- does the gas need to be confined in the torus shape for all time or only during the initial conditions ? (since PPI don't show up unless reflecting boundary at inner and outer boundaries "
   ]
  },
  {
   "cell_type": "markdown",
   "metadata": {},
   "source": [
    "##Running the code\n",
    "- place ppi.c to ./athena/src/prob\n",
    "- putting the input file just in athena directory anywhere\n",
    "```\n",
    "./configure --with-problem=ppi --with-gas=hydro\n",
    "make all\n",
    "```\n"
   ]
  },
  {
   "cell_type": "markdown",
   "metadata": {},
   "source": [
    "Errors\n",
    "problem.c: In function ‘problem’:\n",
    "problem.c:65: error: too few arguments to function ‘Prim1D_to_Cons1D’\n",
    "problem.c: At top level:\n",
    "problem.c:96: error: expected identifier or ‘(’ before ‘return’\n",
    "problem.c:97: error: expected identifier or ‘(’ before ‘}’ token\n",
    "problem.c: In function ‘problem_read_restart’:\n",
    "problem.c:111: error: ‘Omega_0’ undeclared (first use in this function)\n",
    "problem.c:111: error: (Each undeclared identifier is reported only once\n",
    "problem.c:111: error: for each function it appears in.)\n",
    "problem.c:112: error: ‘hst_rho_Vx_dVy’ undeclared (first use in this function)\n",
    "problem.c:113: error: ‘hst_rho_dVy2’ undeclared (first use in this function)\n",
    "problem.c: At top level:\n",
    "problem.c:117: error: redefinition of ‘problem_read_restart’\n",
    "problem.c:109: note: previous definition of ‘problem_read_restart’ was here\n",
    "make[1]: *** [problem.o] Error 1\n",
    "make[1]: Leaving directory `/u/dorislee/Programs/athena4.2/src'\n",
    "make: *** [compile] Error 2\n"
   ]
  }
 ],
 "metadata": {
  "kernelspec": {
   "display_name": "Python 2",
   "language": "python",
   "name": "python2"
  },
  "language_info": {
   "codemirror_mode": {
    "name": "ipython",
    "version": 2
   },
   "file_extension": ".py",
   "mimetype": "text/x-python",
   "name": "python",
   "nbconvert_exporter": "python",
   "pygments_lexer": "ipython2",
   "version": "2.7.9"
  }
 },
 "nbformat": 4,
 "nbformat_minor": 0
}
