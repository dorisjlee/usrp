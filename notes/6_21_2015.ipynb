{
 "cells": [
  {
   "cell_type": "markdown",
   "metadata": {},
   "source": [
    "- a [good html-to-pdf converter site](http://www.online-convert.com/result/5815e245b9be94dc7d0b9f0ec77247db) (trouble installing nbconvert)\n",
    "- Prandtl number P =$\\nu/\\eta$ ratio of viscosity to resistivity "
   ]
  },
  {
   "cell_type": "markdown",
   "metadata": {},
   "source": [
    "??\n",
    "- Braginski viscosity\n",
    "- Hot accretion disk\n",
    "- orbital advection"
   ]
  },
  {
   "cell_type": "markdown",
   "metadata": {
    "collapsed": true
   },
   "source": [
    "### Setting up 2D problem for PPI on Athena\n",
    "- ####Finding whether there are existing test case (src/prob;athena/apps)\n",
    "   - bubble\n",
    "- used the shktest2D.c template to set up a 2D Riemann problem and then remove everything that deals with MHD and isothermal, only keeping the hydro stuff"
   ]
  },
  {
   "cell_type": "code",
   "execution_count": null,
   "metadata": {
    "collapsed": true
   },
   "outputs": [],
   "source": []
  }
 ],
 "metadata": {
  "kernelspec": {
   "display_name": "Python 2",
   "language": "python",
   "name": "python2"
  },
  "language_info": {
   "codemirror_mode": {
    "name": "ipython",
    "version": 2
   },
   "file_extension": ".py",
   "mimetype": "text/x-python",
   "name": "python",
   "nbconvert_exporter": "python",
   "pygments_lexer": "ipython2",
   "version": "2.7.9"
  }
 },
 "nbformat": 4,
 "nbformat_minor": 0
}
