{
 "cells": [
  {
   "cell_type": "markdown",
   "metadata": {},
   "source": [
    "- a [good html-to-pdf converter site](http://www.online-convert.com/result/5815e245b9be94dc7d0b9f0ec77247db) (trouble installing nbconvert)\n",
    "- Prandtl number P =$\\nu/\\eta$ ratio of viscosity to resistivity "
   ]
  },
  {
   "cell_type": "markdown",
   "metadata": {},
   "source": [
    "??\n",
    "- Braginski viscosity\n",
    "- Hot accretion disk\n",
    "- orbital advection"
   ]
  },
  {
   "cell_type": "markdown",
<<<<<<< HEAD
=======
   "metadata": {
    "collapsed": true
   },
   "source": [
    "### Setting up 2D problem for PPI on Athena\n",
    "- ####Finding whether there are existing test case (src/prob;athena/apps)\n",
    "   - bubble\n",
    "- used the shktest2D.c template to set up a 2D Riemann problem and then remove everything that deals with MHD and isothermal, only keeping the hydro stuff"
   ]
  },
  {
   "cell_type": "markdown",
   "metadata": {},
   "source": [
    "pointers are variables that store memory addresses (get these by &var-name)"
   ]
  },
  {
   "cell_type": "markdown",
   "metadata": {},
   "source": [
    "- it looks like q here is just initiialized so that it corresponds to Ul in the rotated coordinate system . So in our case U = q, so I will delete all instances of q. \n",
    " Initialize ql rotated to the (x1,x2,x3) coordinate system */\n",
    "ql.M1  = Ul.Mx*cos_a3 - Ul.My*sin_a3;\n",
    "- M1, M2,M3 seems to be just Vx Vy Vz"
   ]
  },
  {
   "cell_type": "code",
   "execution_count": null,
>>>>>>> 689d3d093923b0e45e401cc10f4402ff747152d6
   "metadata": {
    "collapsed": true
   },
   "source": [
    "# HPC Day 1 \n",
    "- Preprocessor (gcc -E) compile the macros \n",
    "- man clang \n",
    "     - / search\n",
    "      - N for next and Shift+N for back\n",
    "      \n",
    "###Make\n",
    "- Implicit rules that generates bash commands to be run . \n",
    "- Things dont make until its dependencies is built"
   ]
  },
  {
   "cell_type": "markdown",
   "metadata": {},
   "source": [
    "## Athena\n",
    "- tar xvf  (expand verbose)\n",
    "- built by installing [xcode stuff](https://www.google.com/webhp?sourceid=chrome-instant&ion=1&espv=2&ie=UTF-8#q=jatt%20code%20autoconf) and then do ``autoconf`` in side hte athena directory this looks at your system and populates the config script , this configures the Athena Makefile so that important machine information is written on this. \n",
    "- when resolution increase, so that factor of 2 increase result in time factor of 4 increase since CFL condition enforce time , so increase quadratically."
   ]
  }
 ],
 "metadata": {
  "kernelspec": {
   "display_name": "Python 2",
   "language": "python",
   "name": "python2"
  },
  "language_info": {
   "codemirror_mode": {
    "name": "ipython",
    "version": 2
   },
   "file_extension": ".py",
   "mimetype": "text/x-python",
   "name": "python",
   "nbconvert_exporter": "python",
   "pygments_lexer": "ipython2",
   "version": "2.7.6"
  }
 },
 "nbformat": 4,
 "nbformat_minor": 0
}
