{
 "cells": [
  {
   "cell_type": "markdown",
   "metadata": {},
   "source": [
    "- AAS Meeting \n",
    "Most Important Question\n",
    "    - How long is my talk\n",
    "        - 15 minutes-->1 minute per slide--> 15 slide talk \n",
    "            - always plan to speak slower\n",
    "    - Who's my audience'\n",
    "        - if you don't know your audience then assume no prior knowledge \n",
    "            - not true for seminar\n",
    "            - reference people's work\n",
    "            - figure out who's going to be there, faculty or students?\n",
    "            - Setting \n",
    "- What am I going to talk about? \n",
    "    - Presenter Mode on Keynotes (contain notes)\n",
    "- First slide:\n",
    "    - Title\n",
    "    - People and affiliiation , coauthors..\n",
    "        - appropriate logo for funding agency\n",
    "    - (Optional: anecdot or a segaway into your talk)\n",
    "- 2nd slide:\n",
    "    - steped through every piece of information in the talk \n",
    "    - animations can get annoying to go back on so sometime just make into a copied slide.\n",
    "- 3rd:\n",
    "    - The Open Questions\n",
    "        - Posing questiosn that you are going to answer\n",
    "    - this is basically the introduction to your paper..\n",
    "- Explain terminaotlogy --> what is \"Compton-thick\"?\n",
    "- the NGC name lets people connect to the talk better because maybe they have \n",
    "- talk abotu how there is no sample bias\n",
    "- Built to the result.\n",
    "    - One figure contain all the essential information, money plot of the paper\n",
    "    - five dimensional figure --> hard for people to understand.\n",
    "        - so you take time to build it up in multiple slides\n",
    "- go back to the Open question and clarify the answer\n",
    "- blue red yellow composite: LED projector really bad for green, avoid green on projector on figures and everything in your presentation\n",
    "- (Optional: Summary slide)\n",
    "    - tell them what you want to tell them again\n",
    "- show them the same figure again so that their memory is refresed \n",
    "\n",
    "- hand, laser pointer or long stick\n",
    "- don't shiver when you use a laser pointer\n",
    "- don't circle with laser pointer\n",
    "- limit your animations \n",
    "- avoid too much text \n",
    "- Dress code\n",
    "    - don't go with blaser and jacket, just collared shirt\n",
    "    - What you would wear on your second date with someone?\n",
    "- Use of fonts\n",
    "- if you use linestyle -.-. or -- , they don't show up on in projections.\n",
    "- no header and footer, dont' use date, author,...etc\n",
    "     - put date only on title page \n",
    "     - Practice talks are Wednesday\n",
    "     - 10 minutes and 5 minute for transitions\n",
    "- Usually very nervous at the beginning and so recite verbatim\n",
    "- How to handle questions?\n",
    "    - first essentially repeat the questions.\n",
    "    - if you don't know the answer say it, we can talk about this afterwards ..etc \n",
    "- Dont' overpractice a talk\n",
    "- Setting: there would be ~50 people at the talk on Thursday\n",
    "    - It's a big screen"
   ]
  },
  {
   "cell_type": "code",
   "execution_count": null,
   "metadata": {
    "collapsed": true
   },
   "outputs": [],
   "source": []
  }
 ],
 "metadata": {
  "kernelspec": {
   "display_name": "Python 2",
   "language": "python",
   "name": "python2"
  },
  "language_info": {
   "codemirror_mode": {
    "name": "ipython",
    "version": 2
   },
   "file_extension": ".py",
   "mimetype": "text/x-python",
   "name": "python",
   "nbconvert_exporter": "python",
   "pygments_lexer": "ipython2",
   "version": "2.7.10"
  }
 },
 "nbformat": 4,
 "nbformat_minor": 0
}
