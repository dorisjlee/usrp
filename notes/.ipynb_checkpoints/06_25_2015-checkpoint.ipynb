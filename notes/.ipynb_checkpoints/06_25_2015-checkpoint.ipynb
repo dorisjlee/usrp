{
 "cells": [
  {
   "cell_type": "markdown",
   "metadata": {},
   "source": [
    "# Cylindrical case"
   ]
  },
  {
   "cell_type": "markdown",
   "metadata": {},
   "source": [
    "- starting from the cylblast example, it seems like if I take out the line about gravity the program just goes into segmentation fault. Not too sure why..\n",
    "- changed the --with-problem in the new input file to ppi but it still crashes.\n",
    "- I suspect that in cylindrical case you must have a stratified box with g field or something .? \n",
    "- after implementing the p as transformed into cylindrical coordinate , I got ``dt = nan`` for two timesteps and then the simulation terminate on time linmit\n",
    "\n",
    "```\n",
    "cycle=0 time=0.000000e+00 next dt=nan\n",
    "cycle=1 time=nan next dt=nan last dt=nan\n",
    "\n",
    "terminating on time limit\n",
    "  tlim= 5.000000e-03   nlim= 100000\n",
    "  time= nan  cycle= 1\n",
    "\n",
    "zone-cycles/cpu-second = 4.952538e+05\n",
    "\n",
    "elapsed wall time = 2.629420e+01 sec.\n",
    "\n",
    "zone-cycles/wall-second = 4.563744e+05\n",
    "```\n",
    "So I changed the small time limit set previously for the cylindrical blastwave (which I did to speed things up to two time steps) but I still get dt = nan results "
   ]
  },
  {
   "cell_type": "markdown",
   "metadata": {
    "collapsed": true
   },
   "source": [
    "This did produce two time step files, so I could look at what the output looks like on VisIT"
   ]
  },
  {
   "cell_type": "code",
   "execution_count": null,
   "metadata": {
    "collapsed": true
   },
   "outputs": [],
   "source": []
  }
 ],
 "metadata": {
  "kernelspec": {
   "display_name": "Python 2",
   "language": "python",
   "name": "python2"
  },
  "language_info": {
   "codemirror_mode": {
    "name": "ipython",
    "version": 2
   },
   "file_extension": ".py",
   "mimetype": "text/x-python",
   "name": "python",
   "nbconvert_exporter": "python",
   "pygments_lexer": "ipython2",
   "version": "2.7.6"
  }
 },
 "nbformat": 4,
 "nbformat_minor": 0
}
