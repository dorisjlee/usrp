{
 "cells": [
  {
   "cell_type": "markdown",
   "metadata": {},
   "source": [
    "# Magnetohydrodynamical non-radiative accretion flows in two dimensions (Stone & Pringle) "
   ]
  },
  {
   "cell_type": "markdown",
   "metadata": {},
   "source": [
    "##2.  Methods \n",
    "- adding resistive terms , current sheet ??? (~)\n",
    "- adding in psedoNewtonian potential (where $R_G$ = radius of event horizon) \n",
    "- IC: \n",
    "    - B field threading only inside of the torus and does not connect to the environment\n",
    "    - set up constant purely azimutal $A_\\phi = \\rho^2/\\beta_0$\n",
    "- since using MHD, higher Alfven speed causes the CFL condition to enforce a smaller time step, so the computational cost is greater, therefore the chosen domain is smaller than when ran in the hydro case (SPB)\n",
    "- simmilar BC and gridding setup\n",
    "\n",
    "##3. Results\n",
    "\n",
    "###3.3Models over a larger radial domain\n",
    "- better for looking at radial profile near disk midplan.\n",
    "    - not simple power law as in SPB case\n",
    "- PPI occurs within order of 1~3 orbit time(dynamical time) but MRI occurs mostly in 3~5 orbital time dominates\n",
    "- Reynold stress shows that infall result in inward angular momentum\n",
    "- profiles near the event horizon <6$R_G$ has rapid infall velocity, different from outside becasuse of strong pressure gradient. \n",
    "    - this is also found in hydro runs even though the stresses in MHD and hydro are fundamentally different.\n",
    "\n",
    "##4,5. Discussion & Conclusion\n",
    "- $\\dot{M}_{acc}$ is small again but this is due to MRI and not convective eddies as in the hydro case\n",
    "- in MHD you can't really look at what happen when you tweak the magnitude of the stress because there isnt really a $\\alpha$ to tweak, it is just something that pops out of the dynamics.\n",
    "- In addition to MRI, global magnetic stresses can also result in OLT and accretion and produce unbound outflow \n",
    "- Near the event horizon, Infall occurs much farther away ($6R_G$)from the last stable orbit since the high P from accretion is resisting infall \n",
    "- at within $3R_G$, the potential is so strong that the poloidal $B_r$ field is bent into a $B_\\phi$, causing the r-$\\phi$ component of the stress to increase by alot\n",
    "- for the axissymmetric case, you start of with flux=0 but as stuff gets accreted inwards more B lines are close together and B flux increase.With axissymmtry you can have dynamo effect that amplifies the B field\n",
    "- accretion flow is highly time-dependent and density and stress has extremely large fluctuations . \n",
    "- flow structure looks really different from hydro case \n",
    "Limitations: \n",
    "    - $\\because$ 2D axisymmtry --> no nonaxissymetric MRI modes\n",
    "    - dynamo can not be sustained\n",
    "    "
   ]
  },
  {
   "cell_type": "markdown",
   "metadata": {},
   "source": [
    "OLT: outward angular momentum transport"
   ]
  },
  {
   "cell_type": "markdown",
   "metadata": {},
   "source": [
    "# Question"
   ]
  },
  {
   "cell_type": "markdown",
   "metadata": {},
   "source": [
    "- How is the radial extent of the simulation small? It spans over 2 decade in radius! \n",
    "- In terms of strength of outflow velocity, how are the unbound outflow (polar?) due to global magnetic stresses different from the bipolar outflow resulting from convective eddies in SPB? \n",
    "- Don't really understand why dynamo mechanism can not be  sustained when done in axissymmetry? "
   ]
  },
  {
   "cell_type": "code",
   "execution_count": null,
   "metadata": {
    "collapsed": true
   },
   "outputs": [],
   "source": []
  }
 ],
 "metadata": {
  "kernelspec": {
   "display_name": "Python 2",
   "language": "python",
   "name": "python2"
  },
  "language_info": {
   "codemirror_mode": {
    "name": "ipython",
    "version": 2
   },
   "file_extension": ".py",
   "mimetype": "text/x-python",
   "name": "python",
   "nbconvert_exporter": "python",
   "pygments_lexer": "ipython2",
   "version": "2.7.6"
  }
 },
 "nbformat": 4,
 "nbformat_minor": 0
}
