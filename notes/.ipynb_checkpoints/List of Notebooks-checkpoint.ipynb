{
 "cells": [
  {
   "cell_type": "markdown",
   "metadata": {
    "collapsed": true
   },
   "source": [
    "List of Notebooks:\n",
    "- [06_14_2015](http://nbviewer.ipython.org/github/dorislee0309/usrp/blob/master/notes/06_14_2015.ipynb)\n",
    "- [06_15_2015](http://nbviewer.ipython.org/github/dorislee0309/usrp/blob/master/notes/06_15_2015.ipynb)\n",
    "- [06_16_2015](http://nbviewer.ipython.org/github/dorislee0309/usrp/blob/master/notes/06_16_2015.ipynb)"
   ]
  }
 ],
 "metadata": {
  "kernelspec": {
   "display_name": "Python 2",
   "language": "python",
   "name": "python2"
  },
  "language_info": {
   "codemirror_mode": {
    "name": "ipython",
    "version": 2
   },
   "file_extension": ".py",
   "mimetype": "text/x-python",
   "name": "python",
   "nbconvert_exporter": "python",
   "pygments_lexer": "ipython2",
   "version": "2.7.6"
  }
 },
 "nbformat": 4,
 "nbformat_minor": 0
}
