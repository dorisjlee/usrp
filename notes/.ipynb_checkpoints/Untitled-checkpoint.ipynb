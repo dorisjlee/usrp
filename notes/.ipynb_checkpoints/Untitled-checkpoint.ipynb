{
 "cells": [
  {
   "cell_type": "code",
   "execution_count": null,
   "metadata": {
    "collapsed": true
   },
   "outputs": [],
   "source": [
    "cycle=79899 time=3.725929e+00 next dt=5.783573e-05 last dt=5.307366e-05\n",
    "\n",
    "terminating on time limit\n",
    "  tlim= 3.725929e+00   nlim= 500000\n",
    "  time= 3.725929e+00  cycle= 79899\n",
    "\n",
    "zone-cycles/cpu-second = 3.771668e+05\n",
    "\n",
    "elapsed wall time = 2.774603e+04 sec.\n",
    "\n",
    "zone-cycles/wall-second = 3.774422e+05\n",
    "\n",
    "Simulation terminated on Mon Jul  6 01:02:53 2015\n"
   ]
  }
 ],
 "metadata": {
  "kernelspec": {
   "display_name": "Python 2",
   "language": "python",
   "name": "python2"
  },
  "language_info": {
   "codemirror_mode": {
    "name": "ipython",
    "version": 2
   },
   "file_extension": ".py",
   "mimetype": "text/x-python",
   "name": "python",
   "nbconvert_exporter": "python",
   "pygments_lexer": "ipython2",
   "version": "2.7.9"
  }
 },
 "nbformat": 4,
 "nbformat_minor": 0
}
