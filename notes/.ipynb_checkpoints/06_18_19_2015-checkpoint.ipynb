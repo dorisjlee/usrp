{
 "cells": [
  {
   "cell_type": "markdown",
   "metadata": {},
   "source": [
    "# The dynamical stability of differentially rotating discs with constant specific angular momentum (Papaloizou &Pringle, 1984) \n",
    "####Summary\n",
    "PP instability are: \n",
    "   - unstable for high m for all modes\n",
    "   - unstable for low m for low order modes\n",
    "   - even the thin isothermal ring is unstable (even though efficient cooling keeps it isothermal)\n",
    "   - global instability (instabilty not found if local anlaysis  or axissymmetric modes)\n",
    "   - on the order of dynamical timescale (grows $\\approx$ one crossing time or one rotation period) \n",
    "   \n",
    "####Others\n",
    "- __leapfrog integration__ is a method for numerically integrating differential equations 2nd order in sort of the form of Newton's 2nd law. \n",
    "- In Part two of PP paper (The dynamical stability of differentially rotating discs. II, 1985), they looked at the case where the specific angular momentum is not constant and found that the PP instability still exist, also with a bit of KH instability. \n",
    "   - rotation law is just how $\\Omega$ scales radially with $\\tilde{\\omega}$"
   ]
  },
  {
   "cell_type": "markdown",
   "metadata": {},
   "source": [
    "# Questions"
   ]
  },
  {
   "cell_type": "markdown",
   "metadata": {},
   "source": [
    "$\\checkmark$ What is the \"dynamical timescale\"? this timescale is often compared to the timescale that the accretion disk evolves at. (pg 722, PP1984) \n",
    "    - dynamical time scale means that they correpsond $\\approx$ to the orbital period of a particle located at the density maximum of the torus ($w_0$).\n",
    "- (pg 726) What is the reason for taking the  $k_w$ and $ k_z \\rightarrow \\infty$ limit if we are looking for a local solution? \n",
    "- Not too sure what the significance of low vanishing boundary pressure is in the linear stability analysis in Sec.4 and how that demonstrate existence of unstable modes\n",
    "- (PP) In Fig 4,5,6 , plotting the structure of the fastest growing eignemode. What does that physically mean for the torus?"
   ]
  },
  {
   "cell_type": "markdown",
   "metadata": {},
   "source": [
    "# 3D simulations of Black Hole Tori (Hawley 1991)\n",
    "\n",
    "### Introduction\n",
    "- Motivation: Linear stability analysis (general or onparticular type of geometry) only tells us that unstable modes of PPI does __exist__ but only simulation can tell us the finale amplitude attained by the unstable modesand what it does to the accretion disk (i.e. does it really transport angular momentum? destroy the EQM structure or just die off ?)\n",
    "    - prior simulation work shows that at mode saturation, it can either:\n",
    "        - 1)  break off and merge into planet\n",
    "        - 2) create spiral density waves for OLT\n",
    "\n",
    "###Numerical Technique\n",
    "- Schwarchild BH = non rotating\n",
    "- Kerr metric: spacetime geometry derived from GR around uncharged , rotating BH\n",
    "- the cusp in the effective potential allows accretion of material with nonzero angular momentum\n",
    "- Boyer-Linquist coord: log spaced radial coord for wide tori. Singularity at origin is shielded by a BH.\n",
    "- $\\gamma$ will effect the growth rate of the modes (here set as $\\gamma$=5/3 isentropic)\n",
    "- [Internal waves](https://en.wikipedia.org/wiki/Internal_wave) are gravity waves that oscillate within the stratified fluid medium (i.e. $\\rho$decrease continuously or discontinuously with height)\n",
    "- Random enthaply perturbation in every grid zone used.\n",
    "    - 1) if perturbation too small then saturation too early\n",
    "    - or 2) if perturbation too large then the large amplitude perturbation would act like artificial viscosity which supress the unstable non-axissymttryic mode.\n",
    "    - need to chose a perturbation in between so that the growth can continue for a few orbit before it grows too large to 2)\n",
    "- numerical diffusion: in simulations, fluids exhibit higher diffusiivty than the actual fluid itself.\n",
    "   - so it makes the modes look like it is growing faster than it really is . so it makes it unstable. \n",
    "   - this especially affect high m modes \n",
    "   - numerical diffusion can LT\n",
    "- mode saturation describe the time when the normal mode completely dies off \n",
    "\n",
    "###Torus Simulations\n",
    "- __Slender Torus__: Iniitally axisymmetric principle mode grows and then saturates, after that non axissymetric structure develop and \"planet\" looking formation, torus flattens since angular momentum redistribution and lower region display more spiral waves. Result agree with 2D simulations.\n",
    "- __Intermediate torus___: again very simmilar to the 2D results. There are quite a bit of nonaxisymtertic structure but no planet formation. Substantial spiral wave in outer regions. Sharp mMode amplitude/ mode growth variation due to in and out of resonance.\n",
    "    - When comparing Fig 4,5,6. Does this mean that there are more resonances as torus is wider? \n",
    "- __Thick Torus__: Not very prominent non axissyymmetric structure. Spiral wave in outer disk. The rate of LT depend on how much the spiral pressure wave is nonlinear. Develop significant accretion flow by the time it reaches mode sautration\n",
    "- Accretion effects:\n",
    "    - the change in radial distribution of angular velocity (q-parameter) result in angular momentum redistribution\n",
    "    - all model of different values of l shows evolution of q but higher l models have largerperturbation amplitudes.\n",
    "    - there is a difference with the 2D model in that the 2D study has a accreting backgroun\n",
    "        - here we dont have an accreting background, so any accretionthat we actually see is due to the LT due to sprial pressure wave\n",
    "            - but for the spiral wave to act as an effective viscosity , it must self regulate (i..e be big enough so it doesn't die off and be nonlinear so that LT occurs)\n",
    "\n",
    "- Acceretion can't be the only thing that cause mode saturation because in different tori model where the accretion rate is different (i.e different amount of stuff is getting accretted on) the resulting state of the disk is the same (density enhancement + spiral waves) \n",
    "- Because slender torus is thinner (i.e. lower height) so it is closer to \"surface\" so that it can interact with surface waves more, so it can twist around distort the inside of the torus more. Whereas if you how a thicker torus, and same depth of bending , it twist less. (an intuitive analogy would be mixing cake batter at the same height, with more material (thicker torus) and less material(slender torus))\n",
    "- Conclusion: PP instability requires reflection on the inner boundary of the torus and this requirement (along with the requirement of constant l ) limits its applicability to specific types of tori. PPI does not distrupt wide tori and only seen in constant l models , the non axissymmetric waves seen in this study is not enough of a general mechanism for explaining LT since  LT only if these nonaxisymmetric wave can be amplified to a large nonlinear amplitude .\n",
    "- PPI compared to MRI : MRI is local, mhd instability, but requires very little B field and has significant effect than PPI\n",
    "\n",
    "####Terminologies\n",
    "  - [Eddington luminosity limit](http://www-astro.physics.ox.ac.uk/~garret/teaching/lecture7-2011.pdf) : radiation pressure > gravity,so material can not infall    \n",
    " - Pseudo potentials is a trick that people use to simplify the situation (not applying full GR) but masking it with a potential that give you relativistic effects. There are various modifications to which psedo potential is better to use around BH. [link](http://arxiv.org/pdf/astro-ph/0205475v2.pdf)\n",
    " - variable and broad iron emmision lines likely come from near the BH , they have been observed in many BH and can telll us about strucutre, radiation and motion of BH accretion disks. [link](http://www.readcube.com/articles/10.1002%2Fasna.200610669?r3_referer=wol&tracking_action=preview_click&show_checkout=1&purchase_referrer=adsabs.harvard.edu&purchase_site_license=LICENSE_DENIED_NO_CUSTOMER)\n",
    " \n",
    "## Question\n",
    " - What is the Hoiland criterion for stability?\n",
    " - How are mode amplitudes measured in simulations? \n",
    "    - In a numerical simulation you compute the output of your primitives and conservative values, but how can you get from that to the more important  wave modes infromation ?\n",
    "- (PP 743) How does numerical effects result in an what looks like a emergenet mode and how does adding diffusive terms make that go away?\n",
    "$\\checkmark$ relation between shear stress and $\\alpha$ viscosity? \n",
    "   - traditionally, people used the $\\alpha$ viscosity to mock up stress due to MRI turbulence because we didn't know what the underlying mechanism that causes the viscosity is.\n",
    "$\\checkmark$What is the diference between shear viscosity (denoted as $\\mu$ in the paper) and kinematic viscosity($\\nu$)\n",
    "   - Formally, viscosity is defined as how much the fluid is deformed as it experience stress. Intuitively, this makes sense because pouring somewhat \"bends\" honey, but there is no way you can \"bend\" water.\n",
    "    - Shear viscosity (a.k.a dynamic viscosity) is due to the velocity of the top layer moving at a faster speed as the velocity of the sheared layer of fluid beneeth it, which generates a kind of force (so mathematically, it would be  $\\propto$ $\\partial u/\\partial y$, where u is the shear velocity)\n",
    "   - Kinematic viscosity $\\nu=\\mu/\\rho$\n",
    "       -  \" momentum  diffusivity \" . describes bulkwise macroscopic fluid motion and how easy it is to move through it or transfer momentum"
   ]
  },
  {
   "cell_type": "markdown",
   "metadata": {},
   "source": [
    "# Hydrodynamical Non-radiative Accretion Flows in 2D \n",
    "###(Stone, Pringle,Begelman 1999)"
   ]
  },
  {
   "cell_type": "markdown",
   "metadata": {},
   "source": [
    "## Introduction: \n",
    " - 2D hydro smiulation via ZEUS\n",
    "    - 2D using vertically-averaged solutions \n",
    "    - ADIOS = adiabatic inflow-outflow solutions (attempts to try to characterize the mass inflow outflow  in 2D vertically-averaged solution  to make up for mass accretion and bipolar outflow)\n",
    "    - steady state solutions can not account for convectively unstable models \n",
    "        - IA99 showed that these effects can result as $\\nu$ is varied\n",
    "- modelling accretion torus  that can not cool through radiation.\n",
    "- pretrub by shearing stress"
   ]
  },
  {
   "cell_type": "markdown",
   "metadata": {},
   "source": [
    "##Methods\n",
    "###2.1 Equations of Motion\n",
    "- hydro equation + stress term\n",
    "- stress term used for shear stress in kinematic viscosity. \n",
    "    - MHD-->MRI complicated and not modelled here: \n",
    "        - mocked up by the making the shear tensor purely azimuthal ($\\because$ MRI only driven by orbital shear)\n",
    "        - Since only local studies of MRI has been done during that time, people dont know what the r dependence of Maxwell stress  is:\n",
    "            - so three models are used for mocking up the MRI effect:\n",
    "              1) $\\nu\\propto\\rho$, 2) $\\nu$ constant, 3) $\\nu\\propto r^{1/2}$\n",
    "            - 1) and 2) are essentially the same because this tells us that stress is large where it is dense \n",
    "                - result in constant density flow in equator\n",
    "            - 3) corresponds to $\\alpha$-disk model\n",
    "            \n",
    "###2.2. Initial Conditions:\n",
    "   - Using Papaloizou Pringle's setup in a low $\\rho$($\\therefore$ low P) medium\n",
    "   \n",
    "### 2.3 Numerical Methods:\n",
    "   - Operator-splitting used to add in the shear stress terms separate from the dynamical equation? \n",
    "   - logarithmic spherical grid\n",
    "   - outflow BC\n",
    "   - tested for no numerical transport of angular momentum on nonviscious disk (no evolution)\n",
    "   - R_0 is the radius of the center( defined at the density maximum ) of the torus"
   ]
  },
  {
   "cell_type": "markdown",
   "metadata": {},
   "source": [
    "##3 Results\n",
    "###3.1 A Fiducial Model\n",
    "- Initially: most  mass infall and lose angular momentum, a small fraction of that mass moves outward and gain angular momentum.\n",
    "- as inner region moves outwards they form KH rolls\n",
    "- strong convective motion at small radii results in large amplitude density fluctuations and slow outflow near equtorial region.\n",
    "- Overalll: \n",
    "    - inflow near equator: stuff flowing inwards so accrete to __high__ density, __low__ entropy(just rotating), __lack__ of angular momentum compared to the Keplerian disk\n",
    "    - outflow near poles, so __excessive__ angular momentum and __high__ entropy (since stuff spewing out) , __low__ density (since stuff is rarefied from the spewing out kind of like a jets in a foundtain)\n",
    "    - Sign of Bernoulli equation tells you whether fluid is leaving or entering the region of interest.\n",
    "- Looking at scaling relation of $\\rho, P , v_\\phi, v_r$tells us it is not enough to charaterize shear stress by a $\\alpha$ constant since it $\\propto r^{-0.5}$ \n",
    "- vector fields of mass, energy and momentum simmular as shown in Fig.8, showing that the angular momnetum transport is driven from thermal heating due to the analomlous shear stress since in comparison with Run A ($\\nu$=0) convection goes away and $M^{\\cdot}_{in}$ decreases substantially, disk is $\\approx$ Keplerian"
   ]
  },
  {
   "cell_type": "markdown",
   "metadata": {},
   "source": [
    "##3.2 Varying $\\nu$\n",
    "- Run H: For low $\\nu$, evolution time for $\\dot{M}_{acc}$ to settle down to steady state is much longer. The scaling relations still hold but the equatorial density is lower than in the high $\\nu$ case.\n",
    "- Run I: For high  $\\nu$, \n",
    "    - 1) Supersonic infall of material makes inside of the torus @ high P \n",
    "    - 2) Material reflect off the rotation axis and ejection of material along poles\n",
    "    - 3) Convection\n",
    "    - 4) Flow tries to settle down into steady state (as in the fiducial model) but since $\\dot{M}_{acc}$ \n",
    "       - power law relation for variables only hold for r>0.1 , non Keplerian rotation\n",
    "  - Run I': To exclude the violent phase of 1) and 2) that may be the reason why things aren't settling down, you can start off with the resulting state from the fiducial model Run A and gradually increasing $\\nu$ to the high $\\nu$ value \n",
    "      - we still observe large fluctuations in $\\dot{M}_{acc}$ "
   ]
  },
  {
   "cell_type": "markdown",
   "metadata": {},
   "source": [
    "## 3.3 Varying the form of Shear Stress \n",
    "- Run J : constant stress \n",
    "    - this is same with Run A as settle to steady state since $\\nu \\propto \\rho$ so constant density region $\\nu \\propto r$==> so same saturation time, large A convection and other effects of the inflow outflow solution observed. \n",
    "- Run K : stress $\\propto \\sqrt{r}$ which is surprisingly same convevction pattern as Run B (which is same as Run A but just low res simulation)\n",
    "    - difference: density at midplane decreases with radius and B <0 over almost the whole domain (i.e inflow everywhere) \n",
    "    - $\\dot{M}_{acc}$  constant $\\because$ $\\dot{M}_{in}$ and $\\dot{M}_{out}$  both increase rapidly with r (but same rate) \n",
    "    - looks like a rotating star in the sense that there is no global circulation pattern, energy is produced deep in the interior (of the torus, i.e. analogous to star) and then convected outwards evely at all angles."
   ]
  },
  {
   "cell_type": "markdown",
   "metadata": {},
   "source": [
    "##4. Discussion\n",
    "- In all models, independent of magnitude or functional form of stress and independent of EoS, $\\dot{M}_{in}\\approx \\dot{M}_{out}$ balance out, $\\dot{M}_{in} \\propto r $(except in Run K $\\propto r^{3/4}$. Close..)\n",
    "- entropy is a measure of how much energy is avaliable to the system and specific entropy of a system is the entropy of the unit mass of the system\n",
    "- \"inefficient accretion\" since $\\dot{M}_{in}(R_B)<<\\dot{M}_{in}(R_0)$\n",
    "- Limitation of this study:\n",
    "    - no B fields\n",
    "    - assumption of 2D axissymmetry (since PP instability is global instability of non axissymteric  perturbations) \n",
    "    - relatively small computational domain and simulation time\n",
    "\n",
    "##5. Conclusion\n",
    "- Inner region convective flow drives outflow at all angles which removes , m , l and E from the accretion flow.\n",
    "- Long time averages shows approaches steady-state solution at a marginally stable state according to the Hoiland criterion.\n",
    "- radial power law holds true everywhere (except sometimes r<0.1 region where P grad is too high) \n",
    "- not a lot of stuff is actually accreted onto the central region, most of them flow inwards to a smaller radii but are brought up to the poles and slowly outflowed via convection. "
   ]
  },
  {
   "cell_type": "markdown",
   "metadata": {},
   "source": [
    "#Questions: \n",
    "- (pg7)What is __Operator-splitting__ and how is it used to add in the shear stress terms separate from the dynamical equation? Also what is __time-explicit__ numerical technique? \n",
    "- (pg 20) How does strong convection and small scale diffusion \"mix\" the entropy of the fluid? "
   ]
  }
 ],
 "metadata": {
  "kernelspec": {
   "display_name": "Python 2",
   "language": "python",
   "name": "python2"
  },
  "language_info": {
   "codemirror_mode": {
    "name": "ipython",
    "version": 2
   },
   "file_extension": ".py",
   "mimetype": "text/x-python",
   "name": "python",
   "nbconvert_exporter": "python",
   "pygments_lexer": "ipython2",
   "version": "2.7.9"
  }
 },
 "nbformat": 4,
 "nbformat_minor": 0
}
