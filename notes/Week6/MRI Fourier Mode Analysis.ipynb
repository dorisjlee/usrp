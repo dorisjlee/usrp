{
 "cells": [
  {
   "cell_type": "code",
   "execution_count": 1,
   "metadata": {
    "collapsed": false
   },
   "outputs": [
    {
     "name": "stdout",
     "output_type": "stream",
     "text": [
      "Populating the interactive namespace from numpy and matplotlib\n"
     ]
    }
   ],
   "source": [
    "%pylab inline"
   ]
  },
  {
   "cell_type": "markdown",
   "metadata": {
    "collapsed": true
   },
   "source": [
    "### change code so that using MESHBLOCK ID to initialize random seed"
   ]
  },
  {
   "cell_type": "code",
   "execution_count": 2,
   "metadata": {
    "collapsed": false
   },
   "outputs": [
    {
     "name": "stdout",
     "output_type": "stream",
     "text": [
      "/global/scratch2/sd/dorislee/athena_2/mri_hi_res\n"
     ]
    }
   ],
   "source": [
    "cd ~/gscratch/athena_2/mri_hi_res/"
   ]
  },
  {
   "cell_type": "code",
   "execution_count": 3,
   "metadata": {
    "collapsed": true
   },
   "outputs": [],
   "source": [
    "import sys\n",
    "sys.path.remove('/global/homes/d/dorislee/.local/lib/python2.7/site-packages/yt-3.2.dev0-py2.7-linux-x86_64.egg')\n",
    "sys.path.remove('/global/homes/d/dorislee/.local/lib/python2.7/site-packages')\n",
    "sys.path.append('/global/homes/d/dorislee/mypythonpackages')"
   ]
  },
  {
   "cell_type": "code",
   "execution_count": 4,
   "metadata": {
    "collapsed": false
   },
   "outputs": [],
   "source": [
    "import h5py\n",
    "import glob"
   ]
  },
  {
   "cell_type": "code",
   "execution_count": 8,
   "metadata": {
    "collapsed": true
   },
   "outputs": [],
   "source": [
    "def compute_fastest_growing_mode(tstep_filename,debug=False):\n",
    "    if debug: print \"Working on {}\".format(tstep_filename) \n",
    "    hdf5 = h5py.File(tstep_filename, 'r+')\n",
    "    NUM_MESHBLOCK=96\n",
    "    D = np.zeros(128)\n",
    "    for M in np.arange(NUM_MESHBLOCK):\n",
    "        meshblock =hdf5[\"MeshBlock{}\".format(M)]\n",
    "        density= meshblock[\"rho\"].value#density for each meshblock\n",
    "        N_r = density.shape[2]\n",
    "        N_theta=density.shape[1]\n",
    "        N_phi= density.shape[0]\n",
    "        x1f = meshblock[\"x1f\"].value\n",
    "        x2f = meshblock[\"x2f\"].value\n",
    "        for n in np.arange(N_phi):\n",
    "            loc = meshblock.attrs[\"LogicalLocation\"]\n",
    "            phi_i =n+32*loc[2]\n",
    "            #Compute D_i in each meshblock\n",
    "            m=0#mass summed over r,theta per density slice\n",
    "            for ti in np.arange(N_theta):\n",
    "                thetai = (x2f[ti]+x2f[ti+1])*0.5\n",
    "                dthetai = abs(x2f[ti]-x2f[ti+1])\n",
    "                for rii in np.arange(N_r):\n",
    "                    #for each cell compute the coordinate to calculate the mass in each cell\n",
    "                    ri = (x1f[rii]+x1f[rii+1])*0.5\n",
    "                    dri = abs(x1f[rii]-x1f[rii+1])\n",
    "                    m=m+density[n,ti,rii]*(ri*ri)*sin(thetai)*dri*dthetai\n",
    "            D[phi_i]=D[phi_i]+m\n",
    "    if debug: print \"D:\",D\n",
    "    plt.plot(D)\n",
    "    amp = float(real(max(np.fft.fft(D))))\n",
    "    if debug: print \"amp:\", amp\n",
    "    return D"
   ]
  },
  {
   "cell_type": "code",
   "execution_count": 9,
   "metadata": {
    "collapsed": false
   },
   "outputs": [
    {
     "name": "stdout",
     "output_type": "stream",
     "text": [
      "Working on mri_hires_smaller.out1.00034.ath\n",
      "D: [ 0.16839255  0.16690142  0.16520678  0.16339831  0.16144811  0.15940159\n",
      "  0.15749392  0.15586893  0.15451077  0.15344197  0.15251203  0.15146271\n",
      "  0.15023463  0.14883368  0.14727888  0.14583088  0.14481303  0.14427433\n",
      "  0.14411097  0.14418736  0.14434121  0.1444407   0.14442564  0.14419466\n",
      "  0.14378307  0.14328031  0.14276469  0.14222719  0.14182543  0.14167557\n",
      "  0.14184169  0.14226095  0.1427506   0.14318088  0.14358748  0.14396853\n",
      "  0.14430176  0.14464288  0.14502322  0.14553225  0.14620541  0.14703426\n",
      "  0.14804147  0.14913057  0.15019947  0.15127322  0.15237727  0.15349234\n",
      "  0.15455152  0.15545616  0.15622883  0.15689684  0.15750335  0.15814726\n",
      "  0.15886404  0.15969543  0.16066002  0.16177772  0.16298771  0.16420294\n",
      "  0.16538598  0.16634827  0.16705116  0.16758379  0.16806556  0.16862852\n",
      "  0.16927246  0.16997621  0.17080844  0.17181565  0.17298252  0.1741956\n",
      "  0.17539869  0.17645066  0.17727601  0.17784146  0.17814866  0.17825398\n",
      "  0.17814308  0.17797966  0.17790554  0.17801978  0.17840795  0.17916193\n",
      "  0.18020192  0.1814219   0.18264265  0.18376791  0.18464063  0.18529648\n",
      "  0.1859225   0.18667992  0.18761988  0.18854465  0.18931411  0.18966113\n",
      "  0.18933951  0.18837998  0.18711771  0.18582098  0.18465572  0.18370074\n",
      "  0.18292265  0.18229867  0.18170043  0.18108122  0.18049263  0.1799992\n",
      "  0.17951573  0.17898198  0.17841603  0.17787586  0.17743441  0.17707668\n",
      "  0.17678444  0.1765616   0.17639254  0.17617487  0.17575157  0.17514514\n",
      "  0.17442988  0.17367309  0.17297944  0.17237457  0.17180407  0.17120869\n",
      "  0.17050835  0.1695981 ]\n",
      "amp: 21.1553891231\n"
     ]
    },
    {
     "data": {
      "image/png": "[encoded data removed]",
      "text/plain": [
       "<matplotlib.figure.Figure at 0x2b5830656250>"
      ]
     },
     "metadata": {},
     "output_type": "display_data"
    }
   ],
   "source": [
    "density= compute_fastest_growing_mode(\"mri_hires_smaller.out1.00034.ath\",True)"
   ]
  },
  {
   "cell_type": "markdown",
   "metadata": {},
   "source": [
    "So this is good, we can see a clear m=1 mode but other modes are also pretty dominate in the nonsmooth feature "
   ]
  },
  {
   "cell_type": "code",
   "execution_count": 13,
   "metadata": {
    "collapsed": false
   },
   "outputs": [
    {
     "data": {
      "text/plain": [
       "u'/global/scratch2/sd/dorislee/athena_2/mri_hi_res'"
      ]
     },
     "execution_count": 13,
     "metadata": {},
     "output_type": "execute_result"
    }
   ],
   "source": [
    "pwd"
   ]
  },
  {
   "cell_type": "code",
   "execution_count": 23,
   "metadata": {
    "collapsed": false
   },
   "outputs": [
    {
     "data": {
      "image/png": "[encoded data removed]",
      "text/plain": [
       "<matplotlib.figure.Figure at 0x2b5830b55c90>"
      ]
     },
     "metadata": {},
     "output_type": "display_data"
    }
   ],
   "source": [
    "from matplotlib.legend_handler import HandlerLine2D\n",
    "import matplotlib.ticker as mtick\n",
    "fig, ax = plt.subplots()\n",
    "amp =  np.loadtxt(\"amp.txt\")\n",
    "t_orbits  = np.arange(len(amp))/2./np.pi\n",
    "plt.ylabel(\"log$_e$(Mode Amplitude)\",fontsize=15)\n",
    "plt.xlabel(\"t [orbits]\",fontsize=15)\n",
    "# plt.semilogy(t_orbits,amp[:,1])\n",
    "plt.semilogy(t_orbits,amp[:,1],label=\"m=1\",basey=np.e)\n",
    "plt.semilogy(t_orbits,amp[:,2],label=\"m=2\",basey=np.e)\n",
    "plt.semilogy(t_orbits,amp[:,3],label=\"m=3\",basey=np.e)\n",
    "plt.semilogy(t_orbits,amp[:,4],label=\"m=4\",basey=np.e)\n",
    "plt.semilogy(t_orbits,amp[:,5],label=\"m=5\",basey=np.e)\n",
    "x_min=5\n",
    "x_max=10\n",
    "# plt.axvline(x_min,color='r',linestyle=\"--\")\n",
    "# plt.axvline(x_max,color='r',linestyle=\"--\")\n",
    "# plt.xlim(0,4)\n",
    "plt.title(\"MRI Random Initialization at 1%\",fontsize=15)\n",
    "plt.legend(loc='lower right',prop={'size':11},numpoints=1)\n",
    "def ticks(y, pos):\n",
    "    return r'{:.0f}'.format(np.log(y))\n",
    "ax.yaxis.set_major_formatter(mtick.FuncFormatter(ticks))\n",
    "# plt.savefig(\"randinit1percent.pdf\",format=\"pdf\")"
   ]
  },
  {
   "cell_type": "markdown",
   "metadata": {},
   "source": [
    "### Computing Mode Growth using a smaller-timestep resolution run"
   ]
  },
  {
   "cell_type": "code",
   "execution_count": 210,
   "metadata": {
    "collapsed": false
   },
   "outputs": [
    {
     "name": "stdout",
     "output_type": "stream",
     "text": [
      "1.21915151552 -8.66630591337\n",
      "Growth Rate is:  0.820242592716\n"
     ]
    },
    {
     "data": {
      "image/png": "[encoded data removed]",
      "text/plain": [
       "<matplotlib.figure.Figure at 0x2ba731c61950>"
      ]
     },
     "metadata": {},
     "output_type": "display_data"
    }
   ],
   "source": [
    "m=1\n",
    "start=16\n",
    "end=23\n",
    "x = t_orbits[start:end]\n",
    "y=log(amp[start:end,m])\n",
    "# A = np.vstack([x, np.ones(len(x))]).T\n",
    "plt.plot(x,y,label=\"m=1\")#,basey=np.e)\n",
    "m, c = np.linalg.lstsq(A, y)[0]\n",
    "print m, c\n",
    "x_fit = np.linspace(2.5,3.5)\n",
    "y_fit = m*x_fit+c\n",
    "plt.plot(x_fit,y_fit,'--',color='red')\n",
    "print \"Growth Rate is: \",1./m"
   ]
  },
  {
   "cell_type": "code",
   "execution_count": 208,
   "metadata": {
    "collapsed": false
   },
   "outputs": [
    {
     "name": "stdout",
     "output_type": "stream",
     "text": [
      "For Mode m= 1\n",
      "Growth rate:  0.821959421918 orbital time\n",
      "For Mode m= 2\n",
      "Growth rate:  -0.67298285412 orbital time\n",
      "For Mode m= 3\n",
      "Growth rate:  3.75635864618 orbital time\n"
     ]
    }
   ],
   "source": [
    "compute_mode_growth(1,16,23)\n",
    "compute_mode_growth(2,16,23)\n",
    "compute_mode_growth(3,16,23)"
   ]
  },
  {
   "cell_type": "code",
   "execution_count": 175,
   "metadata": {
    "collapsed": false,
    "scrolled": false
   },
   "outputs": [],
   "source": [
    "def compute_mode_growth(m,x_min,x_max):\n",
    "    y_min = amp[x_min,:][m]\n",
    "    y_max = amp[x_max,:][m]\n",
    "    print \"For Mode m=\",m\n",
    "    e_folding_time = (x_max-x_min)/log(y_max/y_min)\n",
    "    print \"Growth rate: \",e_folding_time/2./pi ,\"orbital time\""
   ]
  },
  {
   "cell_type": "markdown",
   "metadata": {},
   "source": [
    "Computing m=1 mode growth"
   ]
  },
  {
   "cell_type": "code",
   "execution_count": 90,
   "metadata": {
    "collapsed": false
   },
   "outputs": [
    {
     "name": "stdout",
     "output_type": "stream",
     "text": [
      "For Mode m= 1\n",
      "Growth rate:  0.364176702871 orbital time\n",
      "For Mode m= 2\n",
      "Growth rate:  0.813682457409 orbital time\n",
      "For Mode m= 3\n",
      "Growth rate:  0.569244225967 orbital time\n"
     ]
    }
   ],
   "source": [
    "compute_mode_growth(1,2,10)\n",
    "compute_mode_growth(2,7,10)\n",
    "compute_mode_growth(3,9,10.5)\n",
    "# compute_mode_growth(4,7,10)\n",
    "# compute_mode_growth(5,7,10)\n"
   ]
  },
  {
   "cell_type": "markdown",
   "metadata": {},
   "source": [
    "#### Least square fitting "
   ]
  },
  {
   "cell_type": "code",
   "execution_count": 109,
   "metadata": {
    "collapsed": false
   },
   "outputs": [
    {
     "name": "stdout",
     "output_type": "stream",
     "text": [
      "1.15208755615 -8.41514168371\n",
      "Growth Rate is:  0.867989585218\n"
     ]
    },
    {
     "data": {
      "image/png": "[encoded data removed]",
      "text/plain": [
       "<matplotlib.figure.Figure at 0x2ba731035b50>"
      ]
     },
     "metadata": {},
     "output_type": "display_data"
    }
   ],
   "source": [
    "start=10\n",
    "end=65\n",
    "x = t_orbits[start:end]\n",
    "y=log(amp[start:end,1])\n",
    "A = np.vstack([x, np.ones(len(x))]).T\n",
    "plt.plot(x,y,label=\"m=1\")#,basey=np.e)\n",
    "m, c = np.linalg.lstsq(A, y)[0]\n",
    "print m, c\n",
    "x_fit = np.linspace(2,10)\n",
    "y_fit = m*x_fit+c\n",
    "plt.plot(x_fit,y_fit,'--',color='red')\n",
    "print \"Growth Rate is: \",1./m"
   ]
  },
  {
   "cell_type": "code",
   "execution_count": 224,
   "metadata": {
    "collapsed": false
   },
   "outputs": [
    {
     "name": "stdout",
     "output_type": "stream",
     "text": [
      "2.12713926655 -18.887793733\n",
      "Growth Rate is:  0.470114964134\n"
     ]
    },
    {
     "data": {
      "image/png": "[encoded data removed]",
      "text/plain": [
       "<matplotlib.figure.Figure at 0x2ba72df52a50>"
      ]
     },
     "metadata": {},
     "output_type": "display_data"
    }
   ],
   "source": [
    "m=2\n",
    "start=45\n",
    "end=60\n",
    "x = t_orbits[start:end]\n",
    "y=log(amp[start:end,m])\n",
    "A = np.vstack([x, np.ones(len(x))]).T\n",
    "plt.plot(x,y,label=\"m=1\")#,basey=np.e)\n",
    "m, c = np.linalg.lstsq(A, y)[0]\n",
    "print m, c\n",
    "x_fit = np.linspace(6,10)\n",
    "y_fit = m*x_fit+c\n",
    "plt.plot(x_fit,y_fit,'--',color='red')\n",
    "print \"Growth Rate is: \",1./m"
   ]
  },
  {
   "cell_type": "code",
   "execution_count": 232,
   "metadata": {
    "collapsed": false
   },
   "outputs": [
    {
     "name": "stdout",
     "output_type": "stream",
     "text": [
      "2.66190073803 -26.1109943464\n",
      "Growth Rate is:  0.375671408671\n"
     ]
    },
    {
     "data": {
      "image/png": "[encoded data removed]",
      "text/plain": [
       "<matplotlib.figure.Figure at 0x2ba731c9db90>"
      ]
     },
     "metadata": {},
     "output_type": "display_data"
    }
   ],
   "source": [
    "m=3\n",
    "start=46\n",
    "end=60\n",
    "x = t_orbits[start:end]\n",
    "y=log(amp[start:end,m])\n",
    "A = np.vstack([x, np.ones(len(x))]).T\n",
    "plt.plot(x,y,label=\"m=1\")#,basey=np.e)\n",
    "m, c = np.linalg.lstsq(A, y)[0]\n",
    "print m, c\n",
    "x_fit = np.linspace(6,10)\n",
    "y_fit = m*x_fit+c\n",
    "plt.plot(x_fit,y_fit,'--',color='red')\n",
    "print \"Growth Rate is: \",1./m"
   ]
  },
  {
   "cell_type": "code",
   "execution_count": 197,
   "metadata": {
    "collapsed": false
   },
   "outputs": [
    {
     "name": "stdout",
     "output_type": "stream",
     "text": [
      "For Mode m= 1\n",
      "Growth rate:  0.326219065722 orbital time\n",
      "For Mode m= 2\n",
      "Growth rate:  0.467568215303 orbital time\n",
      "For Mode m= 3\n",
      "Growth rate:  0.344111420548 orbital time\n"
     ]
    }
   ],
   "source": [
    "compute_mode_growth(1,1,8)\n",
    "compute_mode_growth(2,10,15)\n",
    "compute_mode_growth(3,10,15)"
   ]
  },
  {
   "cell_type": "code",
   "execution_count": null,
   "metadata": {
    "collapsed": true
   },
   "outputs": [],
   "source": []
  }
 ],
 "metadata": {
  "kernelspec": {
   "display_name": "Python 2",
   "language": "python",
   "name": "python2"
  },
  "language_info": {
   "codemirror_mode": {
    "name": "ipython",
    "version": 2
   },
   "file_extension": ".py",
   "mimetype": "text/x-python",
   "name": "python",
   "nbconvert_exporter": "python",
   "pygments_lexer": "ipython2",
   "version": "2.7.10"
  }
 },
 "nbformat": 4,
 "nbformat_minor": 0
}
