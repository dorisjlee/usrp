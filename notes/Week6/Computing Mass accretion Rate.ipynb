{
 "cells": [
  {
   "cell_type": "markdown",
   "metadata": {},
   "source": [
    "$$\\dot{M} = \\int \\rho v_r \\Delta S $$"
   ]
  },
  {
   "cell_type": "code",
   "execution_count": 20,
   "metadata": {
    "collapsed": false
   },
   "outputs": [
    {
     "name": "stdout",
     "output_type": "stream",
     "text": [
      "Populating the interactive namespace from numpy and matplotlib\n"
     ]
    }
   ],
   "source": [
    "%pylab inline"
   ]
  },
  {
   "cell_type": "code",
   "execution_count": 4,
   "metadata": {
    "collapsed": false
   },
   "outputs": [
    {
     "name": "stdout",
     "output_type": "stream",
     "text": [
      "/global/scratch2/sd/dorislee/athena_2/mri_hi_res\n"
     ]
    }
   ],
   "source": [
    "cd ~/gscratch/athena_2/mri_hi_res/"
   ]
  },
  {
   "cell_type": "code",
   "execution_count": null,
   "metadata": {
    "collapsed": true
   },
   "outputs": [],
   "source": [
    "import sys\n",
    "sys.path.remove('/global/homes/d/dorislee/.local/lib/python2.7/site-packages/yt-3.2.dev0-py2.7-linux-x86_64.egg')\n",
    "sys.path.remove('/global/homes/d/dorislee/.local/lib/python2.7/site-packages')\n",
    "sys.path.append('/global/homes/d/dorislee/mypythonpackages')"
   ]
  },
  {
   "cell_type": "code",
   "execution_count": 28,
   "metadata": {
    "collapsed": true
   },
   "outputs": [],
   "source": [
    "tstep_filename  = \"mri_hires_smaller.out1.00085.ath\""
   ]
  },
  {
   "cell_type": "code",
   "execution_count": 30,
   "metadata": {
    "collapsed": false
   },
   "outputs": [
    {
     "name": "stdout",
     "output_type": "stream",
     "text": [
      "Working on mri_hires_smaller.out1.00085.ath\n"
     ]
    }
   ],
   "source": [
    "import h5py\n",
    "import glob\n",
    "debug =True\n",
    "if debug: print \"Working on {}\".format(tstep_filename) \n",
    "hdf5 = h5py.File(tstep_filename, 'r+')\n",
    "NUM_MESHBLOCK=96\n",
    "D = np.zeros(128)"
   ]
  },
  {
   "cell_type": "code",
   "execution_count": 31,
   "metadata": {
    "collapsed": false
   },
   "outputs": [],
   "source": [
    "meshblock =hdf5[\"MeshBlock9\"]"
   ]
  },
  {
   "cell_type": "markdown",
   "metadata": {},
   "source": [
    "192x128x128 $\\rightarrow 32^3 \\rightarrow$ each meshblock is 6x4x4"
   ]
  },
  {
   "cell_type": "code",
   "execution_count": 42,
   "metadata": {
    "collapsed": false
   },
   "outputs": [
    {
     "name": "stdout",
     "output_type": "stream",
     "text": [
      "Working on mri_hires_smaller.out1.00085.ath\n",
      "[ -9.41336870e-06   1.01867471e-06   3.72160361e-05   8.72201934e-05\n",
      "   1.42749099e-04   2.21731475e-04   2.99646495e-04   3.47575016e-04\n",
      "   3.58893399e-04   3.57794111e-04   3.70101307e-04   3.97841264e-04\n",
      "   4.14626282e-04   4.24458251e-04   4.49410874e-04   4.82165467e-04\n",
      "   4.86371715e-04   4.68899167e-04   4.47929838e-04   4.33837609e-04\n",
      "   4.45169467e-04   4.98986155e-04   5.64795845e-04   6.27318377e-04\n",
      "   6.98681345e-04   7.78609883e-04   8.44980820e-04   8.90435093e-04\n",
      "   9.23903097e-04   9.44618088e-04   9.51175588e-04   9.46285730e-04\n",
      "   6.82867770e-05   9.22793934e-05   5.05255397e-05  -4.71571536e-05\n",
      "  -1.63619571e-04  -2.96485601e-04  -3.99281257e-04  -4.64597623e-04\n",
      "  -5.18702403e-04  -5.67537841e-04  -6.08653751e-04  -6.52858756e-04\n",
      "  -6.77083206e-04  -6.66775540e-04  -6.38360389e-04  -6.07054536e-04\n",
      "  -5.78272870e-04  -5.50382507e-04  -5.19310832e-04  -4.95574863e-04\n",
      "  -4.88123056e-04  -5.09589167e-04  -5.70113866e-04  -6.64900922e-04\n",
      "  -7.76561036e-04  -8.76339443e-04  -9.57806271e-04  -1.01719759e-03\n",
      "  -1.04134106e-03  -1.02397411e-03  -9.77844997e-04  -9.09056603e-04\n",
      "  -5.82743413e-05  -1.11154737e-04  -1.71282433e-04  -2.00324158e-04\n",
      "  -1.98065043e-04  -1.96164625e-04  -1.86793952e-04  -1.72438179e-04\n",
      "  -1.56525618e-04  -1.38823905e-04  -1.28834300e-04  -1.27621912e-04\n",
      "  -1.29402177e-04  -1.38654986e-04  -1.71151928e-04  -2.21321032e-04\n",
      "  -2.74098987e-04  -3.09010404e-04  -3.36454356e-04  -3.63785735e-04\n",
      "  -3.70723505e-04  -3.44908444e-04  -3.02728521e-04  -2.61743240e-04\n",
      "  -2.21279161e-04  -1.55233459e-04  -8.86181590e-05  -4.56170302e-05\n",
      "  -2.21733313e-05  -3.76033293e-05  -1.02793256e-04  -1.79840519e-04\n",
      "  -1.05791693e-04  -2.19221537e-04  -3.56017012e-04  -5.00691310e-04\n",
      "  -6.54948232e-04  -7.99252187e-04  -9.30076855e-04  -1.05693766e-03\n",
      "  -1.16252749e-03  -1.22228063e-03  -1.23365947e-03  -1.22991231e-03\n",
      "  -1.22366186e-03  -1.23171293e-03  -1.27594298e-03  -1.34564106e-03\n",
      "  -1.42454313e-03  -1.49838434e-03  -1.57088351e-03  -1.64177351e-03\n",
      "  -1.71905609e-03  -1.83372579e-03  -1.99488415e-03  -2.18463448e-03\n",
      "  -2.36594150e-03  -2.51059106e-03  -2.62840066e-03  -2.72458817e-03\n",
      "  -2.82331011e-03  -2.93542239e-03  -3.03946886e-03  -3.15206138e-03]\n"
     ]
    }
   ],
   "source": [
    "debug =True\n",
    "if debug: print \"Working on {}\".format(tstep_filename) \n",
    "hdf5 = h5py.File(tstep_filename, 'r+')\n",
    "NUM_MESHBLOCK=96\n",
    "D = np.zeros(128)\n",
    "for M in np.arange(NUM_MESHBLOCK):\n",
    "#     print \"Working on MeshBlock {}\".format(M)\n",
    "    meshblock =hdf5[\"MeshBlock{}\".format(M)]\n",
    "    density= meshblock[\"rho\"].value#density for each meshblock\n",
    "    N_r = density.shape[2]\n",
    "    N_theta=density.shape[1]\n",
    "    N_phi= density.shape[0]\n",
    "    x1f = meshblock[\"x1f\"].value\n",
    "    x2f = meshblock[\"x2f\"].value\n",
    "    x3f = meshblock[\"x3f\"].value\n",
    "    vr = meshblock[\"vel1\"].value\n",
    "    loc = meshblock.attrs[\"LogicalLocation\"]\n",
    "#     for rii in np.arange(N_r):\n",
    "#         phi_i =n+32*loc[2]\n",
    "        #Compute D_i in each meshblock\n",
    "#         if rii = 0\n",
    "    rii=0 # we only want the mass flux onto the inner most cell\n",
    "    val=0 #val=integrand to sum over rho*vr*dS\n",
    "    ri = (x1f[rii]+x1f[rii+1])*0.5\n",
    "    dri = abs(x1f[rii]-x1f[rii+1])\n",
    "    for ti in np.arange(N_theta):\n",
    "        tii =ti+32*loc[2]\n",
    "        thetai = (x2f[ti]+x2f[ti+1])*0.5\n",
    "        dthetai = abs(x2f[ti]-x2f[ti+1])\n",
    "        for pii in np.arange(N_phi):\n",
    "            dphii=abs(x3f[ti]-x3f[ti+1])\n",
    "            dS= ri*sin(thetai)*dri*dphii\n",
    "            val = val +density[pii,ti,rii]*vr[pii,ti,rii]*dS\n",
    "        D[tii]=D[tii]+val\n",
    "print D"
   ]
  },
  {
   "cell_type": "code",
   "execution_count": 46,
   "metadata": {
    "collapsed": false
   },
   "outputs": [
    {
     "name": "stdout",
     "output_type": "stream",
     "text": [
      "Mass accretion rate:  -0.0592378218406\n"
     ]
    }
   ],
   "source": [
    "print \"Mass accretion rate: \", sum(D)"
   ]
  },
  {
   "cell_type": "code",
   "execution_count": null,
   "metadata": {
    "collapsed": true
   },
   "outputs": [],
   "source": []
  }
 ],
 "metadata": {
  "kernelspec": {
   "display_name": "Python 2",
   "language": "python",
   "name": "python2"
  },
  "language_info": {
   "codemirror_mode": {
    "name": "ipython",
    "version": 2
   },
   "file_extension": ".py",
   "mimetype": "text/x-python",
   "name": "python",
   "nbconvert_exporter": "python",
   "pygments_lexer": "ipython2",
   "version": "2.7.10"
  }
 },
 "nbformat": 4,
 "nbformat_minor": 0
}
