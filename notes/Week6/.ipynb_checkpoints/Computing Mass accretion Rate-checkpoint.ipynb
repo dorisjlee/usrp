{
 "cells": [
  {
   "cell_type": "markdown",
   "metadata": {},
   "source": [
    "$$\\dot{M} = \\int \\rho v_r \\Delta S $$"
   ]
  },
  {
   "cell_type": "code",
   "execution_count": 20,
   "metadata": {
    "collapsed": false
   },
   "outputs": [
    {
     "name": "stdout",
     "output_type": "stream",
     "text": [
      "Populating the interactive namespace from numpy and matplotlib\n"
     ]
    }
   ],
   "source": [
    "%pylab inline"
   ]
  },
  {
   "cell_type": "code",
   "execution_count": 4,
   "metadata": {
    "collapsed": false
   },
   "outputs": [
    {
     "name": "stdout",
     "output_type": "stream",
     "text": [
      "/global/scratch2/sd/dorislee/athena_2/mri_hi_res\n"
     ]
    }
   ],
   "source": [
    "cd ~/gscratch/athena_2/mri_hi_res/"
   ]
  },
  {
   "cell_type": "code",
   "execution_count": null,
   "metadata": {
    "collapsed": true
   },
   "outputs": [],
   "source": [
    "import sys\n",
    "sys.path.remove('/global/homes/d/dorislee/.local/lib/python2.7/site-packages/yt-3.2.dev0-py2.7-linux-x86_64.egg')\n",
    "sys.path.remove('/global/homes/d/dorislee/.local/lib/python2.7/site-packages')\n",
    "sys.path.append('/global/homes/d/dorislee/mypythonpackages')"
   ]
  },
  {
   "cell_type": "code",
   "execution_count": 28,
   "metadata": {
    "collapsed": true
   },
   "outputs": [],
   "source": [
    "tstep_filename  = \"mri_hires_smaller.out1.00085.ath\""
   ]
  },
  {
   "cell_type": "code",
   "execution_count": 30,
   "metadata": {
    "collapsed": false
   },
   "outputs": [
    {
     "name": "stdout",
     "output_type": "stream",
     "text": [
      "Working on mri_hires_smaller.out1.00085.ath\n"
     ]
    }
   ],
   "source": [
    "import h5py\n",
    "import glob\n",
    "debug =True\n",
    "if debug: print \"Working on {}\".format(tstep_filename) \n",
    "hdf5 = h5py.File(tstep_filename, 'r+')\n",
    "NUM_MESHBLOCK=96\n",
    "D = np.zeros(128)"
   ]
  },
  {
   "cell_type": "code",
   "execution_count": 31,
   "metadata": {
    "collapsed": false
   },
   "outputs": [],
   "source": [
    "meshblock =hdf5[\"MeshBlock9\"]"
   ]
  },
  {
   "cell_type": "markdown",
   "metadata": {},
   "source": [
    "192x128x128 $\\rightarrow 32^3 \\rightarrow$ each meshblock is 6x4x4"
   ]
  },
  {
   "cell_type": "code",
   "execution_count": 36,
   "metadata": {
    "collapsed": false
   },
   "outputs": [
    {
     "name": "stdout",
     "output_type": "stream",
     "text": [
      "Working on mri_hires_smaller.out1.00085.ath\n",
      "[ 0.         0.         0.         0.         0.         0.         0.         0.\n",
      "  0.         0.         0.         0.         0.         0.         0.         0.\n",
      "  0.         0.         0.         0.         0.         0.         0.         0.\n",
      "  0.         0.         0.         0.         0.         0.         0.\n",
      " -0.0356244  0.         0.         0.         0.         0.         0.         0.\n",
      "  0.         0.         0.         0.         0.         0.         0.         0.\n",
      "  0.         0.         0.         0.         0.         0.         0.         0.\n",
      "  0.         0.         0.         0.         0.         0.         0.         0.\n",
      "  0.         0.         0.         0.         0.         0.         0.         0.\n",
      "  0.         0.         0.         0.         0.         0.         0.         0.\n",
      "  0.         0.         0.         0.         0.         0.         0.         0.\n",
      "  0.         0.         0.         0.         0.         0.         0.         0.\n",
      "  0.         0.         0.         0.         0.         0.         0.         0.\n",
      "  0.         0.         0.         0.         0.         0.         0.         0.\n",
      "  0.         0.         0.         0.         0.         0.         0.         0.\n",
      "  0.         0.         0.         0.         0.         0.         0.         0.\n",
      "  0.       ]\n"
     ]
    }
   ],
   "source": [
    "debug =True\n",
    "if debug: print \"Working on {}\".format(tstep_filename) \n",
    "hdf5 = h5py.File(tstep_filename, 'r+')\n",
    "NUM_MESHBLOCK=96\n",
    "D = np.zeros(128)\n",
    "for M in np.arange(NUM_MESHBLOCK):\n",
    "    meshblock =hdf5[\"MeshBlock{}\".format(M)]\n",
    "    density= meshblock[\"rho\"].value#density for each meshblock\n",
    "    N_r = density.shape[2]\n",
    "    N_theta=density.shape[1]\n",
    "    N_phi= density.shape[0]\n",
    "    x1f = meshblock[\"x1f\"].value\n",
    "    x2f = meshblock[\"x2f\"].value\n",
    "    x3f = meshblock[\"x3f\"].value\n",
    "    vr = meshblock[\"vel1\"].value\n",
    "    loc = meshblock.attrs[\"LogicalLocation\"]\n",
    "#     for rii in np.arange(N_r):\n",
    "#         phi_i =n+32*loc[2]\n",
    "        #Compute D_i in each meshblock\n",
    "#         if rii = 0\n",
    "    rii=0 # we only want the mass flux onto the inner most cell\n",
    "    val=0 #val=integrand to sum over rho*vr*dS\n",
    "    ri = (x1f[rii]+x1f[rii+1])*0.5\n",
    "    dri = abs(x1f[rii]-x1f[rii+1])\n",
    "    for ti in np.arange(N_theta):\n",
    "        thetai = (x2f[ti]+x2f[ti+1])*0.5\n",
    "        dthetai = abs(x2f[ti]-x2f[ti+1])\n",
    "        for pii in np.arange(N_phi):\n",
    "            dphii=abs(x3f[ti]-x3f[ti+1])\n",
    "            dS= ri*sin(thetai)*dri*dphii\n",
    "            val = val +density[pii,ti,rii]*vr[pii,ti,rii]*dS\n",
    "        D[ti]=D[ti]+val\n",
    "print D"
   ]
  },
  {
   "cell_type": "code",
   "execution_count": null,
   "metadata": {
    "collapsed": true
   },
   "outputs": [],
   "source": []
  }
 ],
 "metadata": {
  "kernelspec": {
   "display_name": "Python 2",
   "language": "python",
   "name": "python2"
  },
  "language_info": {
   "codemirror_mode": {
    "name": "ipython",
    "version": 2
   },
   "file_extension": ".py",
   "mimetype": "text/x-python",
   "name": "python",
   "nbconvert_exporter": "python",
   "pygments_lexer": "ipython2",
   "version": "2.7.10"
  }
 },
 "nbformat": 4,
 "nbformat_minor": 0
}
