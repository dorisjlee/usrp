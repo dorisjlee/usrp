{
 "cells": [
  {
   "cell_type": "markdown",
   "metadata": {},
   "source": [
    "## Sphtorus Runs"
   ]
  },
  {
   "cell_type": "markdown",
   "metadata": {},
   "source": [
    "Got up and found all the sphtorus jobs that I submitted have stopped at this cycle limit. maybe something different is done in the new code so that there is smaller dt taken? "
   ]
  },
  {
   "cell_type": "raw",
   "metadata": {},
   "source": [
    "cycle=499999 time=8.61011166866299e+00 dt=1.36251693356200e-07\n",
    "cycle=500000 time=8.610112e+00 dt=1.362513e-07\n",
    "\n",
    "Terminating on cycle limit\n",
    "time=8.610112e+00 cycle=500000\n",
    "tlim=2.000000e+01 nlim=500000\n",
    "\n",
    "cpu time used  = 7.788460e+03\n",
    "zone-cycles/cpu_second = 1.051812e+06"
   ]
  },
  {
   "cell_type": "markdown",
   "metadata": {},
   "source": [
    "I've noticed that the time step got very small from e-3 all the way down to e-7.'"
   ]
  },
  {
   "cell_type": "markdown",
   "metadata": {},
   "source": [
    "took out this line ``nlim            = 500000   # cycle limit``"
   ]
  },
  {
   "cell_type": "markdown",
   "metadata": {},
   "source": [
    "It's also interesting how the 2D case hit the cycle limit much faster than the 3D cases (at t~8.6) "
   ]
  },
  {
   "cell_type": "raw",
   "metadata": {
    "collapsed": true
   },
   "source": [
    "cycle=499999 time=6.52953805488608e+00 dt=6.93870389640374e-08\n",
    "cycle=500000 time=6.529538e+00 dt=6.938666e-08\n",
    "\n",
    "Terminating on cycle limit"
   ]
  },
  {
   "cell_type": "code",
   "execution_count": null,
   "metadata": {
    "collapsed": true
   },
   "outputs": [],
   "source": []
  }
 ],
 "metadata": {
  "kernelspec": {
   "display_name": "Python 2",
   "language": "python",
   "name": "python2"
  },
  "language_info": {
   "codemirror_mode": {
    "name": "ipython",
    "version": 2
   },
   "file_extension": ".py",
   "mimetype": "text/x-python",
   "name": "python",
   "nbconvert_exporter": "python",
   "pygments_lexer": "ipython2",
   "version": "2.7.9"
  }
 },
 "nbformat": 4,
 "nbformat_minor": 0
}
