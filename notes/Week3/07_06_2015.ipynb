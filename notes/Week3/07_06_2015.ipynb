{
 "cells": [
  {
   "cell_type": "markdown",
   "metadata": {},
   "source": [
    "For the first run sphtorus"
   ]
  },
  {
   "cell_type": "raw",
   "metadata": {
    "collapsed": true
   },
   "source": [
    "cycle=79899 time=3.725929e+00 next dt=5.783573e-05 last dt=5.307366e-05\n",
    "\n",
    "terminating on time limit\n",
    "  tlim= 3.725929e+00   nlim= 500000\n",
    "  time= 3.725929e+00  cycle= 79899\n",
    "\n",
    "zone-cycles/cpu-second = 3.771668e+05\n",
    "\n",
    "elapsed wall time = 2.774603e+04 sec.\n",
    "\n",
    "zone-cycles/wall-second = 3.774422e+05\n",
    "\n",
    "Simulation terminated on Mon Jul  6 01:02:53 2015\n"
   ]
  },
  {
   "cell_type": "markdown",
   "metadata": {},
   "source": [
    "See sphtorus_movie_velocity.mpg,sphtorus_movie_density.mpg\n"
   ]
  },
  {
   "cell_type": "markdown",
   "metadata": {},
   "source": [
    "# MPI "
   ]
  },
  {
   "cell_type": "code",
   "execution_count": 2,
   "metadata": {
    "collapsed": false
   },
   "outputs": [
    {
     "name": "stdout",
     "output_type": "stream",
     "text": [
      "Populating the interactive namespace from numpy and matplotlib\n"
     ]
    }
   ],
   "source": [
    "%pylab inline"
   ]
  },
  {
   "cell_type": "markdown",
   "metadata": {
    "collapsed": true
   },
   "source": [
    "for 2D calculation you can get very high resolution with MPI "
   ]
  },
  {
   "cell_type": "raw",
   "metadata": {},
   "source": [
    "autoconf\n",
    " ./configure --with-coord=spherical --with-gas=hydro --with-integrator=vl --with-order=2p --with-problem=sphppi --enable-mpi\n",
    "module load fftw\n",
    "module load openmpi-ccm/1.6.3 \n",
    "make clean -j; make all -j; \n",
    "aprun -n 8 ./bin/athena -i athinput.sphtorus"
   ]
  },
  {
   "cell_type": "markdown",
   "metadata": {},
   "source": [
    "### Trying a different distortion parameter"
   ]
  },
  {
   "cell_type": "markdown",
   "metadata": {},
   "source": [
    "For single core , we did ``64*64*4`` in 90 minutes , run was 20 seconds "
   ]
  },
  {
   "cell_type": "markdown",
   "metadata": {},
   "source": [
    "This is double so 2(r)*2(theta)*3 (time) but 24 cores working on it, so should be done in within 3 hrs at most"
   ]
  },
  {
   "cell_type": "markdown",
   "metadata": {},
   "source": [
    "# Looking into how I can compute mass flux from Riemann solver using UserInLoop function"
   ]
  },
  {
   "cell_type": "code",
   "execution_count": null,
   "metadata": {
    "collapsed": true
   },
   "outputs": [],
   "source": []
  }
 ],
 "metadata": {
  "kernelspec": {
   "display_name": "Python 2",
   "language": "python",
   "name": "python2"
  },
  "language_info": {
   "codemirror_mode": {
    "name": "ipython",
    "version": 2
   },
   "file_extension": ".py",
   "mimetype": "text/x-python",
   "name": "python",
   "nbconvert_exporter": "python",
   "pygments_lexer": "ipython2",
   "version": "2.7.6"
  }
 },
 "nbformat": 4,
 "nbformat_minor": 0
}
