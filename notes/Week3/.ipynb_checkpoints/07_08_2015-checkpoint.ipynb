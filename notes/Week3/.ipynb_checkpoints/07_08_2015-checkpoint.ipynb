{
 "cells": [
  {
   "cell_type": "markdown",
   "metadata": {},
   "source": [
    "# Visualizing several run results"
   ]
  },
  {
   "cell_type": "markdown",
   "metadata": {},
   "source": [
    "###Serial"
   ]
  },
  {
   "cell_type": "markdown",
   "metadata": {},
   "source": [
    "- sphtorus2_10_orbit_256_256_4_density/velocity\n",
    "    - ran on peyton machines (serial)\n",
    "    - evolved 10 orbits\n",
    "    - 256x256x4 zones\n",
    "    - took 2.228674e+05 (~60hrs)"
   ]
  },
  {
   "cell_type": "markdown",
   "metadata": {},
   "source": [
    "- sphtorus_fat_10_orbit_128_128_4_density/velocity\n",
    "    - serial (peyton machines)\n",
    "    - 10 orbits\n",
    "    - 128x128x4 zones\n",
    "    - took 2.7604e4 seconds (~7hrs)"
   ]
  },
  {
   "cell_type": "markdown",
   "metadata": {},
   "source": [
    "#### MPI runs "
   ]
  },
  {
   "cell_type": "markdown",
   "metadata": {},
   "source": [
    "- fat_torus\n",
    "    - 128x128x4\n",
    "    - Number of processors 4x4x1 on single node\n",
    "    - Only ~3 orbits to see what it looks like\n",
    "    - took 17 minutes\n",
    "    \n",
    "- 24_sphtorus_128_128\n",
    "    - 128x128x4 (misleadingly called sphtorus_64)\n",
    "    - nproc= 16= 4x4x1 on single node\n",
    "    - walltime=02:30:00 cutoff\n",
    "    - only evolved 14 sec (~2 orbits)\n",
    " \n",
    "- high-res sphtorus\n",
    "    - 384x256x4\n",
    "    - inside sphtorus_24/\n",
    "    - better use of cores nproc =24 = 6x4x1(run24.pbs)\n",
    "    - walltime=08:00:00 (Still running)\n",
    "    "
   ]
  },
  {
   "cell_type": "markdown",
   "metadata": {},
   "source": [
    "## New version of athena"
   ]
  },
  {
   "cell_type": "markdown",
   "metadata": {},
   "source": [
    "- tried to run RT instability at a pretty low resolution"
   ]
  },
  {
   "cell_type": "markdown",
   "metadata": {
    "collapsed": true
   },
   "source": [
    "- searching for things inside a directory  : `grep -rnw 'directory' -e \"pattern\"`"
   ]
  },
  {
   "cell_type": "markdown",
   "metadata": {},
   "source": [
    "- Looking at two blast waves interacting (not exactly sure what's going on here), seems to be in 1D can't see much"
   ]
  },
  {
   "cell_type": "markdown",
   "metadata": {},
   "source": [
    "- trying the hdf5 format\n",
    "    - need to remmeber to  ``module load hdf5``"
   ]
  },
  {
   "cell_type": "markdown",
   "metadata": {
    "collapsed": true
   },
   "source": [
    "# Sphtorus"
   ]
  },
  {
   "cell_type": "markdown",
   "metadata": {},
   "source": [
    "- 2D 256x256x1 run "
   ]
  },
  {
   "cell_type": "markdown",
   "metadata": {},
   "source": [
    "-  3D  64x64x4 run"
   ]
  },
  {
   "cell_type": "code",
   "execution_count": null,
   "metadata": {
    "collapsed": true
   },
   "outputs": [],
   "source": []
  },
  {
   "cell_type": "markdown",
   "metadata": {},
   "source": [
    "- Adding perturbation in the phi direction "
   ]
  },
  {
   "cell_type": "markdown",
   "metadata": {},
   "source": [
    "# Running Athena 4.2  with MPI"
   ]
  },
  {
   "cell_type": "markdown",
   "metadata": {},
   "source": [
    "On Hopper\n",
    "\n",
    "./configure --with-coord=spherical --with-gas=hydro  --with-integrator=vl --with-order=2p --with-problem=sphtorus --enable-mpi"
   ]
  },
  {
   "cell_type": "markdown",
   "metadata": {},
   "source": [
    "Substitute out mpicc for cc in "
   ]
  },
  {
   "cell_type": "raw",
   "metadata": {},
   "source": [
    "ifeq (MPI_PARALLEL,MPI_PARALLEL)\n",
    "  CC = mpicc\n",
    "  LDR = mpicc\n",
    "endif\n"
   ]
  },
  {
   "cell_type": "raw",
   "metadata": {},
   "source": [
    "make clean -j ; make all -j; "
   ]
  },
  {
   "cell_type": "markdown",
   "metadata": {},
   "source": [
    "This sucessfully compiles "
   ]
  },
  {
   "cell_type": "raw",
   "metadata": {},
   "source": [
    "module load fftw\n",
    "pwd\n",
    "cd /global/homes/d/dorislee/athena-sph/sphtorus_24\n",
    "aprun -n 24 ../bin/athena -i ../athinput.sphtorus -t 08:00:00"
   ]
  },
  {
   "cell_type": "markdown",
   "metadata": {},
   "source": [
    "Might need to recompile later as I just added in the newer version of lr_states_prim2.c reconstruction"
   ]
  },
  {
   "cell_type": "code",
   "execution_count": null,
   "metadata": {
    "collapsed": true
   },
   "outputs": [],
   "source": []
  }
 ],
 "metadata": {
  "kernelspec": {
   "display_name": "Python 2",
   "language": "python",
   "name": "python2"
  },
  "language_info": {
   "codemirror_mode": {
    "name": "ipython",
    "version": 2
   },
   "file_extension": ".py",
   "mimetype": "text/x-python",
   "name": "python",
   "nbconvert_exporter": "python",
   "pygments_lexer": "ipython2",
   "version": "2.7.9"
  }
 },
 "nbformat": 4,
 "nbformat_minor": 0
}
