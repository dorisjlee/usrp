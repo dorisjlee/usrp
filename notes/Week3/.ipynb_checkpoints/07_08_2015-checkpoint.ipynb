{
 "cells": [
  {
   "cell_type": "markdown",
   "metadata": {},
   "source": [
    "# Visualizing several run results"
   ]
  },
  {
   "cell_type": "markdown",
   "metadata": {},
   "source": [
    "###Serial"
   ]
  },
  {
   "cell_type": "markdown",
   "metadata": {},
   "source": [
    "- sphtorus2_10_orbit_256_256_4_density/velocity\n",
    "    - ran on peyton machines (serial)\n",
    "    - evolved 10 orbits\n",
    "    - 256x256x4 zones\n",
    "    - Not done yet "
   ]
  },
  {
   "cell_type": "markdown",
   "metadata": {},
   "source": [
    "- sphtorus_fat_10_orbit_128_128_4_density/velocity\n",
    "    - serial (peyton machines)\n",
    "    - 10 orbits\n",
    "    - 128x128x4 zones\n",
    "    - took 2.7604e4 seconds (~7hrs)"
   ]
  },
  {
   "cell_type": "markdown",
   "metadata": {},
   "source": [
    "#### MPI runs "
   ]
  },
  {
   "cell_type": "markdown",
   "metadata": {},
   "source": [
    "- fat_torus\n",
    "    - 128x128x4\n",
    "    - Number of processors 4x4x1 on single node\n",
    "    - Only ~3 orbits to see what it looks like\n",
    "    - took 17 minutes\n",
    "    \n",
    "- 24_sphtorus_128_128\n",
    "    - 128x128x4 (misleadingly called sphtorus_64)\n",
    "    - nproc= 16= 4x4x1 on single node\n",
    "    - walltime=02:30:00 cutoff\n",
    "    - only evolved 14 sec (~2 orbits)\n",
    " \n",
    "- high-res sphtorus\n",
    "    - 384x256x4\n",
    "    - inside sphtorus_24/\n",
    "    - better use of cores nproc =24 = 6x4x1(run24.pbs)\n",
    "    - walltime=08:00:00 (Still running)\n",
    "    "
   ]
  },
  {
   "cell_type": "code",
   "execution_count": null,
   "metadata": {
    "collapsed": true
   },
   "outputs": [],
   "source": []
  }
 ],
 "metadata": {
  "kernelspec": {
   "display_name": "Python 2",
   "language": "python",
   "name": "python2"
  },
  "language_info": {
   "codemirror_mode": {
    "name": "ipython",
    "version": 2
   },
   "file_extension": ".py",
   "mimetype": "text/x-python",
   "name": "python",
   "nbconvert_exporter": "python",
   "pygments_lexer": "ipython2",
   "version": "2.7.6"
  }
 },
 "nbformat": 4,
 "nbformat_minor": 0
}
