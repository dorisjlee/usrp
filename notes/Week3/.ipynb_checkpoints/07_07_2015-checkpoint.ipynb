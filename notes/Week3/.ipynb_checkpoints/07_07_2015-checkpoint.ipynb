{
 "cells": [
  {
   "cell_type": "raw",
   "metadata": {},
   "source": [
    "I kept getting error\n",
    "### Fatal error: [init_mesh]: 132 Grids requested by block domain1 and only 1 procs\n",
    "### Fatal error: [init_mesh]: 132 Grids requested by block domain1 and only 1 procs\n",
    "\n",
    "tried:\n",
    "    \n",
    "    NGrid_x1        = 12\n",
    "NGrid_x2        = 11\n",
    "NGrid_x3        = 1\n",
    "\n",
    "and also \n",
    "NGrid_x1        = 4\n",
    "NGrid_x2        = 4\n",
    "NGrid_x3        = 2\n",
    "\n",
    "and also \n",
    "NGrid_x1        = 2\n",
    "NGrid_x2        = 2\n",
    "NGrid_x3        = 2"
   ]
  },
  {
   "cell_type": "markdown",
   "metadata": {},
   "source": [
    "I think that if you don't specify NGrid_x1 ...etc , it just assume single processor.'"
   ]
  },
  {
   "cell_type": "code",
   "execution_count": null,
   "metadata": {
    "collapsed": true
   },
   "outputs": [],
   "source": [
    "export OMP_NUM_THREADS=24"
   ]
  },
  {
   "cell_type": "markdown",
   "metadata": {},
   "source": [
    "The total number of processors used must equal the total number of processors requested by all the Domains in the input file."
   ]
  },
  {
   "cell_type": "code",
   "execution_count": null,
   "metadata": {
    "collapsed": true
   },
   "outputs": [],
   "source": [
    "> mpirun -n 16  ../bin/athena -i ../athinput.sphtorus\n",
    "--------------------------------------------------------------------------\n",
    "WARNING: Open MPI will create a shared memory backing file in a\n",
    "directory that appears to be mounted on a network filesystem.\n",
    "Creating the shared memory backup file on a network file system, such\n",
    "as NFS or Lustre is not recommended -- it may cause excessive network\n",
    "traffic to your file servers and/or cause shared memory traffic in\n",
    "Open MPI to be much slower than expected.\n",
    "\n",
    "You may want to check what the typical temporary directory is on your\n",
    "node.  Possible sources of the location of this temporary directory\n",
    "include the $TEMPDIR, $TEMP, and $TMP environment variables.\n",
    "\n",
    "Note, too, that system administrators can set a list of filesystems\n",
    "where Open MPI is disallowed from creating temporary files by settings\n",
    "the MCA parameter \"orte_no_session_dir\"."
   ]
  },
  {
   "cell_type": "markdown",
   "metadata": {},
   "source": [
    "didn't know that mpirun actually exist on Edison, I've always thought that aprun replaces mpirun, apparently that's not the case...'"
   ]
  },
  {
   "cell_type": "raw",
   "metadata": {},
   "source": [
    "I checked to make sure that it errors if I set the -n 24, so this makes sense:\n",
    "### Fatal error: [init_mesh]:total # of Grids != total # of MPI procs"
   ]
  },
  {
   "cell_type": "markdown",
   "metadata": {},
   "source": [
    "How does Athena parallelism work? doing one single dump (omp barrier) at every timestep? (since I see ordered output print statement, which is surprising for MPI)"
   ]
  },
  {
   "cell_type": "markdown",
   "metadata": {},
   "source": [
    "The low resolution fat_run finished the run in like 10 minutes! "
   ]
  },
  {
   "cell_type": "markdown",
   "metadata": {},
   "source": [
    "Using join_vtk"
   ]
  },
  {
   "cell_type": "raw",
   "metadata": {},
   "source": [
    " gcc -o join_vtk join_vtk.c"
   ]
  },
  {
   "cell_type": "raw",
   "metadata": {},
   "source": [
    "./join_vtk \n",
    "Usage: ./join_vtk -o <out_name.vtk> file1.vtk file2.vtk .."
   ]
  },
  {
   "cell_type": "code",
   "execution_count": null,
   "metadata": {
    "collapsed": true
   },
   "outputs": [],
   "source": [
    " bash join_vtk.sh -i fat_sphtorus -o fat_sphtorus_joined -c 0:1:20"
   ]
  }
 ],
 "metadata": {
  "kernelspec": {
   "display_name": "Python 2",
   "language": "python",
   "name": "python2"
  },
  "language_info": {
   "codemirror_mode": {
    "name": "ipython",
    "version": 2
   },
   "file_extension": ".py",
   "mimetype": "text/x-python",
   "name": "python",
   "nbconvert_exporter": "python",
   "pygments_lexer": "ipython2",
   "version": "2.7.6"
  }
 },
 "nbformat": 4,
 "nbformat_minor": 0
}
