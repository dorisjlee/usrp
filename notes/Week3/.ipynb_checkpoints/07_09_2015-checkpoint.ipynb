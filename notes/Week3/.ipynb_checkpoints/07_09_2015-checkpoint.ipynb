{
 "cells": [
  {
   "cell_type": "markdown",
   "metadata": {},
   "source": [
    "## Sphtorus Runs"
   ]
  },
  {
   "cell_type": "markdown",
   "metadata": {},
   "source": [
    "Got up and found all the sphtorus jobs that I submitted have stopped at this cycle limit. maybe something different is done in the new code so that there is smaller dt taken? "
   ]
  },
  {
   "cell_type": "raw",
   "metadata": {},
   "source": [
    "cycle=499999 time=8.61011166866299e+00 dt=1.36251693356200e-07\n",
    "cycle=500000 time=8.610112e+00 dt=1.362513e-07\n",
    "\n",
    "Terminating on cycle limit\n",
    "time=8.610112e+00 cycle=500000\n",
    "tlim=2.000000e+01 nlim=500000\n",
    "\n",
    "cpu time used  = 7.788460e+03\n",
    "zone-cycles/cpu_second = 1.051812e+06"
   ]
  },
  {
   "cell_type": "markdown",
   "metadata": {},
   "source": [
    "I've noticed that the time step got very small from e-3 all the way down to e-7.'"
   ]
  },
  {
   "cell_type": "markdown",
   "metadata": {},
   "source": [
    "took out this line ``nlim            = 500000   # cycle limit``"
   ]
  },
  {
   "cell_type": "markdown",
   "metadata": {},
   "source": [
    "It's also interesting how the 2D case hit the cycle limit much faster than the 3D cases (at t~8.6) "
   ]
  },
  {
   "cell_type": "raw",
   "metadata": {
    "collapsed": true
   },
   "source": [
    "cycle=499999 time=6.52953805488608e+00 dt=6.93870389640374e-08\n",
    "cycle=500000 time=6.529538e+00 dt=6.938666e-08\n",
    "\n",
    "Terminating on cycle limit"
   ]
  },
  {
   "cell_type": "markdown",
   "metadata": {},
   "source": [
    "Should set ``nlim=-1``"
   ]
  },
  {
   "cell_type": "markdown",
   "metadata": {},
   "source": [
    "After fixing the boundary condition bug,\n",
    "\n",
    "- 2Dsphtorus2/\n",
    "    - with non rotating inner BC\n",
    "    - 256x256\n",
    "    - total time: 7.619390e+03\n",
    "- sphtorus2/ \n",
    "    - with nonrotating inner B.C. (shear)\n",
    "    - 128x128x4\n",
    "    - high velocity observed along the inner radial boundary (but doesn't affect the simulation)\n",
    "    - after 10 orbitals, we have about 2 orders of mag of difference in density (but still really low $\\rho$, lower than our original d0)\n",
    "- sphtorus3/\n",
    "    - with corotating inner B.C \n",
    "    - 128x128x4\n",
    "    - there is still the high velocity along inner boundary\n",
    "   "
   ]
  },
  {
   "cell_type": "markdown",
   "metadata": {},
   "source": [
    "Decided that 3/ B.C. is better "
   ]
  },
  {
   "cell_type": "markdown",
   "metadata": {},
   "source": [
    "Adding in perturbation, \n",
    "\n",
    "- \n",
    "    - 0.1% amplitude perturbation on the pressure."
   ]
  },
  {
   "cell_type": "markdown",
   "metadata": {
    "collapsed": true
   },
   "source": [
    "- log tends to \"smooth\" things out because only very large differences are shown this is why the log plots dont' have the curl features as does the linear plots'"
   ]
  },
  {
   "cell_type": "code",
   "execution_count": 1,
   "metadata": {
    "collapsed": false
   },
   "outputs": [
    {
     "name": "stdout",
     "output_type": "stream",
     "text": [
      "/Users/dorislee/Desktop/charon/Programs/athena/ptrb0.001sphtorus\n"
     ]
    }
   ],
   "source": [
    "cd ~/Desktop/charon/Programs/athena/ptrb0.001sphtorus/"
   ]
  },
  {
   "cell_type": "code",
   "execution_count": 3,
   "metadata": {
    "collapsed": false
   },
   "outputs": [],
   "source": [
    "import glob\n",
    "import os"
   ]
  },
  {
   "cell_type": "code",
   "execution_count": 19,
   "metadata": {
    "collapsed": true
   },
   "outputs": [],
   "source": [
    "line.replace?"
   ]
  },
  {
   "cell_type": "code",
   "execution_count": 23,
   "metadata": {
    "collapsed": false
   },
   "outputs": [],
   "source": [
    "for i in glob.glob(\"ptrb0.001sphtorus.block0.out1.000*.vtk\"):\n",
    "#     line = i.split(\".\")\n",
    "#     print line\n",
    "    line = i\n",
    "    line = line.replace(\".\",\"_\",1)\n",
    "    os.system(\"mv {} {}\".format(i, line))"
   ]
  },
  {
   "cell_type": "code",
   "execution_count": 24,
   "metadata": {
    "collapsed": false
   },
   "outputs": [
    {
     "name": "stdout",
     "output_type": "stream",
     "text": [
      "athinput.sphtorus                        ptrb0_001sphtorus.block0.out1.00000.vtk\r\n",
      "ptrb0.001sphtorus.out2.00000.rst         ptrb0_001sphtorus.block0.out1.00001.vtk\r\n",
      "ptrb0.001sphtorus.out2.00001.rst         ptrb0_001sphtorus.block0.out1.00002.vtk\r\n",
      "ptrb0.001sphtorus.out2.00002.rst         ptrb0_001sphtorus.block0.out1.00003.vtk\r\n",
      "ptrb0.001sphtorus.out2.00003.rst         ptrb0_001sphtorus.block0.out1.00004.vtk\r\n",
      "ptrb0.001sphtorus.out2.00004.rst         ptrb0_001sphtorus.block0.out1.00005.vtk\r\n",
      "ptrb0.001sphtorus.out2.00005.rst         ptrb0_001sphtorus.block0.out1.00006.vtk\r\n",
      "ptrb0.001sphtorus.out2.00006.rst         ptrb0_001sphtorus.block0.out1.00007.vtk\r\n",
      "ptrb0.001sphtorus.out2.00007.rst         ptrb0_001sphtorus.block0.out1.00008.vtk\r\n",
      "ptrb0.001sphtorus.out2.00008.rst         ptrb0_001sphtorus.block0.out1.00009.vtk\r\n",
      "ptrb0.001sphtorus.out2.00009.rst         ptrb0_001sphtorus.block0.out1.00010.vtk\r\n",
      "ptrb0.001sphtorus.out2.00010.rst         ptrb0_001sphtorus.block0.out1.00011.vtk\r\n",
      "ptrb0.001sphtorus.out2.00011.rst         ptrb0_001sphtorus.block0.out1.00012.vtk\r\n",
      "ptrb0.001sphtorus.out2.00012.rst         ptrb0_001sphtorus.block0.out1.00013.vtk\r\n",
      "ptrb0.001sphtorus.out2.00013.rst         ptrb0_001sphtorus.block0.out1.00014.vtk\r\n",
      "ptrb0.001sphtorus.out2.00014.rst         ptrb0_001sphtorus.block0.out1.00015.vtk\r\n",
      "ptrb0.001sphtorus.out2.00015.rst         ptrb0_001sphtorus.block0.out1.00016.vtk\r\n",
      "ptrb0.001sphtorus.out2.00016.rst         ptrb0_001sphtorus.block0.out1.00017.vtk\r\n",
      "ptrb0.001sphtorus.out2.00017.rst         ptrb0_001sphtorus.block0.out1.00018.vtk\r\n",
      "ptrb0.001sphtorus.out2.00018.rst         ptrb0_001sphtorus.block0.out1.00019.vtk\r\n",
      "ptrb0.001sphtorus.out2.00019.rst         ptrb0_001sphtorus.block0.out1.00020.vtk\r\n",
      "ptrb0.001sphtorus.out2.00020.rst         ptrb0_001sphtorus.block0.out1.00021.vtk\r\n",
      "ptrb0.001sphtorus.out2.00021.rst         ptrb0_001sphtorus.block0.out1.00022.vtk\r\n",
      "ptrb0.001sphtorus.out2.00022.rst         ptrb0_001sphtorus.block0.out1.00023.vtk\r\n",
      "ptrb0.001sphtorus.out2.00023.rst         ptrb0_001sphtorus.block0.out1.00024.vtk\r\n",
      "ptrb0.001sphtorus.out2.00024.rst         ptrb0_001sphtorus.block0.out1.00025.vtk\r\n",
      "ptrb0.001sphtorus.out2.00025.rst         ptrb0_001sphtorus.block0.out1.00026.vtk\r\n",
      "ptrb0.001sphtorus.out2.00026.rst         ptrb0_001sphtorus.block0.out1.00027.vtk\r\n",
      "ptrb0.001sphtorus.out2.00027.rst         ptrb0_001sphtorus.block0.out1.00028.vtk\r\n",
      "ptrb0.001sphtorus.out2.00028.rst         ptrb0_001sphtorus.block0.out1.00029.vtk\r\n",
      "ptrb0.001sphtorus.out2.00029.rst         ptrb0_001sphtorus.block0.out1.00030.vtk\r\n",
      "ptrb0.001sphtorus.out2.00030.rst         ptrb0_001sphtorus.block0.out1.00031.vtk\r\n",
      "ptrb0.001sphtorus.out2.00031.rst         ptrb0_001sphtorus.block0.out1.00032.vtk\r\n",
      "ptrb0.001sphtorus.out2.00032.rst         ptrb0_001sphtorus.block0.out1.00033.vtk\r\n",
      "ptrb0.001sphtorus.out2.00033.rst         ptrb0_001sphtorus.block0.out1.00034.vtk\r\n",
      "ptrb0.001sphtorus.out2.00034.rst         ptrb0_001sphtorus.block0.out1.00035.vtk\r\n",
      "ptrb0.001sphtorus.out2.00035.rst         ptrb0_001sphtorus.block0.out1.00036.vtk\r\n",
      "ptrb0.001sphtorus.out2.00036.rst         ptrb0_001sphtorus.block0.out1.00037.vtk\r\n",
      "ptrb0.001sphtorus.out2.00037.rst         ptrb0_001sphtorus.block0.out1.00038.vtk\r\n",
      "ptrb0.001sphtorus.out2.00038.rst         ptrb0_001sphtorus.block0.out1.00039.vtk\r\n",
      "ptrb0.001sphtorus.out2.00039.rst         ptrb0_001sphtorus.block0.out1.00040.vtk\r\n",
      "ptrb0.001sphtorus.out2.00040.rst         ptrb0_001sphtorus.block0.out1.00041.vtk\r\n",
      "ptrb0.001sphtorus.out2.00041.rst         ptrb0_001sphtorus.block0.out1.00042.vtk\r\n",
      "ptrb0.001sphtorus.out2.00042.rst         ptrb0_001sphtorus.block0.out1.00043.vtk\r\n",
      "ptrb0.001sphtorus.out2.00043.rst         ptrb0_001sphtorus.block0.out1.00044.vtk\r\n",
      "ptrb0.001sphtorus.out2.00044.rst         ptrb0_001sphtorus.block0.out1.00045.vtk\r\n",
      "ptrb0.001sphtorus.out2.00045.rst         ptrb0_001sphtorus.block0.out1.00046.vtk\r\n",
      "ptrb0.001sphtorus.out2.00046.rst         ptrb0_001sphtorus.block0.out1.00047.vtk\r\n",
      "ptrb0.001sphtorus.out2.00047.rst         ptrb0_001sphtorus.block0.out1.00048.vtk\r\n",
      "ptrb0.001sphtorus.out2.00048.rst         ptrb0_001sphtorus.block0.out1.00049.vtk\r\n",
      "ptrb0.001sphtorus.out2.00049.rst         ptrb0_001sphtorus.block0.out1.00050.vtk\r\n",
      "ptrb0.001sphtorus.out2.00050.rst         ptrb0_001sphtorus.block0.out1.00051.vtk\r\n",
      "ptrb0.001sphtorus.out2.00051.rst         ptrb0_001sphtorus.block0.out1.00052.vtk\r\n",
      "ptrb0.001sphtorus.out2.00052.rst         ptrb0_001sphtorus.block0.out1.00053.vtk\r\n",
      "ptrb0.001sphtorus.out2.00053.rst         ptrb0_001sphtorus.block0.out1.00054.vtk\r\n",
      "ptrb0.001sphtorus.out2.00054.rst         ptrb0_001sphtorus.block0.out1.00055.vtk\r\n",
      "ptrb0.001sphtorus.out2.00055.rst         ptrb0_001sphtorus.block0.out1.00056.vtk\r\n",
      "ptrb0.001sphtorus.out2.00056.rst         ptrb0_001sphtorus.block0.out1.00057.vtk\r\n",
      "ptrb0.001sphtorus.out2.00057.rst         ptrb0_001sphtorus.block0.out1.00058.vtk\r\n",
      "ptrb0.001sphtorus.out2.00058.rst         ptrb0_001sphtorus.block0.out1.00059.vtk\r\n",
      "ptrb0.001sphtorus.out2.00059.rst         ptrb0_001sphtorus.block0.out1.00060.vtk\r\n",
      "ptrb0.001sphtorus.out2.00060.rst         ptrb0_001sphtorus.block0.out1.00061.vtk\r\n",
      "ptrb0.001sphtorus.out2.00061.rst\r\n"
     ]
    }
   ],
   "source": [
    "ls"
   ]
  },
  {
   "cell_type": "markdown",
   "metadata": {},
   "source": [
    "# Computing length of test runs "
   ]
  },
  {
   "cell_type": "markdown",
   "metadata": {},
   "source": [
    "tried an 30 minute in debug \n",
    "\n",
    "```\n",
    "cycle=9740 time=5.99906544458273e+00 dt=6.19370647434714e-04\n",
    "cycle=9741 time=5.99968481523016e+00 dt=6.19403562971445e-04\n",
    "\n",
    "=>> PBS: job killed: walltime 1843 exceeded limit 1800\n",
    "```"
   ]
  },
  {
   "cell_type": "code",
   "execution_count": null,
   "metadata": {
    "collapsed": true
   },
   "outputs": [],
   "source": []
  }
 ],
 "metadata": {
  "kernelspec": {
   "display_name": "Python 2",
   "language": "python",
   "name": "python2"
  },
  "language_info": {
   "codemirror_mode": {
    "name": "ipython",
    "version": 2
   },
   "file_extension": ".py",
   "mimetype": "text/x-python",
   "name": "python",
   "nbconvert_exporter": "python",
   "pygments_lexer": "ipython2",
   "version": "2.7.6"
  }
 },
 "nbformat": 4,
 "nbformat_minor": 0
}
