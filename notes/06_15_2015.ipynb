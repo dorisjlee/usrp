{
 "cells": [
  {
   "cell_type": "markdown",
   "metadata": {},
   "source": [
    "#Programmer's Guide\n",
    "- Mesh = Grid+ Domain\n",
    "- Grid: region covered by same single processor\n",
    "- Domain: spatial region at the same level."
   ]
  },
  {
   "cell_type": "markdown",
   "metadata": {
    "collapsed": true
   },
   "source": [
    "# Papaloizou-Pringle Instability"
   ]
  },
  {
   "cell_type": "markdown",
   "metadata": {},
   "source": [
    "- toroidal gas tube, global simulation\n",
    "- differential rotation --> constant specific angular momentum ($j_i$) which means that $v_i$ must be really fast on the inside (relativistic gas) \n",
    "- initially in force balance pressure, equilibrium config, self gravity ..etc \n",
    "    but any small perturbation will result in instability\n",
    "- hydrodynamical instability, often around compact objects where gas flow can be relativistic. (so possibly inclusion of GR and SR) \n",
    "- AMR on spherical coordinates \n",
    "    - since if ran in cylindrical coordinates then you always have a cyclinder of singularity at r=0 but there is where you want to disk to be most resolved."
   ]
  },
  {
   "cell_type": "markdown",
   "metadata": {},
   "source": [
    "# Questions"
   ]
  },
  {
   "cell_type": "markdown",
   "metadata": {},
   "source": [
    "- What does it mean when accretion disk is saturated?\n",
    "- what is \"non axissymmetric modes\" , is that just small perturbations to the tori?\n",
    "- what does it mean that the instability \"grows on dynamical time scale\"? "
   ]
  }
 ],
 "metadata": {
  "kernelspec": {
   "display_name": "Python 2",
   "language": "python",
   "name": "python2"
  },
  "language_info": {
   "codemirror_mode": {
    "name": "ipython",
    "version": 2
   },
   "file_extension": ".py",
   "mimetype": "text/x-python",
   "name": "python",
   "nbconvert_exporter": "python",
   "pygments_lexer": "ipython2",
   "version": "2.7.9"
  }
 },
 "nbformat": 4,
 "nbformat_minor": 0
}
