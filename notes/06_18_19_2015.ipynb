{
 "cells": [
  {
   "cell_type": "markdown",
   "metadata": {},
   "source": [
    "# Papaloizou and Pringle 1984 "
   ]
  },
  {
   "cell_type": "markdown",
   "metadata": {},
   "source": [
    "# Questions"
   ]
  },
  {
   "cell_type": "markdown",
   "metadata": {},
   "source": [
    "- What is the \"dynamical timescale\"? this timescale is often compared to the timescale that the accretion disk evolves at. (pg 722, PP1984) \n",
    "    - dynamical time scale means that they correpsond $\\approx$ to the orbital period of a particle located at the density maximum of the torus ($w_0$).\n",
    "    \n",
    "- (pg 726) What is the reason for taking the  $k_w$ and $ k_z \\rightarrow \\infty$ limit if we are looking for a local solution? "
   ]
  },
  {
   "cell_type": "markdown",
   "metadata": {},
   "source": [
    "- Not too sure what the significance of low vanishing boundary pressure is in the linear stability analysis in Sec.4 and how that demonstrate existence of unstable modes"
   ]
  },
  {
   "cell_type": "markdown",
   "metadata": {},
   "source": [
    "## Hydrodynamical Non-radiative Accretion Flows in 2D (Stone, Pringle, Begelman 1999)"
   ]
  },
  {
   "cell_type": "markdown",
   "metadata": {},
   "source": [
    "## Introduction: \n",
    " - 2D hydro smiulation via ZEUS\n",
    "    - 2D using vertically-averaged solutions \n",
    "    - ADIOS = adiabatic inflow-outflow solutions (attempts to try to characterize the mass inflow outflow  in 2D vertically-averaged solution  to make up for mass accretion and bipolar outflow)\n",
    "    - steady state solutions can not account for convectively unstable models \n",
    "        - IA99 showed that these effects can result as $\\nu$ is varied\n",
    "- modelling accretion torus  that can not cool through radiation.\n",
    "- pretrub by shearing stress"
   ]
  },
  {
   "cell_type": "markdown",
   "metadata": {},
   "source": [
    "##Methods\n",
    "###2.1 Equations of Motion\n",
    "- hydro equation + stress term\n",
    "- stress term used for shear stress in kinematic viscosity. \n",
    "    - MHD-->MRI complicated and not modelled here: \n",
    "        - mocked up by the making the shear tensor purely azimuthal ($\\because$ MRI only driven by orbital shear)\n",
    "        - Since only local studies of MRI has been done during that time, people dont know what the r dependence of Maxwell stress  is:\n",
    "            - so three models are used for mocking up the MRI effect:\n",
    "              1) $\\nu\\propto\\rho$, 2) $\\nu$ constant, 3) $\\nu\\propto r^{1/2}$\n",
    "            - 1) and 2) are essentially the same because this tells us that stress is large where it is dense \n",
    "                - result in constant density flow in equator\n",
    "            - 3) corresponds to $\\alpha$-disk model\n",
    "            \n",
    "###2.2. Initial Conditions:\n",
    "   - Using Papaloizou Pringle's setup in a low $\\rho$($\\therefore$ low P) medium\n",
    "   \n",
    "### 2.3 Numerical Methods:\n",
    "   - Operator-splitting used to add in the shear stress terms separate from the dynamical equation? \n",
    "   - logarithmic spherical grid\n",
    "   - outflow BC\n",
    "   - tested for no numerical transport of angular momentum on nonviscious disk (no evolution)\n",
    "   - R_0 is the radius of the center( defined at the density maximum ) of the torus"
   ]
  },
  {
   "cell_type": "markdown",
   "metadata": {},
   "source": [
    "##3 Results\n",
    "###3.1 A Fiducial Model\n",
    "- Initially: most  mass infall and lose angular momentum, a small fraction of that mass moves outward and gain angular momentum.\n",
    "- as inner region moves outwards they form KH rolls\n",
    "- strong convective motion at small radii results in large amplitude density fluctuations and slow outflow near equtorial region.\n",
    "- Overalll: \n",
    "    - inflow near equator: stuff flowing inwards so accrete to __high__ density, __low__ entropy(just rotating), __lack__ of angular momentum compared to the Keplerian disk\n",
    "    - outflow near poles, so __excessive__ angular momentum and __high__ entropy (since stuff spewing out) , __low__ density (since stuff is rarefied from the spewing out kind of like a jets in a foundtain)\n",
    "    - Sign of Bernoulli equation tells you whether fluid is leaving or entering the region of interest.\n",
    "- Looking at scaling relation of $\\rho, P , v_\\phi, v_r$tells us it is not enough to charaterize shear stress by a $\\alpha$ constant since it $\\propto r^{-0.5}$ \n",
    "- vector fields of mass, energy and momentum simmular as shown in Fig.8, showing that the angular momnetum transport is driven from thermal heating due to the analomlous shear stress since in comparison with Run A ($\\nu$=0) convection goes away and $M^{\\cdot}_{in}$ decreases substantially, disk is $\\approx$ Keplerian"
   ]
  },
  {
   "cell_type": "markdown",
   "metadata": {},
   "source": [
    "##3.2 Varying $\\nu$\n",
    "- For low $\\nu$, evolution time for $\\dot{M}_{acc}$ to settle down to steady state is much longer. The scaling relations still hold but the equatorial density is lower than in the high $\\nu$ case.\n",
    "- For high  $\\nu$, "
   ]
  },
  {
   "cell_type": "markdown",
   "metadata": {},
   "source": [
    "#Questions: \n",
    "(pg7)What is Operator-splitting and how is it used to add in the shear stress terms separate from the dynamical equation? "
   ]
  },
  {
   "cell_type": "markdown",
   "metadata": {},
   "source": [
    "## The dynamical stability of differentially rotating discs with constant specific angular momentum (Papaloizou &Pringle, 1984) "
   ]
  },
  {
   "cell_type": "markdown",
   "metadata": {},
   "source": [
    "####Summary\n",
    "PP instability are: \n",
    "   - unstable for high m for all modes\n",
    "   - unstable for low m for low order modes\n",
    "   - even the thin isothermal ring is unstable (even though efficient cooling keeps it isothermal)\n",
    "   - global instability (instabilty not found if local anlaysis  or axissymmetric modes)\n",
    "   - on the order of dynamical timescale (grows $\\approx$ one crossing time or one rotation period) \n",
    "   \n",
    "   "
   ]
  },
  {
   "cell_type": "markdown",
   "metadata": {},
   "source": [
    "- __leapfrog integration__ is a method for numerically integrating differential equations 2nd order in sort of the form of Newton's 2nd law. "
   ]
  },
  {
   "cell_type": "markdown",
   "metadata": {},
   "source": [
    "- (PP) In Fig 4,5,6 , plotting the structure of the fastest growing eignemode. What does that physically mean for the torus?"
   ]
  },
  {
   "cell_type": "markdown",
   "metadata": {},
   "source": [
    "In Part two of PP paper (The dynamical stability of differentially rotating discs. II, 1985), they looked at the case where the specific angular momentum is not constant and found that the PP instability still exist, also with a bit of KH instability. \n",
    "   - rotation law is just how $\\Omega$ scales radially with $\\tilde{\\omega}$"
   ]
  },
  {
   "cell_type": "code",
   "execution_count": null,
   "metadata": {
    "collapsed": true
   },
   "outputs": [],
   "source": []
  }
 ],
 "metadata": {
  "kernelspec": {
   "display_name": "Python 2",
   "language": "python",
   "name": "python2"
  },
  "language_info": {
   "codemirror_mode": {
    "name": "ipython",
    "version": 2
   },
   "file_extension": ".py",
   "mimetype": "text/x-python",
   "name": "python",
   "nbconvert_exporter": "python",
   "pygments_lexer": "ipython2",
   "version": "2.7.6"
  }
 },
 "nbformat": 4,
 "nbformat_minor": 0
}
