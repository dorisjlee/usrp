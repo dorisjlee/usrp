{
 "cells": [
  {
   "cell_type": "markdown",
   "metadata": {},
   "source": [
    "Stability of accretion tori (Goldreich,Goodman, Narayan 1986)\n",
    "- vorticity: $\\nabla \\times v$ describes how things would spin locally \n",
    "- uses g around a central point mass\n",
    "\n",
    "####I have analytically shown that the $\\rho$(x,z) and p(x,z) equation satisfies hydrostatic equilibrium equation.\n",
    "Then all I have to do is do coordinate transformation and convert the (x,z) in pseudoCartesian coordinates into 2D polar equations (note this is height-integrated equations) "
   ]
  },
  {
   "cell_type": "markdown",
   "metadata": {},
   "source": [
    "__Later Reading__\n",
    "- P&P (1985) second paper"
   ]
  },
  {
   "cell_type": "markdown",
   "metadata": {},
   "source": [
    "#### Running things in spherical polar "
   ]
  },
  {
   "cell_type": "markdown",
   "metadata": {},
   "source": [
    "-  Fatal error: par_gets: Par \"d\" not found in Block \"problem\"\n",
    "    - forgot to add --with-coord=spherical in configure "
   ]
  },
  {
   "cell_type": "markdown",
   "metadata": {},
   "source": [
    "- ``./configure --with-coord=spherical --with-gas=mhd --with-flux=hlld --with-integrator=vl --with-order=2p --with-problem=sphtorus``\n"
   ]
  },
  {
   "cell_type": "markdown",
   "metadata": {},
   "source": [
    "- the reason why I kept seeing 3Dppi when I enter ``athena -h`` is that in my bashrc I defaulted athena to alias on athena4.2 so it keeps pointing to that version "
   ]
  },
  {
   "cell_type": "markdown",
   "metadata": {},
   "source": [
    "So for the transform operation on VisIT, I need to do \"Spherical to Cartesian\" (I made this mistake of switching it around in the cylindrical example)"
   ]
  },
  {
   "cell_type": "code",
   "execution_count": null,
   "metadata": {
    "collapsed": true
   },
   "outputs": [],
   "source": []
  }
 ],
 "metadata": {
  "kernelspec": {
   "display_name": "Python 2",
   "language": "python",
   "name": "python2"
  },
  "language_info": {
   "codemirror_mode": {
    "name": "ipython",
    "version": 2
   },
   "file_extension": ".py",
   "mimetype": "text/x-python",
   "name": "python",
   "nbconvert_exporter": "python",
   "pygments_lexer": "ipython2",
   "version": "2.7.9"
  }
 },
 "nbformat": 4,
 "nbformat_minor": 0
}
