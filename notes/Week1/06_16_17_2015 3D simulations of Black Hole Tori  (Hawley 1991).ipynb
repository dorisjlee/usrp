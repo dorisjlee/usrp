{
 "cells": [
  {
   "cell_type": "markdown",
   "metadata": {},
   "source": [
    "# 3D simulations of Black Hole Tori (Hawley 1991)\n",
    "\n",
    "### Introduction\n",
    "- Motivation: Linear stability analysis (general or onparticular type of geometry) only tells us that unstable modes of PPI does __exist__ but only simulation can tell us the finale amplitude attained by the unstable modesand what it does to the accretion disk (i.e. does it really transport angular momentum? destroy the EQM structure or just die off ?)\n",
    "    - prior simulation work shows that at mode saturation, it can either:\n",
    "        - 1)  break off and merge into planet\n",
    "        - 2) create spiral density waves for OLT\n",
    "\n",
    "###Numerical Technique\n",
    "- Schwarchild BH = non rotating\n",
    "- Kerr metric: spacetime geometry derived from GR around uncharged , rotating BH\n",
    "- the cusp in the effective potential allows accretion of material with nonzero angular momentum\n",
    "- Boyer-Linquist coord: log spaced radial coord for wide tori. Singularity at origin is shielded by a BH.\n",
    "- $\\gamma$ will effect the growth rate of the modes (here set as $\\gamma$=5/3 isentropic)\n",
    "- [Internal waves](https://en.wikipedia.org/wiki/Internal_wave) are gravity waves that oscillate within the stratified fluid medium (i.e. $\\rho$decrease continuously or discontinuously with height)\n",
    "- Random enthaply perturbation in every grid zone used.\n",
    "    - 1) if perturbation too small then saturation too early\n",
    "    - or 2) if perturbation too large then the large amplitude perturbation would act like artificial viscosity which supress the unstable non-axissymttryic mode.\n",
    "    - need to chose a perturbation in between so that the growth can continue for a few orbit before it grows too large to 2)\n",
    "- numerical diffusion: in simulations, fluids exhibit higher diffusiivty than the actual fluid itself.\n",
    "   - so it makes the modes look like it is growing faster than it really is . so it makes it unstable. \n",
    "   - this especially affect high m modes \n",
    "   - numerical diffusion can LT\n",
    "- mode saturation describe the time when the normal mode completely dies off \n",
    "\n",
    "###Torus Simulations\n",
    "- __Slender Torus__: Iniitally axisymmetric principle mode grows and then saturates, after that non axissymetric structure develop and \"planet\" looking formation, torus flattens since angular momentum redistribution and lower region display more spiral waves. Result agree with 2D simulations.\n",
    "- __Intermediate torus___: again very simmilar to the 2D results. There are quite a bit of nonaxisymtertic structure but no planet formation. Substantial spiral wave in outer regions. Sharp mMode amplitude/ mode growth variation due to in and out of resonance.\n",
    "    - When comparing Fig 4,5,6. Does this mean that there are more resonances as torus is wider? \n",
    "- __Thick Torus__: Not very prominent non axissyymmetric structure. Spiral wave in outer disk. The rate of LT depend on how much the spiral pressure wave is nonlinear. Develop significant accretion flow by the time it reaches mode sautration\n",
    "- Accretion effects:\n",
    "    - the change in radial distribution of angular velocity (q-parameter) result in angular momentum redistribution\n",
    "    - all model of different values of l shows evolution of q but higher l models have largerperturbation amplitudes.\n",
    "    - there is a difference with the 2D model in that the 2D study has a accreting backgroun\n",
    "        - here we dont have an accreting background, so any accretionthat we actually see is due to the LT due to sprial pressure wave\n",
    "            - but for the spiral wave to act as an effective viscosity , it must self regulate (i..e be big enough so it doesn't die off and be nonlinear so that LT occurs)\n",
    "\n",
    "- Acceretion can't be the only thing that cause mode saturation because in different tori model where the accretion rate is different (i.e different amount of stuff is getting accretted on) the resulting state of the disk is the same (density enhancement + spiral waves) \n",
    "- Because slender torus is thinner (i.e. lower height) so it is closer to \"surface\" so that it can interact with surface waves more, so it can twist around distort the inside of the torus more. Whereas if you how a thicker torus, and same depth of bending , it twist less. (an intuitive analogy would be mixing cake batter at the same height, with more material (thicker torus) and less material(slender torus))\n",
    "- Conclusion: PP instability requires reflection on the inner boundary of the torus and this requirement (along with the requirement of constant l ) limits its applicability to specific types of tori. PPI does not distrupt wide tori and only seen in constant l models , the non axissymmetric waves seen in this study is not enough of a general mechanism for explaining LT since  LT only if these nonaxisymmetric wave can be amplified to a large nonlinear amplitude .\n",
    "- PPI compared to MRI : MRI is local, mhd instability, but requires very little B field and has significant effect than PPI\n",
    "\n",
    "####Terminologies\n",
    "  - [Eddington luminosity limit](http://www-astro.physics.ox.ac.uk/~garret/teaching/lecture7-2011.pdf) : radiation pressure > gravity,so material can not infall    \n",
    " - Pseudo potentials is a trick that people use to simplify the situation (not applying full GR) but masking it with a potential that give you relativistic effects. There are various modifications to which psedo potential is better to use around BH. [link](http://arxiv.org/pdf/astro-ph/0205475v2.pdf)\n",
    " - variable and broad iron emmision lines likely come from near the BH , they have been observed in many BH and can telll us about strucutre, radiation and motion of BH accretion disks. [link](http://www.readcube.com/articles/10.1002%2Fasna.200610669?r3_referer=wol&tracking_action=preview_click&show_checkout=1&purchase_referrer=adsabs.harvard.edu&purchase_site_license=LICENSE_DENIED_NO_CUSTOMER)\n",
    " \n",
    "## Question\n",
    " - What is the Hoiland criterion for stability?\n",
    " - How are mode amplitudes measured in simulations? \n",
    "    - In a numerical simulation you compute the output of your primitives and conservative values, but how can you get from that to the more important  wave modes infromation ?\n",
    "- (PP 743) How does numerical effects result in an what looks like a emergenet mode and how does adding diffusive terms make that go away?\n",
    "$\\checkmark$ relation between shear stress and $\\alpha$ viscosity? \n",
    "   - traditionally, people used the $\\alpha$ viscosity to mock up stress due to MRI turbulence because we didn't know what the underlying mechanism that causes the viscosity is.\n",
    "$\\checkmark$What is the diference between shear viscosity (denoted as $\\mu$ in the paper) and kinematic viscosity($\\nu$)\n",
    "   - Formally, viscosity is defined as how much the fluid is deformed as it experience stress. Intuitively, this makes sense because pouring somewhat \"bends\" honey, but there is no way you can \"bend\" water.\n",
    "\n",
    "- Shear viscosity (a.k.a dynamic viscosity) is due to the velocity of the top layer moving at a faster speed as the velocity of the sheared layer of fluid beneeth it, which generates a kind of force (so mathematically, it would be  $\\propto$ $\\partial u/\\partial y$, where u is the shear velocity)\n",
    "   - Kinematic viscosity $\\nu=\\mu/\\rho$\n",
    "       -  \" momentum  diffusivity \" . describes bulkwise macroscopic fluid motion and how easy it is to move through it or transfer momentum"
   ]
  },
  {
   "cell_type": "code",
   "execution_count": null,
   "metadata": {
    "collapsed": true
   },
   "outputs": [],
   "source": []
  }
 ],
 "metadata": {
  "kernelspec": {
   "display_name": "Python 2",
   "language": "python",
   "name": "python2"
  },
  "language_info": {
   "codemirror_mode": {
    "name": "ipython",
    "version": 2
   },
   "file_extension": ".py",
   "mimetype": "text/x-python",
   "name": "python",
   "nbconvert_exporter": "python",
   "pygments_lexer": "ipython2",
   "version": "2.7.9"
  }
 },
 "nbformat": 4,
 "nbformat_minor": 0
}
