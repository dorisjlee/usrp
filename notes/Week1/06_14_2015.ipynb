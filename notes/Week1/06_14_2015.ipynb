{
 "cells": [
  {
   "cell_type": "markdown",
   "metadata": {},
   "source": [
    "#User Guide\n",
    "- With SMR, there should be one __<Domain>__ block per level of refinement\n",
    "- <Domain> block defines BC and domain decomposition.\n",
    "- <Problem> block specifies the parameter to put in you question file (kinda like *.nml file in ramses).\n",
    "- <Output> block tells Athena what kind(s)of output you like \n",
    "     - history (hst) files dumps out the volume-averages of every cell.\n",
    "     - tabular file dump value over all zones,dont use for 3D since large file and I/O\n",
    "     - vtk,binary file need to be read by other visualization software, (low res since single point precision only)\n",
    "    - ppm:more precise 2D images at every snapshot in time.\n",
    "     - pdf : generate probability distribution function over all time \n",
    "     - should usually have a rst (restart file) dump for long runs just in case.Using the flag -r to restart\n",
    "     - problem generators usedto specify IC, BC and additional physics. \n",
    "     -for SMR you can only specify BC at root level and other higher levels that touchesthe boundary of the root level. \n",
    "     - outputting data over ghost zones (`configure --enable-ghost`).\n",
    "\n",
    "#Algorithms\n",
    "- Reconstruction: Getting left right states($q_R , q_L$, used to computed fluxes in Riemann solver) from cell-centered value $q_i$ using n-th order interpolation \n",
    "- Riemann solver:Compute fluxes of conserved quantities at cell interfaces (ex. x,y,z momentum flux..etc)\n",
    "- Integrator: Compute fluxes at each face (since divergence theorem, fluxes are just line integrals)\n",
    "    - non directional splitting\n",
    "    - Usually prefer CTU>VL since more accurate\n",
    "    - MUSCL-Hancock (VL) Integrator use when extremem (strong shock..etc) \n",
    "- H correction not required unless  strong planar shocks propagating parallel to grid lines forlong time\n",
    "- SMR has uniform time stepping \n",
    "      - SMR: min 4 cells at most refined level. \n",
    "\n",
    "#Questions\n",
    "- flags : athena -i input file \n",
    "- ./athena inside bin/\n",
    "- -d option can be used to create a new directory in which Athena will run and write the output files. (so don't have to renaming the output files our names and purpose .\n",
    "- what is the difference between __out__ variables M1,M2,M3 versus B1c, B2c, B3c? \n",
    "- charon:~/Programs/athena4.2/bin$ ./athena -i ../tst/1D-mhd/athinput.brio-wu \n",
    "`Simulation started on Sun Jun 14 14:48:55 2015`\n",
    "`### Fatal error: par_gets: Par \"wave_flag\" not found in Block \"problem\"`\n",
    "    - recompiled the code according to [this](https://trac.princeton.edu/Athena/wiki/AthenaDocsTutQuickStart) but still Fatal Error\n",
    "Create the configure script by running autoconf in the ./athena directory.\n",
    "    % cd athena4.0\n",
    "- Is it possible to run AMR first thenfigure out what kind of resolution you need. Then run with now known resolution fixedd gridSMR? \n",
    "    % autoconf\n",
    "Finished reading the \"Getting Started\" Section and Tutorials"
   ]
  }
 ],
 "metadata": {
  "kernelspec": {
   "display_name": "Python 2",
   "language": "python",
   "name": "python2"
  },
  "language_info": {
   "codemirror_mode": {
    "name": "ipython",
    "version": 2
   },
   "file_extension": ".py",
   "mimetype": "text/x-python",
   "name": "python",
   "nbconvert_exporter": "python",
   "pygments_lexer": "ipython2",
   "version": "2.7.6"
  }
 },
 "nbformat": 4,
 "nbformat_minor": 0
}
