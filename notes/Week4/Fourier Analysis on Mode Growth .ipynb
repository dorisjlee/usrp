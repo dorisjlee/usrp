{
 "cells": [
  {
   "cell_type": "code",
   "execution_count": 1,
   "metadata": {
    "collapsed": false
   },
   "outputs": [
    {
     "name": "stdout",
     "output_type": "stream",
     "text": [
      "Populating the interactive namespace from numpy and matplotlib\n"
     ]
    }
   ],
   "source": [
    "%pylab inline"
   ]
  },
  {
   "cell_type": "code",
   "execution_count": 2,
   "metadata": {
    "collapsed": false
   },
   "outputs": [
    {
     "name": "stdout",
     "output_type": "stream",
     "text": [
      "/global/scratch2/sd/dorislee/athena_simulation_data/log\n"
     ]
    }
   ],
   "source": [
    "cd ~/gscratch/athena_simulation_data/log/"
   ]
  },
  {
   "cell_type": "code",
   "execution_count": 3,
   "metadata": {
    "collapsed": true
   },
   "outputs": [],
   "source": [
    "import sys\n",
    "sys.path.remove('/global/homes/d/dorislee/.local/lib/python2.7/site-packages/yt-3.2.dev0-py2.7-linux-x86_64.egg')\n",
    "sys.path.remove('/global/homes/d/dorislee/.local/lib/python2.7/site-packages')\n",
    "sys.path.append('/global/homes/d/dorislee/mypythonpackages')"
   ]
  },
  {
   "cell_type": "code",
   "execution_count": 4,
   "metadata": {
    "collapsed": false
   },
   "outputs": [],
   "source": [
    "import h5py\n",
    "import glob"
   ]
  },
  {
   "cell_type": "code",
   "execution_count": 16,
   "metadata": {
    "collapsed": false
   },
   "outputs": [],
   "source": [
    "filename=\"log.out1.00002.ath\" #just read the athena hdf5 file not the xdmf file\n",
    "h5f = h5py.File(filename, 'r+')"
   ]
  },
  {
   "cell_type": "markdown",
   "metadata": {},
   "source": [
    "#### This simulation was 96x64x128 where I defined each meshblock to be 32x32x32 so that I have 24 meshblock one of each processor , making use of one full NUMA node on Hopper"
   ]
  },
  {
   "cell_type": "code",
   "execution_count": 36,
   "metadata": {
    "collapsed": false
   },
   "outputs": [],
   "source": [
    "\"MeshBlock0\".split?"
   ]
  },
  {
   "cell_type": "code",
   "execution_count": 40,
   "metadata": {
    "collapsed": false
   },
   "outputs": [
    {
     "data": {
      "text/plain": [
       "'0'"
      ]
     },
     "execution_count": 40,
     "metadata": {},
     "output_type": "execute_result"
    }
   ],
   "source": [
    "\"MeshBlock0\"[9:]"
   ]
  },
  {
   "cell_type": "code",
   "execution_count": 37,
   "metadata": {
    "collapsed": false
   },
   "outputs": [
    {
     "name": "stdout",
     "output_type": "stream",
     "text": [
      "24\n"
     ]
    }
   ],
   "source": [
    "num_lst = []\n",
    "for i in h5f.keys():\n",
    "    num_lst.append(i[9:])\n",
    "print max(sort(np.array(num_lst,dtype=\"int\")))+1"
   ]
  },
  {
   "cell_type": "code",
   "execution_count": 7,
   "metadata": {
    "collapsed": true
   },
   "outputs": [],
   "source": [
    "meshblock =h5f[\"MeshBlock0\"]"
   ]
  },
  {
   "cell_type": "code",
   "execution_count": 8,
   "metadata": {
    "collapsed": false
   },
   "outputs": [
    {
     "data": {
      "text/plain": [
       "[u'press', u'rho', u'vel1', u'vel2', u'vel3', u'x1f', u'x2f', u'x3f']"
      ]
     },
     "execution_count": 8,
     "metadata": {},
     "output_type": "execute_result"
    }
   ],
   "source": [
    "meshblock.keys()"
   ]
  },
  {
   "cell_type": "code",
   "execution_count": 9,
   "metadata": {
    "collapsed": false
   },
   "outputs": [
    {
     "name": "stdout",
     "output_type": "stream",
     "text": [
      "[ 0.2         0.20895773  0.21818419  0.22768743  0.2374758   0.24755779\n",
      "  0.25794226  0.26863825  0.27965513  0.29100251  0.3026903   0.31472874\n",
      "  0.32712832  0.3398999   0.35305464  0.366604    0.38055986  0.39493439\n",
      "  0.40974012  0.42499006  0.44069749  0.45687616  0.47354016  0.49070409\n",
      "  0.50838292  0.52659214  0.54534763  0.56466579  0.58456349  0.60505813\n",
      "  0.6261676   0.64791036  0.67030543]\n"
     ]
    }
   ],
   "source": [
    "x1f = meshblock[\"x1f\"].value\n",
    "print x1f\n",
    "# plt.plot(x1f,'o') #linearly sampled series of r values in a meshblock"
   ]
  },
  {
   "cell_type": "markdown",
   "metadata": {},
   "source": [
    "$$r_i = \\frac{(r_+ + r_-)}{2}$$"
   ]
  },
  {
   "cell_type": "code",
   "execution_count": 10,
   "metadata": {
    "collapsed": true
   },
   "outputs": [],
   "source": [
    "n = 0#for cell number n"
   ]
  },
  {
   "cell_type": "code",
   "execution_count": 11,
   "metadata": {
    "collapsed": false
   },
   "outputs": [
    {
     "name": "stdout",
     "output_type": "stream",
     "text": [
      "0.204478859901\n"
     ]
    }
   ],
   "source": [
    "ri = (x1f[n]+x1f[n+1])/2.\n",
    "print ri"
   ]
  },
  {
   "cell_type": "code",
   "execution_count": 12,
   "metadata": {
    "collapsed": false
   },
   "outputs": [
    {
     "name": "stdout",
     "output_type": "stream",
     "text": [
      "0.00895773\n"
     ]
    }
   ],
   "source": [
    "dri = abs(x1f[n]-x1f[n+1])\n",
    "print dri"
   ]
  },
  {
   "cell_type": "markdown",
   "metadata": {},
   "source": [
    "Computing the r,$\\theta$ surface density ~~over the whole $\\phi_i$ slice~~ per cell\n",
    "$$\\Delta Si,j,k =\\int\\int r drd\\theta = r_i\\Delta r_i\\Delta \\theta_j$$"
   ]
  },
  {
   "cell_type": "markdown",
   "metadata": {},
   "source": [
    "total of 64 meshblocks spanning from $\\theta$=0.32 to 2.79 radian and 32 zones per Meshblock"
   ]
  },
  {
   "cell_type": "code",
   "execution_count": 13,
   "metadata": {
    "collapsed": false
   },
   "outputs": [],
   "source": [
    "# (2.79252680319-0.34906585039)/64.*32"
   ]
  },
  {
   "cell_type": "code",
   "execution_count": 14,
   "metadata": {
    "collapsed": false
   },
   "outputs": [
    {
     "name": "stdout",
     "output_type": "stream",
     "text": [
      "[ 0.34906584  0.38724494  0.42542401  0.46360308  0.50178218  0.53996122\n",
      "  0.57814032  0.61631942  0.65449846  0.69267756  0.7308566   0.7690357\n",
      "  0.8072148   0.84539384  0.88357294  0.92175204  0.95993108  0.99811018\n",
      "  1.03628922  1.07446837  1.11264741  1.15082645  1.18900549  1.22718465\n",
      "  1.26536369  1.30354273  1.34172189  1.37990093  1.41807997  1.45625913\n",
      "  1.49443817  1.53261721  1.57079637]\n"
     ]
    }
   ],
   "source": [
    "x2f = meshblock[\"x2f\"].value\n",
    "print x2f"
   ]
  },
  {
   "cell_type": "code",
   "execution_count": 15,
   "metadata": {
    "collapsed": false
   },
   "outputs": [
    {
     "name": "stdout",
     "output_type": "stream",
     "text": [
      "0.368155390024\n",
      "0.0381791\n"
     ]
    }
   ],
   "source": [
    "thetai = (x2f[n]+x2f[n+1])/2.\n",
    "print thetai\n",
    "dthetai = abs(x2f[n]-x2f[n+1])\n",
    "print dthetai"
   ]
  },
  {
   "cell_type": "markdown",
   "metadata": {},
   "source": [
    "Checked that these are the same"
   ]
  },
  {
   "cell_type": "code",
   "execution_count": 16,
   "metadata": {
    "collapsed": false
   },
   "outputs": [],
   "source": [
    "# dS = ri*dri*dthetai\n",
    "# print \"The surface area per cell is :\", dS"
   ]
  },
  {
   "cell_type": "markdown",
   "metadata": {},
   "source": [
    "$$D(\\phi) = \\text{surface density} =\\int \\rho r^2sin\\theta dr d\\theta d\\phi=\\Sigma\\Sigma\\rho\\frac{\\Delta V_{cell}}{\\Delta \\phi} $$"
   ]
  },
  {
   "cell_type": "code",
   "execution_count": 17,
   "metadata": {
    "collapsed": false
   },
   "outputs": [],
   "source": [
    "density= meshblock[\"rho\"].value#density for each meshblock\n",
    "N_r = density.shape[0]\n",
    "N_theta=density.shape[1]\n",
    "N_phi= density.shape[2]"
   ]
  },
  {
   "cell_type": "markdown",
   "metadata": {},
   "source": [
    "Summing over a $r,\\theta$ slice of density: "
   ]
  },
  {
   "cell_type": "code",
   "execution_count": 18,
   "metadata": {
    "collapsed": false
   },
   "outputs": [
    {
     "name": "stdout",
     "output_type": "stream",
     "text": [
      "We have 32 values of D(phi) for this MeshBlock\n"
     ]
    }
   ],
   "source": [
    "D_mblock = []\n",
    "for phi_i in np.arange(N_phi):\n",
    "    D_mblock.append(sum(density[:,:,phi_i-1]*ri**2*sin(thetai)*dri*dthetai))\n",
    "print \"We have\", len(D_mblock),\"values of D(phi) for this MeshBlock\""
   ]
  },
  {
   "cell_type": "markdown",
   "metadata": {},
   "source": [
    "pretty low, but makes sense because this is outside the torus so gas pressure is suppose to be low (e-5).."
   ]
  },
  {
   "cell_type": "markdown",
   "metadata": {},
   "source": [
    "Computing $D(\\phi)$ for all 128 values of $\\phi$"
   ]
  },
  {
   "cell_type": "code",
   "execution_count": null,
   "metadata": {
    "collapsed": false
   },
   "outputs": [],
   "source": [
    "NUM_MESHBLOCK=24\n",
    "D = np.zeros(128)\n",
    "for M in np.arange(NUM_MESHBLOCK):\n",
    "    meshblock =h5f[\"MeshBlock{}\".format(M)]\n",
    "    for n in np.arange(N_phi):\n",
    "        loc = meshblock.attrs[\"LogicalLocation\"]\n",
    "        phi_i =n+32*loc[2]\n",
    "        density= meshblock[\"rho\"].value#density for each meshblock\n",
    "        N_phi= density.shape[2]\n",
    "        #Compute D_i in each meshblock\n",
    "        x1f = meshblock[\"x1f\"].value\n",
    "        x2f = meshblock[\"x2f\"].value\n",
    "        m=[]#mass summed over r,theta per density slice\n",
    "        for ri in np.arange(N_r):\n",
    "            for ti in np.arange(N_theta):\n",
    "                ri = (x1f[ri]+x1f[ri+1])/2.\n",
    "                dri = abs(x1f[ri]-x1f[ri+1])\n",
    "                thetai = (x2f[ti]+x2f[ti+1])/2.\n",
    "                dthetai = abs(x2f[ti]-x2f[ti+1])\n",
    "                m.append(density[ri,ti,n]*(ri**2)*sin(thetai)*dri*dthetai)\n",
    "        D[phi_i]=D[phi_i]+sum(m)"
   ]
  },
  {
   "cell_type": "code",
   "execution_count": null,
   "metadata": {
    "collapsed": false
   },
   "outputs": [],
   "source": [
    "D"
   ]
  },
  {
   "cell_type": "code",
   "execution_count": null,
   "metadata": {
    "collapsed": false
   },
   "outputs": [],
   "source": [
    "len(D)"
   ]
  },
  {
   "cell_type": "code",
   "execution_count": null,
   "metadata": {
    "collapsed": false
   },
   "outputs": [],
   "source": [
    "# plt.plot(np.arange(128),D)\n",
    "plt.plot(D)\n",
    "plt.xlabel(\"N\")\n",
    "plt.ylabel(\"density\")"
   ]
  },
  {
   "cell_type": "code",
   "execution_count": null,
   "metadata": {
    "collapsed": false,
    "scrolled": false
   },
   "outputs": [],
   "source": [
    "# np.fft.fft(D)"
   ]
  },
  {
   "cell_type": "code",
   "execution_count": null,
   "metadata": {
    "collapsed": false
   },
   "outputs": [],
   "source": [
    "plt.plot(np.fft.fft(D))\n",
    "plt.xlim(0,128)"
   ]
  },
  {
   "cell_type": "markdown",
   "metadata": {},
   "source": [
    "### Fastest growing mode (m=1)"
   ]
  },
  {
   "cell_type": "code",
   "execution_count": null,
   "metadata": {
    "collapsed": false
   },
   "outputs": [],
   "source": [
    "amp = float(real(max(np.fft.fft(D))))\n",
    "print amp"
   ]
  },
  {
   "cell_type": "code",
   "execution_count": null,
   "metadata": {
    "collapsed": false
   },
   "outputs": [],
   "source": [
    "3*2*4*32"
   ]
  },
  {
   "cell_type": "markdown",
   "metadata": {},
   "source": [
    "32 meshblocks in phi direction(spanning 128 zones) and 32 cells in each meshblock"
   ]
  },
  {
   "cell_type": "code",
   "execution_count": null,
   "metadata": {
    "collapsed": false
   },
   "outputs": [],
   "source": [
    "density= meshblock[\"rho\"].value#density for each meshblock"
   ]
  },
  {
   "cell_type": "code",
   "execution_count": 85,
   "metadata": {
    "collapsed": false
   },
   "outputs": [
    {
     "data": {
      "text/plain": [
       "<matplotlib.colorbar.Colorbar instance at 0x2b672fc0c878>"
      ]
     },
     "execution_count": 85,
     "metadata": {},
     "output_type": "execute_result"
    },
    {
     "data": {
      "image/png": "[encoded data removed]",
      "text/plain": [
       "<matplotlib.figure.Figure at 0x2b672f75d590>"
      ]
     },
     "metadata": {},
     "output_type": "display_data"
    }
   ],
   "source": [
    "plt.imshow(density[5,:,:],origin=\"lower\")\n",
    "plt.colorbar()"
   ]
  },
  {
   "cell_type": "code",
   "execution_count": 95,
   "metadata": {
    "collapsed": false
   },
   "outputs": [],
   "source": [
    "# for z in np.arange(32):\n",
    "#     plt.figure()\n",
    "#     plt.imshow(density[:,:,z],origin=\"lower\")\n",
    "#     plt.colorbar()"
   ]
  },
  {
   "cell_type": "code",
   "execution_count": 98,
   "metadata": {
    "collapsed": false
   },
   "outputs": [],
   "source": [
    "# for x in np.arange(32):\n",
    "#     plt.figure()\n",
    "#     plt.imshow(density[x,:,:],origin=\"lower\")\n",
    "#     plt.colorbar()"
   ]
  },
  {
   "cell_type": "code",
   "execution_count": 99,
   "metadata": {
    "collapsed": false
   },
   "outputs": [
    {
     "data": {
      "text/plain": [
       "(32, 32, 32)"
      ]
     },
     "execution_count": 99,
     "metadata": {},
     "output_type": "execute_result"
    }
   ],
   "source": [
    "density.shape"
   ]
  },
  {
   "cell_type": "code",
   "execution_count": 91,
   "metadata": {
    "collapsed": true
   },
   "outputs": [],
   "source": [
    "def compute_fastest_growing_mode(tstep_filename,debug=False):\n",
    "    if debug: print \"Working on {}\".format(tstep_filename) \n",
    "    hdf5 = h5py.File(tstep_filename, 'r+')\n",
    "    NUM_MESHBLOCK=24\n",
    "    D = np.zeros(128)\n",
    "    for M in np.arange(NUM_MESHBLOCK):\n",
    "        meshblock =hdf5[\"MeshBlock{}\".format(M)]\n",
    "        density= meshblock[\"rho\"].value#density for each meshblock\n",
    "        N_r = density.shape[2]\n",
    "        N_theta=density.shape[1]\n",
    "        N_phi= density.shape[0]\n",
    "        x1f = meshblock[\"x1f\"].value\n",
    "        x2f = meshblock[\"x2f\"].value\n",
    "#         plt.figure()\n",
    "#         plt.imshow(density[10,:,:],origin=\"lower\")\n",
    "#         plt.colorbar()\n",
    "        for n in np.arange(N_phi):\n",
    "            loc = meshblock.attrs[\"LogicalLocation\"]\n",
    "            phi_i =n+32*loc[2]\n",
    "            #Compute D_i in each meshblock\n",
    "            m=0#mass summed over r,theta per density slice\n",
    "            for ti in np.arange(N_theta):\n",
    "                thetai = (x2f[ti]+x2f[ti+1])*0.5\n",
    "                dthetai = abs(x2f[ti]-x2f[ti+1])\n",
    "                for rii in np.arange(N_r):\n",
    "                    #for each cell compute the coordinate to calculate the mass in each cell\n",
    "                    ri = (x1f[rii]+x1f[rii+1])*0.5\n",
    "                    dri = abs(x1f[rii]-x1f[rii+1])\n",
    "#                     if m<density[n,ti,rii]:\n",
    "#                         m=density[n,ti,rii]\n",
    "                    m=m+density[n,ti,rii]*(ri*ri)*sin(thetai)*dri*dthetai\n",
    "            D[phi_i]=D[phi_i]+m\n",
    "#             if D[phi_i]<m:\n",
    "#                 D[phi_i]=m\n",
    "#                 print m\n",
    "    if debug: print \"D:\",D\n",
    "    plt.plot(D)\n",
    "    amp = float(real(max(np.fft.fft(D))))\n",
    "    if debug: print \"amp:\", amp\n",
    "    return D"
   ]
  },
  {
   "cell_type": "code",
   "execution_count": 92,
   "metadata": {
    "collapsed": false
   },
   "outputs": [
    {
     "name": "stdout",
     "output_type": "stream",
     "text": [
      "Working on log.out1.00356.ath5\n",
      "D: [ 0.17981045  0.1772213   0.17482685  0.17264151  0.17066677  0.16890005\n",
      "  0.16734682  0.1660094   0.16487765  0.1639428   0.16319595  0.16261741\n",
      "  0.16218325  0.16188293  0.16170812  0.16164287  0.16167915  0.16180794\n",
      "  0.16201996  0.1623143   0.16269244  0.16315331  0.16369054  0.1643085\n",
      "  0.16501168  0.16580231  0.1666748   0.16763266  0.16868929  0.16984549\n",
      "  0.17109588  0.17244956  0.17392591  0.17551433  0.17721063  0.17904413\n",
      "  0.18101201  0.1830961   0.18532904  0.18773088  0.19027256  0.19296912\n",
      "  0.19586008  0.19892329  0.20214058  0.205538    0.20912459  0.21288399\n",
      "  0.21681365  0.22092216  0.22518907  0.22959799  0.23414708  0.23882983\n",
      "  0.24363537  0.24854993  0.2535575   0.25863938  0.26377811  0.26895869\n",
      "  0.27416827  0.2793942   0.28462155  0.28983225  0.29500832  0.30013337\n",
      "  0.30519176  0.31016764  0.31504283  0.31979444  0.32440387  0.32886465\n",
      "  0.3331594   0.33724563  0.34108994  0.34467908  0.3480027   0.35104354\n",
      "  0.3537828   0.35621198  0.35830701  0.36001369  0.36133567  0.36225453\n",
      "  0.3627539   0.36282643  0.36246821  0.36167799  0.36044831  0.35876199\n",
      "  0.35661883  0.35404704  0.35107119  0.34772641  0.34405427  0.34008094\n",
      "  0.33582038  0.33128882  0.32650609  0.32148777  0.31625071  0.31081341\n",
      "  0.30519642  0.29942781  0.29354101  0.28757001  0.28155065  0.27551896\n",
      "  0.26950893  0.263555    0.25768633  0.25192842  0.24630368  0.24082782\n",
      "  0.23551082  0.23036126  0.22538351  0.22058203  0.21596136  0.21152431\n",
      "  0.20727381  0.20320458  0.1993139   0.19559991  0.19206428  0.18871678\n",
      "  0.18555524  0.18259366]\n",
      "amp: 31.4862482059\n"
     ]
    },
    {
     "data": {
      "image/png": "[encoded data removed]",
      "text/plain": [
       "<matplotlib.figure.Figure at 0x2abc5304c750>"
      ]
     },
     "metadata": {},
     "output_type": "display_data"
    }
   ],
   "source": [
    "density= compute_fastest_growing_mode(\"log.out1.00356.ath5\",True)"
   ]
  },
  {
   "cell_type": "code",
   "execution_count": 93,
   "metadata": {
    "collapsed": false
   },
   "outputs": [],
   "source": [
    "dens = np.fft.rfft(density)\n",
    "damp = dens*np.conj(dens)"
   ]
  },
  {
   "cell_type": "code",
   "execution_count": 94,
   "metadata": {
    "collapsed": false
   },
   "outputs": [
    {
     "name": "stdout",
     "output_type": "stream",
     "text": [
      "31.4862482059\n",
      "6.36602205345\n",
      "1.06306928404\n",
      "0.0561465399926\n",
      "0.037207603842\n"
     ]
    }
   ],
   "source": [
    "print sqrt(real(damp[0]))\n",
    "print sqrt(real(damp[1]))\n",
    "print sqrt(real(damp[2]))\n",
    "print sqrt(real(damp[3]))\n",
    "print sqrt(real(damp[4]))"
   ]
  },
  {
   "cell_type": "code",
   "execution_count": 96,
   "metadata": {
    "collapsed": false
   },
   "outputs": [
    {
     "data": {
      "text/plain": [
       "(1.8301518029406065e-11, array(40.5262367850479))"
      ]
     },
     "execution_count": 96,
     "metadata": {},
     "output_type": "execute_result"
    },
    {
     "data": {
      "image/png": "[encoded data removed]",
      "text/plain": [
       "<matplotlib.figure.Figure at 0x2abc53823c90>"
      ]
     },
     "metadata": {},
     "output_type": "display_data"
    }
   ],
   "source": [
    "plt.semilogy(damp)\n",
    "plt.xlim(1,10)\n",
    "plt.ylim(0,real(damp[1]))"
   ]
  },
  {
   "cell_type": "code",
   "execution_count": 47,
   "metadata": {
    "collapsed": false
   },
   "outputs": [
    {
     "data": {
      "text/plain": [
       "(0.25779121766620472, 0.25782052362579172)"
      ]
     },
     "execution_count": 47,
     "metadata": {},
     "output_type": "execute_result"
    },
    {
     "data": {
      "image/png": "[encoded data removed]",
      "text/plain": [
       "<matplotlib.figure.Figure at 0x2b66ecb18750>"
      ]
     },
     "metadata": {},
     "output_type": "display_data"
    }
   ],
   "source": [
    "plt.plot(density)\n",
    "plt.xlabel(\"Phi\")\n",
    "plt.ylabel(\"density\")\n",
    "plt.ylim(min(density),max(density))"
   ]
  },
  {
   "cell_type": "markdown",
   "metadata": {},
   "source": [
    "On the log/ dataset, only goes till 16 orbits. In Hawley 1991, goes till 20 orbits then saturation"
   ]
  },
  {
   "cell_type": "code",
   "execution_count": 16,
   "metadata": {
    "collapsed": false,
    "scrolled": true
   },
   "outputs": [
    {
     "data": {
      "text/plain": [
       "[<matplotlib.lines.Line2D at 0x2ae83b749850>]"
      ]
     },
     "execution_count": 16,
     "metadata": {},
     "output_type": "execute_result"
    },
    {
     "data": {
      "image/png": "[encoded data removed]",
      "text/plain": [
       "<matplotlib.figure.Figure at 0x2ae83b7eb5d0>"
      ]
     },
     "metadata": {},
     "output_type": "display_data"
    }
   ],
   "source": [
    "amp =  np.loadtxt(\"amp.txt\")\n",
    "t_orbits  = np.arange(len(amp))/2./np.pi\n",
    "plt.ylabel(\"Mode Amplitude\",fontsize=13)\n",
    "plt.xlabel(\"Orbits\",fontsize=13)\n",
    "plt.semilogy(t_orbits,amp[:,1])"
   ]
  },
  {
   "cell_type": "markdown",
   "metadata": {
    "collapsed": true
   },
   "source": [
    "Using data  from athena/test_dfloor: "
   ]
  },
  {
   "cell_type": "code",
   "execution_count": 83,
   "metadata": {
    "collapsed": true
   },
   "outputs": [],
   "source": [
    "from matplotlib.legend_handler import HandlerLine2D"
   ]
  },
  {
   "cell_type": "code",
   "execution_count": 97,
   "metadata": {
    "collapsed": false
   },
   "outputs": [
    {
     "name": "stdout",
     "output_type": "stream",
     "text": [
      "32.994127312         0.0           0.0          0.0            0.0\t\t0.0\n",
      "32.9960779716         0.0           0.0          0.0            0.000149729272135\t\t0.0\n",
      "32.9989733846         0.0           0.0          0.0            0.000202475545859\t\t0.0\n",
      "33.0017993465         0.0           0.0          0.0            0.00011254823054\t\t0.0\n",
      "33.0041842437         0.0           0.0          0.0            0.000156702162798\t\t0.0\n",
      "33.0059210783         0.0           0.0          0.0            0.000378752341057\t\t0.0\n",
      "33.0082885645         0.0           0.0          0.0            0.000404676625371\t\t0.0\n",
      "33.0103940413         0.0           0.0          0.0            0.000241618817101\t\t0.0\n",
      "33.011175754         1.01652960566e-15           1.67419024808e-15          1.66016117907e-15            0.000183510020559\t\t3.04378294408e-16\n",
      "33.0115558557         0.0           5.4733995114e-14          0.0            0.000514754595141\t\t0.0\n",
      "33.0120745767         1.14602372474e-15           3.29533476747e-15          5.15421172639e-15            0.000367857267919\t\t3.48967801632e-15\n",
      "33.0132353493         3.22923718266e-15           2.22366882846e-15          2.65981408817e-14            0.000303781379221\t\t2.03843185567e-14\n",
      "33.0136945767         2.39374959629e-14           3.63210182194e-15          3.40760872772e-14            0.000408832722196\t\t3.08899799971e-14\n",
      "33.0130678988         1.13481193034e-13           2.43699514727e-14          7.13496607365e-14            0.000523457821806\t\t1.3201280658e-13\n",
      "33.0128723461         2.74356808427e-14           1.76783260608e-14          2.23996988601e-14            0.000671725268915\t\t2.33155872782e-14\n",
      "33.0128915834         1.24132125594e-13           1.12512496789e-13          2.42888662305e-13            0.000525630783876\t\t6.76567705676e-14\n",
      "33.0129679237         2.6197815081e-14           4.93127898225e-14          5.27954394936e-14            7.05866290473e-05\t\t7.7884066095e-14\n",
      "33.0131090609         1.04365739261e-13           7.65135768018e-14          9.17821356156e-14            0.000563894791578\t\t1.53329624495e-13\n",
      "33.0126218761         1.03603763983e-13           6.09977018322e-14          1.37033566062e-13            0.000474860106197\t\t1.56933607653e-13\n",
      "33.0114046878         2.50610063287e-14           2.21652419465e-14          1.14142125111e-13            0.000452048321045\t\t5.90455138121e-14\n",
      "33.0095561369         2.4098334004e-13           5.60026118105e-14          2.36692853531e-13            0.000183149184595\t\t1.61214571968e-13\n",
      "33.0078377416         4.67717678559e-12           5.35012594844e-14          4.73392633197e-12            0.000223280639631\t\t4.77968723615e-12\n",
      "33.006079949         1.01327024784e-12           1.08882776336e-12          8.26733175176e-13            0.000666808620376\t\t1.20906068947e-12\n",
      "33.0038793096         6.83916712335e-13           5.74099229692e-13          5.8334998138e-13            0.000666620412988\t\t5.64966188163e-13\n",
      "33.0015300374         1.2172026272e-11           5.8885622308e-13          1.14866306979e-11            0.000248197845777\t\t1.19452418516e-11\n",
      "32.9991696728         7.70780418331e-11           1.08949782299e-12          7.66358851995e-11            0.000590148435712\t\t7.24069195239e-11\n",
      "32.9968843706         8.63770291023e-12           3.70791920358e-13          9.30816319773e-12            0.000333465750023\t\t9.67026756377e-12\n",
      "32.9945065588         1.60127342579e-12           1.9583445772e-12          1.2965527027e-12            0.000454771349296\t\t5.09958696214e-13\n",
      "32.9917206786         1.15168980465e-10           3.61807330632e-11          1.11412130714e-10            0.000517060237795\t\t1.25635867328e-10\n",
      "32.9886056592         1.77575298835e-11           1.18052987145e-11          1.59584260445e-11            0.000256607133937\t\t1.29916004261e-11\n",
      "32.9849710929         9.06912046319e-11           4.75960995564e-12          7.78623361277e-11            0.00074342551105\t\t8.06230703321e-11\n",
      "32.9808525859         2.48582087427e-11           6.41932940969e-12          3.43969959929e-11            0.000390521702767\t\t3.13133122247e-11\n",
      "32.9763823501         7.28466387803e-11           5.44334903684e-11          5.89674778032e-11            0.000588336186236\t\t6.78197391714e-11\n",
      "32.9715116628         1.59696244379e-10           1.75334780173e-11          1.61167934028e-10            0.000745700359299\t\t1.26343804454e-10\n",
      "32.9669885763         3.89756471601e-11           1.05341683479e-11          3.52200466947e-11            0.000425777130191\t\t2.35839612526e-11\n",
      "32.9628951091         3.63070001525e-11           9.82529111733e-11          2.9071774131e-10            0.000679884167122\t\t2.49294293506e-10\n",
      "32.9587411495         4.06569392926e-11           2.26751234805e-10          1.31123203631e-10            0.000540950943733\t\t1.44267747008e-10\n",
      "32.9557869597         1.57727576954e-10           3.88602248483e-11          2.30827571981e-10            0.00119870184146\t\t1.03824053284e-10\n",
      "32.9552332699         2.96268574393e-10           1.67201438671e-10          3.21214511432e-10            0.00109380788547\t\t3.36847944295e-10\n",
      "32.9570037173         1.41382178633e-10           2.03195989794e-10          2.71582185932e-10            0.000714365495046\t\t1.82553969094e-10\n",
      "32.9611214391         1.23856142883e-10           1.15879334872e-10          1.99346533098e-10            0.00167517549062\t\t1.85835666898e-10\n",
      "32.9656355881         1.91741331878e-10           1.96662600241e-10          3.16339933175e-10            0.00190643627437\t\t3.0005548227e-10\n",
      "32.9682320967         1.4987789245e-10           1.15633619714e-10          4.61522856716e-10            0.00142088599397\t\t1.75490939868e-10\n",
      "32.9691136518         1.51947800997e-10           1.56800135043e-10          1.74267465827e-10            0.00171747328845\t\t3.02883716355e-10\n",
      "32.9693352712         2.57648992482e-10           9.10718958279e-11          2.39896021845e-10            0.00245651641222\t\t3.31755818865e-10\n",
      "32.9703249813         4.72794084886e-10           1.76619885853e-10          2.00185675932e-10            0.00233107991625\t\t2.4196541707e-10\n",
      "32.9725693696         7.15445412254e-10           1.24320319829e-10          3.67546551555e-10            0.00277489078913\t\t4.92016147475e-10\n",
      "32.9752932649         2.29132109182e-10           5.8865413535e-11          3.95849976057e-10            0.00263422888952\t\t5.67652504473e-10\n",
      "32.9779847163         1.58082340475e-10           1.29332007273e-10          2.83097321777e-10            0.00297841310003\t\t1.20224182629e-10\n",
      "32.9811033153         2.71362011856e-10           1.51109214071e-10          3.02310210035e-10            0.00310945432305\t\t4.18846565357e-10\n",
      "32.984665618         1.25621244792e-10           1.398213956e-10          5.91575895006e-10            0.00267022750772\t\t1.16351767489e-10\n",
      "32.987884639         7.18547947866e-11           2.40581344596e-10          1.51422871549e-10            0.00320259405126\t\t1.34083198635e-10\n",
      "32.9904317296         4.02310749757e-10           5.0200154364e-10          3.65130380467e-11            0.00335961009822\t\t2.72879418183e-10\n",
      "32.9923142535         9.40542400895e-10           7.04943330486e-10          3.64311972957e-10            0.00345432048277\t\t5.25153353685e-10\n",
      "32.9938519696         1.49796516124e-09           8.7824062637e-10          1.06636158864e-09            0.0035333908407\t\t2.51528913506e-10\n",
      "32.9945458187         4.64253255562e-10           8.31371897427e-10          3.69767205178e-10            0.00356312472503\t\t7.04996548689e-10\n",
      "32.9940237439         7.55691236253e-10           6.5363530706e-10          9.98460858813e-10            0.00404514456528\t\t1.2821264939e-09\n",
      "32.9925390203         2.32735982019e-10           1.88505210846e-10          1.05250570623e-09            0.00388361144595\t\t7.93900962418e-10\n",
      "32.9904820875         6.02539850587e-10           1.07583534016e-09          6.66295513527e-10            0.00361287765945\t\t5.19886749776e-10\n",
      "32.9895522168         7.82039296086e-10           6.68065593882e-10          5.67470227813e-10            0.00340589580565\t\t7.49700297764e-10\n",
      "32.9911606109         1.42321772534e-09           4.74524308949e-10          4.22044438473e-10            0.00401246721373\t\t2.76440382795e-10\n",
      "32.9948065775         6.29964110498e-10           6.39744500639e-10          2.31257715437e-10            0.00405429763546\t\t8.30017227051e-10\n",
      "32.9990450908         1.15715603942e-09           8.5068549121e-10          2.3562649996e-09            0.00357386020451\t\t5.27633034675e-10\n",
      "33.0014772475         3.53438688635e-09           1.12705273517e-09          1.66708241364e-09            0.00345810818493\t\t4.03643171268e-10\n",
      "33.0011371382         1.53406940995e-09           4.84204005042e-10          2.38146534227e-09            0.00372824685095\t\t2.45385888371e-09\n",
      "32.9994282104         2.15346030051e-09           3.17325370013e-09          5.50415279292e-09            0.00348631366771\t\t1.70784497775e-09\n",
      "32.9980771379         3.98727495565e-09           4.656817213e-10          2.08645790498e-09            0.00313866306299\t\t4.76150784551e-10\n",
      "32.9974692895         1.98708627627e-09           1.03829136119e-09          1.88839926715e-09            0.00348670843223\t\t2.57937321782e-09\n",
      "32.9975677739         5.68083298442e-09           1.29275560294e-09          4.3302177503e-09            0.00339315968849\t\t9.34166866402e-11\n",
      "32.9982277159         7.78641573669e-09           1.64587143417e-09          1.4637763232e-09            0.00293902662937\t\t2.68980997971e-09\n",
      "32.9990332837         9.84885628727e-09           1.08520150791e-09          1.72497878797e-09            0.00280457135716\t\t2.39045105364e-09\n",
      "33.0003432276         8.30260314992e-09           1.21460939539e-09          2.14437975269e-09            0.00302821326456\t\t1.42602680541e-09\n",
      "33.0031621298         1.25748037525e-08           2.31614360904e-09          1.64455780933e-09            0.00325717333365\t\t1.81738192987e-09\n",
      "33.007469315         2.05158560218e-08           1.73749502123e-09          1.47684420953e-09            0.00297733680404\t\t6.8618178161e-10\n",
      "33.0121402667         1.81814764784e-08           1.61764230772e-09          5.78932382919e-09            0.00257978669811\t\t2.98934799112e-09\n",
      "33.0149848952         1.36274761129e-08           2.44146552029e-09          1.54354047577e-09            0.00274227072206\t\t4.70353988608e-09\n",
      "33.0155804998         9.96528612553e-09           2.1950847219e-09          6.26210175896e-09            0.00265770585286\t\t4.49545025986e-09\n",
      "33.0158122137         1.56834176995e-08           2.72731445998e-09          2.28732985168e-09            0.00250428375698\t\t5.47496316346e-09\n",
      "33.015796627         9.40594809392e-09           2.08585037621e-09          3.61320251541e-09            0.00224718851052\t\t5.59225845643e-09\n",
      "33.0157810852         2.21433971549e-08           3.87376159799e-09          1.13907194115e-08            0.00310892035928\t\t6.19809105651e-09\n",
      "33.0160043769         1.30296268885e-08           1.68783769067e-09          8.42019346813e-09            0.00229332663012\t\t4.45054828238e-09\n",
      "33.0168548923         3.02085937331e-08           3.10593023448e-09          2.01978904297e-09            0.00159160535368\t\t1.09852253331e-08\n",
      "33.0182713882         5.29583505115e-08           4.96914144657e-09          1.62626078977e-09            0.00161166234583\t\t9.25333106431e-09\n",
      "33.0197794555         2.80405401077e-08           3.57443139008e-09          6.10235915764e-09            0.00220532748554\t\t9.19072363988e-09\n",
      "33.0222482951         2.94855463309e-08           1.32315654442e-09          9.54688931456e-10            0.00210640844756\t\t4.24609268447e-09\n",
      "33.0261319786         6.73216326371e-08           3.02479527816e-09          7.7981157005e-09            0.0014298197335\t\t1.70398081077e-09\n",
      "33.0298068774         8.81848649212e-08           4.18852543245e-09          2.50035379898e-09            0.00107479277956\t\t1.07747474239e-08\n",
      "33.0309642008         9.45833068528e-08           2.55340051271e-09          5.73726416548e-09            0.000879912607135\t\t5.75919683814e-09\n",
      "33.0308436428         1.20731708577e-07           5.01433504512e-09          7.44172477432e-09            0.00111787196932\t\t3.22331854678e-09\n",
      "33.0300789067         1.32783779511e-07           3.65654656946e-09          9.48401949424e-09            0.000709356656761\t\t5.12093722786e-09\n",
      "33.0289605617         1.20541128459e-07           4.53119670195e-09          1.35710643629e-09            0.00139461794654\t\t1.13105925947e-08\n",
      "33.0276472894         1.42112368697e-07           9.10028583524e-10          5.04297943633e-09            0.00101427986936\t\t8.30870914796e-09\n",
      "33.0266643248         1.01241420664e-07           3.5511956186e-09          6.29368119054e-09            0.000351955895481\t\t1.52337667534e-08\n",
      "33.0262120504         2.10419427026e-07           6.09522478816e-09          7.58912878079e-09            0.00065084745552\t\t1.03724372122e-08\n",
      "33.0262109612         3.51133763621e-07           2.85499397855e-09          6.02508098672e-09            0.00108758207083\t\t8.08922380067e-09\n",
      "33.0274083533         4.14957654368e-07           2.66659579075e-09          9.32055860541e-09            0.000888660690584\t\t6.68081354584e-09\n",
      "33.0304047029         4.45952321321e-07           3.41346571453e-09          9.92023192729e-09            0.00056961565918\t\t1.4437359287e-08\n",
      "33.0337057403         4.41363758376e-07           6.41808925456e-09          5.06831456634e-09            0.000308209830047\t\t2.22789969494e-09\n",
      "33.0350583595         4.44700749089e-07           5.39078183174e-09          5.92045252144e-09            0.000162441366913\t\t4.22147869528e-09\n",
      "33.0347111849         5.0495232993e-07           5.80940905996e-09          1.64530640749e-08            0.000420738045358\t\t1.59619183485e-08\n",
      "32.994127312         0.0           0.0          0.0            0.0\t\t0.0\n",
      "32.9960779716         0.0           0.0          0.0            0.000149729272135\t\t0.0\n",
      "32.9989733846         0.0           0.0          0.0            0.000202475545859\t\t0.0\n",
      "33.0017993465         0.0           0.0          0.0            0.00011254823054\t\t0.0\n",
      "33.0041842437         0.0           0.0          0.0            0.000156702162798\t\t0.0\n",
      "33.0059210783         0.0           0.0          0.0            0.000378752341057\t\t0.0\n",
      "33.0082885645         0.0           0.0          0.0            0.000404676625371\t\t0.0\n",
      "33.0103940413         0.0           0.0          0.0            0.000241618817101\t\t0.0\n",
      "33.011175754         1.01652960566e-15           1.67419024808e-15          1.66016117907e-15            0.000183510020559\t\t3.04378294408e-16\n",
      "33.0115558557         0.0           5.4733995114e-14          0.0            0.000514754595141\t\t0.0\n",
      "33.0120745767         1.14602372474e-15           3.29533476747e-15          5.15421172639e-15            0.000367857267919\t\t3.48967801632e-15\n",
      "33.0132353493         3.22923718266e-15           2.22366882846e-15          2.65981408817e-14            0.000303781379221\t\t2.03843185567e-14\n",
      "33.0136945767         2.39374959629e-14           3.63210182194e-15          3.40760872772e-14            0.000408832722196\t\t3.08899799971e-14\n",
      "33.0130678988         1.13481193034e-13           2.43699514727e-14          7.13496607365e-14            0.000523457821806\t\t1.3201280658e-13\n",
      "33.0128723461         2.74356808427e-14           1.76783260608e-14          2.23996988601e-14            0.000671725268915\t\t2.33155872782e-14\n",
      "33.0128915834         1.24132125594e-13           1.12512496789e-13          2.42888662305e-13            0.000525630783876\t\t6.76567705676e-14\n",
      "33.0129679237         2.6197815081e-14           4.93127898225e-14          5.27954394936e-14            7.05866290473e-05\t\t7.7884066095e-14\n",
      "33.0131090609         1.04365739261e-13           7.65135768018e-14          9.17821356156e-14            0.000563894791578\t\t1.53329624495e-13\n",
      "33.0126218761         1.03603763983e-13           6.09977018322e-14          1.37033566062e-13            0.000474860106197\t\t1.56933607653e-13\n",
      "33.0114046878         2.50610063287e-14           2.21652419465e-14          1.14142125111e-13            0.000452048321045\t\t5.90455138121e-14\n",
      "33.0095561369         2.4098334004e-13           5.60026118105e-14          2.36692853531e-13            0.000183149184595\t\t1.61214571968e-13\n",
      "33.0078377416         4.67717678559e-12           5.35012594844e-14          4.73392633197e-12            0.000223280639631\t\t4.77968723615e-12\n",
      "33.006079949         1.01327024784e-12           1.08882776336e-12          8.26733175176e-13            0.000666808620376\t\t1.20906068947e-12\n",
      "33.0038793096         6.83916712335e-13           5.74099229692e-13          5.8334998138e-13            0.000666620412988\t\t5.64966188163e-13\n",
      "33.0015300374         1.2172026272e-11           5.8885622308e-13          1.14866306979e-11            0.000248197845777\t\t1.19452418516e-11\n",
      "32.9991696728         7.70780418331e-11           1.08949782299e-12          7.66358851995e-11            0.000590148435712\t\t7.24069195239e-11\n",
      "32.9968843706         8.63770291023e-12           3.70791920358e-13          9.30816319773e-12            0.000333465750023\t\t9.67026756377e-12\n",
      "32.9945065588         1.60127342579e-12           1.9583445772e-12          1.2965527027e-12            0.000454771349296\t\t5.09958696214e-13\n",
      "32.9917206786         1.15168980465e-10           3.61807330632e-11          1.11412130714e-10            0.000517060237795\t\t1.25635867328e-10\n",
      "32.9886056592         1.77575298835e-11           1.18052987145e-11          1.59584260445e-11            0.000256607133937\t\t1.29916004261e-11\n",
      "32.9849710929         9.06912046319e-11           4.75960995564e-12          7.78623361277e-11            0.00074342551105\t\t8.06230703321e-11\n",
      "32.9808525859         2.48582087427e-11           6.41932940969e-12          3.43969959929e-11            0.000390521702767\t\t3.13133122247e-11\n",
      "32.9763823501         7.28466387803e-11           5.44334903684e-11          5.89674778032e-11            0.000588336186236\t\t6.78197391714e-11\n",
      "32.9715116628         1.59696244379e-10           1.75334780173e-11          1.61167934028e-10            0.000745700359299\t\t1.26343804454e-10\n",
      "32.9669885763         3.89756471601e-11           1.05341683479e-11          3.52200466947e-11            0.000425777130191\t\t2.35839612526e-11\n",
      "32.9628951091         3.63070001525e-11           9.82529111733e-11          2.9071774131e-10            0.000679884167122\t\t2.49294293506e-10\n",
      "32.9587411495         4.06569392926e-11           2.26751234805e-10          1.31123203631e-10            0.000540950943733\t\t1.44267747008e-10\n",
      "32.9557869597         1.57727576954e-10           3.88602248483e-11          2.30827571981e-10            0.00119870184146\t\t1.03824053284e-10\n",
      "32.9552332699         2.96268574393e-10           1.67201438671e-10          3.21214511432e-10            0.00109380788547\t\t3.36847944295e-10\n",
      "32.9570037173         1.41382178633e-10           2.03195989794e-10          2.71582185932e-10            0.000714365495046\t\t1.82553969094e-10\n",
      "32.9611214391         1.23856142883e-10           1.15879334872e-10          1.99346533098e-10            0.00167517549062\t\t1.85835666898e-10\n",
      "32.9656355881         1.91741331878e-10           1.96662600241e-10          3.16339933175e-10            0.00190643627437\t\t3.0005548227e-10\n",
      "32.9682320967         1.4987789245e-10           1.15633619714e-10          4.61522856716e-10            0.00142088599397\t\t1.75490939868e-10\n",
      "32.9691136518         1.51947800997e-10           1.56800135043e-10          1.74267465827e-10            0.00171747328845\t\t3.02883716355e-10\n",
      "32.9693352712         2.57648992482e-10           9.10718958279e-11          2.39896021845e-10            0.00245651641222\t\t3.31755818865e-10\n",
      "32.9703249813         4.72794084886e-10           1.76619885853e-10          2.00185675932e-10            0.00233107991625\t\t2.4196541707e-10\n",
      "32.9725693696         7.15445412254e-10           1.24320319829e-10          3.67546551555e-10            0.00277489078913\t\t4.92016147475e-10\n",
      "32.9752932649         2.29132109182e-10           5.8865413535e-11          3.95849976057e-10            0.00263422888952\t\t5.67652504473e-10\n",
      "32.9779847163         1.58082340475e-10           1.29332007273e-10          2.83097321777e-10            0.00297841310003\t\t1.20224182629e-10\n",
      "32.9811033153         2.71362011856e-10           1.51109214071e-10          3.02310210035e-10            0.00310945432305\t\t4.18846565357e-10\n",
      "32.984665618         1.25621244792e-10           1.398213956e-10          5.91575895006e-10            0.00267022750772\t\t1.16351767489e-10\n",
      "32.987884639         7.18547947866e-11           2.40581344596e-10          1.51422871549e-10            0.00320259405126\t\t1.34083198635e-10\n",
      "32.9904317296         4.02310749757e-10           5.0200154364e-10          3.65130380467e-11            0.00335961009822\t\t2.72879418183e-10\n",
      "32.9923142535         9.40542400895e-10           7.04943330486e-10          3.64311972957e-10            0.00345432048277\t\t5.25153353685e-10\n",
      "32.9938519696         1.49796516124e-09           8.7824062637e-10          1.06636158864e-09            0.0035333908407\t\t2.51528913506e-10\n",
      "32.9945458187         4.64253255562e-10           8.31371897427e-10          3.69767205178e-10            0.00356312472503\t\t7.04996548689e-10\n",
      "32.9940237439         7.55691236253e-10           6.5363530706e-10          9.98460858813e-10            0.00404514456528\t\t1.2821264939e-09\n",
      "32.9925390203         2.32735982019e-10           1.88505210846e-10          1.05250570623e-09            0.00388361144595\t\t7.93900962418e-10\n",
      "32.9904820875         6.02539850587e-10           1.07583534016e-09          6.66295513527e-10            0.00361287765945\t\t5.19886749776e-10\n",
      "32.9895522168         7.82039296086e-10           6.68065593882e-10          5.67470227813e-10            0.00340589580565\t\t7.49700297764e-10\n",
      "32.9911606109         1.42321772534e-09           4.74524308949e-10          4.22044438473e-10            0.00401246721373\t\t2.76440382795e-10\n",
      "32.9948065775         6.29964110498e-10           6.39744500639e-10          2.31257715437e-10            0.00405429763546\t\t8.30017227051e-10\n",
      "32.9990450908         1.15715603942e-09           8.5068549121e-10          2.3562649996e-09            0.00357386020451\t\t5.27633034675e-10\n",
      "33.0014772475         3.53438688635e-09           1.12705273517e-09          1.66708241364e-09            0.00345810818493\t\t4.03643171268e-10\n",
      "33.0011371382         1.53406940995e-09           4.84204005042e-10          2.38146534227e-09            0.00372824685095\t\t2.45385888371e-09\n",
      "32.9994282104         2.15346030051e-09           3.17325370013e-09          5.50415279292e-09            0.00348631366771\t\t1.70784497775e-09\n",
      "32.9980771379         3.98727495565e-09           4.656817213e-10          2.08645790498e-09            0.00313866306299\t\t4.76150784551e-10\n",
      "32.9974692895         1.98708627627e-09           1.03829136119e-09          1.88839926715e-09            0.00348670843223\t\t2.57937321782e-09\n",
      "32.9975677739         5.68083298442e-09           1.29275560294e-09          4.3302177503e-09            0.00339315968849\t\t9.34166866402e-11\n",
      "32.9982277159         7.78641573669e-09           1.64587143417e-09          1.4637763232e-09            0.00293902662937\t\t2.68980997971e-09\n",
      "32.9990332837         9.84885628727e-09           1.08520150791e-09          1.72497878797e-09            0.00280457135716\t\t2.39045105364e-09\n",
      "33.0003432276         8.30260314992e-09           1.21460939539e-09          2.14437975269e-09            0.00302821326456\t\t1.42602680541e-09\n",
      "33.0031621298         1.25748037525e-08           2.31614360904e-09          1.64455780933e-09            0.00325717333365\t\t1.81738192987e-09\n",
      "33.007469315         2.05158560218e-08           1.73749502123e-09          1.47684420953e-09            0.00297733680404\t\t6.8618178161e-10\n",
      "33.0121402667         1.81814764784e-08           1.61764230772e-09          5.78932382919e-09            0.00257978669811\t\t2.98934799112e-09\n",
      "33.0149848952         1.36274761129e-08           2.44146552029e-09          1.54354047577e-09            0.00274227072206\t\t4.70353988608e-09\n",
      "33.0155804998         9.96528612553e-09           2.1950847219e-09          6.26210175896e-09            0.00265770585286\t\t4.49545025986e-09\n",
      "33.0158122137         1.56834176995e-08           2.72731445998e-09          2.28732985168e-09            0.00250428375698\t\t5.47496316346e-09\n",
      "33.015796627         9.40594809392e-09           2.08585037621e-09          3.61320251541e-09            0.00224718851052\t\t5.59225845643e-09\n",
      "33.0157810852         2.21433971549e-08           3.87376159799e-09          1.13907194115e-08            0.00310892035928\t\t6.19809105651e-09\n",
      "33.0160043769         1.30296268885e-08           1.68783769067e-09          8.42019346813e-09            0.00229332663012\t\t4.45054828238e-09\n",
      "33.0168548923         3.02085937331e-08           3.10593023448e-09          2.01978904297e-09            0.00159160535368\t\t1.09852253331e-08\n",
      "33.0182713882         5.29583505115e-08           4.96914144657e-09          1.62626078977e-09            0.00161166234583\t\t9.25333106431e-09\n",
      "33.0197794555         2.80405401077e-08           3.57443139008e-09          6.10235915764e-09            0.00220532748554\t\t9.19072363988e-09\n",
      "33.0222482951         2.94855463309e-08           1.32315654442e-09          9.54688931456e-10            0.00210640844756\t\t4.24609268447e-09\n",
      "33.0261319786         6.73216326371e-08           3.02479527816e-09          7.7981157005e-09            0.0014298197335\t\t1.70398081077e-09\n",
      "33.0298068774         8.81848649212e-08           4.18852543245e-09          2.50035379898e-09            0.00107479277956\t\t1.07747474239e-08\n",
      "33.0309642008         9.45833068528e-08           2.55340051271e-09          5.73726416548e-09            0.000879912607135\t\t5.75919683814e-09\n",
      "33.0308436428         1.20731708577e-07           5.01433504512e-09          7.44172477432e-09            0.00111787196932\t\t3.22331854678e-09\n",
      "33.0300789067         1.32783779511e-07           3.65654656946e-09          9.48401949424e-09            0.000709356656761\t\t5.12093722786e-09\n",
      "33.0289605617         1.20541128459e-07           4.53119670195e-09          1.35710643629e-09            0.00139461794654\t\t1.13105925947e-08\n",
      "33.0276472894         1.42112368697e-07           9.10028583524e-10          5.04297943633e-09            0.00101427986936\t\t8.30870914796e-09\n",
      "33.0266643248         1.01241420664e-07           3.5511956186e-09          6.29368119054e-09            0.000351955895481\t\t1.52337667534e-08\n",
      "33.0262120504         2.10419427026e-07           6.09522478816e-09          7.58912878079e-09            0.00065084745552\t\t1.03724372122e-08\n",
      "33.0262109612         3.51133763621e-07           2.85499397855e-09          6.02508098672e-09            0.00108758207083\t\t8.08922380067e-09\n",
      "33.0274083533         4.14957654368e-07           2.66659579075e-09          9.32055860541e-09            0.000888660690584\t\t6.68081354584e-09\n",
      "33.0304047029         4.45952321321e-07           3.41346571453e-09          9.92023192729e-09            0.00056961565918\t\t1.4437359287e-08\n",
      "33.0337057403         4.41363758376e-07           6.41808925456e-09          5.06831456634e-09            0.000308209830047\t\t2.22789969494e-09\n",
      "33.0350583595         4.44700749089e-07           5.39078183174e-09          5.92045252144e-09            0.000162441366913\t\t4.22147869528e-09\n",
      "33.0347111849         5.0495232993e-07           5.80940905996e-09          1.64530640749e-08            0.000420738045358\t\t1.59619183485e-08\n"
     ]
    }
   ],
   "source": [
    "cat amp.txt"
   ]
  },
  {
   "cell_type": "code",
   "execution_count": 88,
   "metadata": {
    "collapsed": false
   },
   "outputs": [
    {
     "data": {
      "text/plain": [
       "<matplotlib.legend.Legend at 0x2abc53602a10>"
      ]
     },
     "execution_count": 88,
     "metadata": {},
     "output_type": "execute_result"
    },
    {
     "data": {
      "image/png": "[encoded data removed]",
      "text/plain": [
       "<matplotlib.figure.Figure at 0x2abc534f2750>"
      ]
     },
     "metadata": {},
     "output_type": "display_data"
    }
   ],
   "source": [
    "amp =  np.loadtxt(\"../../athena/test_dfloor/amp.txt\")\n",
    "t_orbits  = np.arange(len(amp))/2./np.pi\n",
    "plt.ylabel(\"log(Mode Amplitude)\",fontsize=13)\n",
    "plt.xlabel(\"t [orbits]\",fontsize=13)\n",
    "# plt.semilogy(t_orbits,amp[:,1])\n",
    "plt.semilogy(t_orbits,amp[:,1],label=\"m=1\")\n",
    "plt.semilogy(t_orbits,amp[:,2],label=\"m=2\")\n",
    "plt.semilogy(t_orbits,amp[:,3],label=\"m=3\")\n",
    "plt.semilogy(t_orbits,amp[:,4],label=\"m=4\")\n",
    "plt.semilogy(t_orbits,amp[:,5],label=\"m=5\")\n",
    "plt.axvline(x_min,color='r',linestyle=\"--\")\n",
    "plt.axvline(x_max,color='r',linestyle=\"--\")\n",
    "plt.legend(loc='lower right',prop={'size':12},numpoints=1)"
   ]
  },
  {
   "cell_type": "markdown",
   "metadata": {},
   "source": [
    "Computing m=1 mode growth"
   ]
  },
  {
   "cell_type": "code",
   "execution_count": 89,
   "metadata": {
    "collapsed": false,
    "scrolled": false
   },
   "outputs": [
    {
     "name": "stdout",
     "output_type": "stream",
     "text": [
      "9.60575262362e-12\n"
     ]
    }
   ],
   "source": [
    "m=1\n",
    "x_min = 8\n",
    "x_max =35\n",
    "y_min = amp[x_min,:][m]\n",
    "y_max = amp[x_max,:][m]\n",
    "growth_rate = (y_max-y_min)/(x_max-x_min)\n",
    "print growth_rate"
   ]
  },
  {
   "cell_type": "raw",
   "metadata": {},
   "source": [
    "################################################################################################"
   ]
  },
  {
   "cell_type": "code",
   "execution_count": 27,
   "metadata": {
    "collapsed": false
   },
   "outputs": [],
   "source": [
    "mode_amp = []\n",
    "for f in sort(glob.glob(\"log.out1.000*.ath\")):\n",
    "#     if f==\"log.out1.00001.ath\" or f==\"log.out1.00100.ath\":\n",
    "    mode_amp.append(compute_fastest_growing_mode(f,False))"
   ]
  },
  {
   "cell_type": "code",
   "execution_count": 244,
   "metadata": {
    "collapsed": false
   },
   "outputs": [
    {
     "data": {
      "text/plain": [
       "[10.081504613486587]"
      ]
     },
     "execution_count": 244,
     "metadata": {},
     "output_type": "execute_result"
    }
   ],
   "source": [
    "mode_amp"
   ]
  },
  {
   "cell_type": "code",
   "execution_count": 222,
   "metadata": {
    "collapsed": false
   },
   "outputs": [
    {
     "data": {
      "text/plain": [
       "<matplotlib.text.Text at 0x2ae93cb7fe50>"
      ]
     },
     "execution_count": 222,
     "metadata": {},
     "output_type": "execute_result"
    },
    {
     "data": {
      "image/png": "[encoded data removed]",
      "text/plain": [
       "<matplotlib.figure.Figure at 0x2ae93cb8dad0>"
      ]
     },
     "metadata": {},
     "output_type": "display_data"
    }
   ],
   "source": [
    "plt.plot(mode_amp)\n",
    "plt.ylabel(\"Mode Amplitude\",fontsize=13)\n",
    "plt.xlabel(\"Time\",fontsize=13)"
   ]
  },
  {
   "cell_type": "markdown",
   "metadata": {
    "collapsed": true
   },
   "source": [
    "To Do\n",
    "- change code so that using MPICOMMWORLD ID or MESHBLOCK ID to initialize random seed"
   ]
  },
  {
   "cell_type": "code",
   "execution_count": null,
   "metadata": {
    "collapsed": true
   },
   "outputs": [],
   "source": []
  }
 ],
 "metadata": {
  "kernelspec": {
   "display_name": "Python 2",
   "language": "python",
   "name": "python2"
  },
  "language_info": {
   "codemirror_mode": {
    "name": "ipython",
    "version": 2
   },
   "file_extension": ".py",
   "mimetype": "text/x-python",
   "name": "python",
   "nbconvert_exporter": "python",
   "pygments_lexer": "ipython2",
   "version": "2.7.10"
  }
 },
 "nbformat": 4,
 "nbformat_minor": 0
}
