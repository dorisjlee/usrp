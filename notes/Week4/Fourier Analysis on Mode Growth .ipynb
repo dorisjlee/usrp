{
 "cells": [
  {
   "cell_type": "code",
   "execution_count": 1,
   "metadata": {
    "collapsed": false
   },
   "outputs": [
    {
     "name": "stdout",
     "output_type": "stream",
     "text": [
      "Populating the interactive namespace from numpy and matplotlib\n"
     ]
    }
   ],
   "source": [
    "%pylab inline"
   ]
  },
  {
   "cell_type": "code",
   "execution_count": 28,
   "metadata": {
    "collapsed": false
   },
   "outputs": [
    {
     "name": "stdout",
     "output_type": "stream",
     "text": [
      "/global/scratch2/sd/dorislee/athena_simulation_data/log\n"
     ]
    }
   ],
   "source": [
    "cd ~/gscratch/athena_simulation_data/log/"
   ]
  },
  {
   "cell_type": "code",
   "execution_count": 3,
   "metadata": {
    "collapsed": true
   },
   "outputs": [],
   "source": [
    "import sys\n",
    "sys.path.remove('/global/homes/d/dorislee/.local/lib/python2.7/site-packages/yt-3.2.dev0-py2.7-linux-x86_64.egg')\n",
    "sys.path.remove('/global/homes/d/dorislee/.local/lib/python2.7/site-packages')\n",
    "sys.path.append('/global/homes/d/dorislee/mypythonpackages')"
   ]
  },
  {
   "cell_type": "code",
   "execution_count": 4,
   "metadata": {
    "collapsed": false
   },
   "outputs": [],
   "source": [
    "import h5py\n",
    "import glob"
   ]
  },
  {
   "cell_type": "code",
   "execution_count": 5,
   "metadata": {
    "collapsed": false
   },
   "outputs": [],
   "source": [
    "filename=\"log.out1.00002.ath\" #just read the athena hdf5 file not the xdmf file\n",
    "h5f = h5py.File(filename, 'r+')"
   ]
  },
  {
   "cell_type": "markdown",
   "metadata": {},
   "source": [
    "#### This simulation was 96x64x128 where I defined each meshblock to be 32x32x32 so that I have 24 meshblock one of each processor , making use of one full NUMA node on Hopper"
   ]
  },
  {
   "cell_type": "code",
   "execution_count": 8,
   "metadata": {
    "collapsed": false
   },
   "outputs": [],
   "source": [
    "# for i in h5f.keys():print i"
   ]
  },
  {
   "cell_type": "code",
   "execution_count": 9,
   "metadata": {
    "collapsed": true
   },
   "outputs": [],
   "source": [
    "meshblock =h5f[\"MeshBlock0\"]"
   ]
  },
  {
   "cell_type": "code",
   "execution_count": 10,
   "metadata": {
    "collapsed": false
   },
   "outputs": [
    {
     "data": {
      "text/plain": [
       "[u'press', u'rho', u'vel1', u'vel2', u'vel3', u'x1f', u'x2f', u'x3f']"
      ]
     },
     "execution_count": 10,
     "metadata": {},
     "output_type": "execute_result"
    }
   ],
   "source": [
    "meshblock.keys()"
   ]
  },
  {
   "cell_type": "code",
   "execution_count": 11,
   "metadata": {
    "collapsed": false
   },
   "outputs": [
    {
     "name": "stdout",
     "output_type": "stream",
     "text": [
      "[ 0.2         0.20895773  0.21818419  0.22768743  0.2374758   0.24755779\n",
      "  0.25794226  0.26863825  0.27965513  0.29100251  0.3026903   0.31472874\n",
      "  0.32712832  0.3398999   0.35305464  0.366604    0.38055986  0.39493439\n",
      "  0.40974012  0.42499006  0.44069749  0.45687616  0.47354016  0.49070409\n",
      "  0.50838292  0.52659214  0.54534763  0.56466579  0.58456349  0.60505813\n",
      "  0.6261676   0.64791036  0.67030543]\n"
     ]
    }
   ],
   "source": [
    "x1f = meshblock[\"x1f\"].value\n",
    "print x1f\n",
    "# plt.plot(x1f,'o') #linearly sampled series of r values in a meshblock"
   ]
  },
  {
   "cell_type": "markdown",
   "metadata": {},
   "source": [
    "$$r_i = \\frac{(r_+ + r_-)}{2}$$"
   ]
  },
  {
   "cell_type": "code",
   "execution_count": 12,
   "metadata": {
    "collapsed": true
   },
   "outputs": [],
   "source": [
    "n = 0#for cell number n"
   ]
  },
  {
   "cell_type": "code",
   "execution_count": 13,
   "metadata": {
    "collapsed": false
   },
   "outputs": [
    {
     "name": "stdout",
     "output_type": "stream",
     "text": [
      "0.204478859901\n"
     ]
    }
   ],
   "source": [
    "ri = (x1f[n]+x1f[n+1])/2.\n",
    "print ri"
   ]
  },
  {
   "cell_type": "code",
   "execution_count": 14,
   "metadata": {
    "collapsed": false
   },
   "outputs": [
    {
     "name": "stdout",
     "output_type": "stream",
     "text": [
      "0.00895773\n"
     ]
    }
   ],
   "source": [
    "dri = abs(x1f[n]-x1f[n+1])\n",
    "print dri"
   ]
  },
  {
   "cell_type": "markdown",
   "metadata": {},
   "source": [
    "Computing the r,$\\theta$ surface density ~~over the whole $\\phi_i$ slice~~ per cell\n",
    "$$\\Delta Si,j,k =\\int\\int r drd\\theta = r_i\\Delta r_i\\Delta \\theta_j$$"
   ]
  },
  {
   "cell_type": "markdown",
   "metadata": {},
   "source": [
    "total of 64 meshblocks spanning from $\\theta$=0.32 to 2.79 radian and 32 zones per Meshblock"
   ]
  },
  {
   "cell_type": "code",
   "execution_count": 15,
   "metadata": {
    "collapsed": false
   },
   "outputs": [],
   "source": [
    "# (2.79252680319-0.34906585039)/64.*32"
   ]
  },
  {
   "cell_type": "code",
   "execution_count": 16,
   "metadata": {
    "collapsed": false
   },
   "outputs": [
    {
     "name": "stdout",
     "output_type": "stream",
     "text": [
      "[ 0.34906584  0.38724494  0.42542401  0.46360308  0.50178218  0.53996122\n",
      "  0.57814032  0.61631942  0.65449846  0.69267756  0.7308566   0.7690357\n",
      "  0.8072148   0.84539384  0.88357294  0.92175204  0.95993108  0.99811018\n",
      "  1.03628922  1.07446837  1.11264741  1.15082645  1.18900549  1.22718465\n",
      "  1.26536369  1.30354273  1.34172189  1.37990093  1.41807997  1.45625913\n",
      "  1.49443817  1.53261721  1.57079637]\n"
     ]
    }
   ],
   "source": [
    "x2f = meshblock[\"x2f\"].value\n",
    "print x2f"
   ]
  },
  {
   "cell_type": "code",
   "execution_count": 17,
   "metadata": {
    "collapsed": false
   },
   "outputs": [
    {
     "name": "stdout",
     "output_type": "stream",
     "text": [
      "0.368155390024\n",
      "0.0381791\n"
     ]
    }
   ],
   "source": [
    "thetai = (x2f[n]+x2f[n+1])/2.\n",
    "print thetai\n",
    "dthetai = abs(x2f[n]-x2f[n+1])\n",
    "print dthetai"
   ]
  },
  {
   "cell_type": "markdown",
   "metadata": {},
   "source": [
    "Checked that these are the same"
   ]
  },
  {
   "cell_type": "code",
   "execution_count": 18,
   "metadata": {
    "collapsed": false
   },
   "outputs": [],
   "source": [
    "# dS = ri*dri*dthetai\n",
    "# print \"The surface area per cell is :\", dS"
   ]
  },
  {
   "cell_type": "markdown",
   "metadata": {},
   "source": [
    "$$D(\\phi) = \\text{surface density} =\\int \\rho r^2sin\\theta dr d\\theta d\\phi=\\Sigma\\Sigma\\rho\\frac{\\Delta V_{cell}}{\\Delta \\phi} $$"
   ]
  },
  {
   "cell_type": "code",
   "execution_count": 19,
   "metadata": {
    "collapsed": false
   },
   "outputs": [],
   "source": [
    "density= meshblock[\"rho\"].value#density for each meshblock\n",
    "N_r = density.shape[0]\n",
    "N_theta=density.shape[1]\n",
    "N_phi= density.shape[2]"
   ]
  },
  {
   "cell_type": "markdown",
   "metadata": {},
   "source": [
    "Summing over a $r,\\theta$ slice of density: "
   ]
  },
  {
   "cell_type": "code",
   "execution_count": 20,
   "metadata": {
    "collapsed": false
   },
   "outputs": [
    {
     "name": "stdout",
     "output_type": "stream",
     "text": [
      "We have 32 values of D(phi) for this MeshBlock\n"
     ]
    }
   ],
   "source": [
    "D_mblock = []\n",
    "for phi_i in np.arange(N_phi):\n",
    "    D_mblock.append(sum(density[:,:,phi_i-1]*ri**2*sin(thetai)*dri*dthetai))\n",
    "print \"We have\", len(D_mblock),\"values of D(phi) for this MeshBlock\""
   ]
  },
  {
   "cell_type": "markdown",
   "metadata": {},
   "source": [
    "pretty low, but makes sense because this is outside the torus so gas pressure is suppose to be low (e-5).."
   ]
  },
  {
   "cell_type": "markdown",
   "metadata": {},
   "source": [
    "Computing $D(\\phi)$ for all 128 values of $\\phi$"
   ]
  },
  {
   "cell_type": "code",
   "execution_count": 33,
   "metadata": {
    "collapsed": false
   },
   "outputs": [],
   "source": [
    "NUM_MESHBLOCK=24\n",
    "D = np.zeros(128)\n",
    "for M in np.arange(NUM_MESHBLOCK):\n",
    "    meshblock =h5f[\"MeshBlock{}\".format(M)]\n",
    "    for n in np.arange(N_phi):\n",
    "        loc = meshblock.attrs[\"LogicalLocation\"]\n",
    "        phi_i =n+32*loc[2]\n",
    "        density= meshblock[\"rho\"].value#density for each meshblock\n",
    "        N_phi= density.shape[2]\n",
    "        #Compute D_i in each meshblock\n",
    "        x1f = meshblock[\"x1f\"].value\n",
    "        x2f = meshblock[\"x2f\"].value\n",
    "        m=[]#mass summed over r,theta per density slice\n",
    "        for ri in np.arange(N_r):\n",
    "            for ti in np.arange(N_theta):\n",
    "                ri = (x1f[ri]+x1f[ri+1])/2.\n",
    "                dri = abs(x1f[ri]-x1f[ri+1])\n",
    "                thetai = (x2f[ti]+x2f[ti+1])/2.\n",
    "                dthetai = abs(x2f[ti]-x2f[ti+1])\n",
    "                m.append(density[ri,ti,n]*(ri**2)*sin(thetai)*dri*dthetai)\n",
    "        D[phi_i]=D[phi_i]+sum(m)"
   ]
  },
  {
   "cell_type": "code",
   "execution_count": 34,
   "metadata": {
    "collapsed": false
   },
   "outputs": [
    {
     "data": {
      "text/plain": [
       "array([ 0.0018349 ,  0.00266435,  0.00634968,  0.01671126,  0.03541045,\n",
       "        0.0603018 ,  0.08724533,  0.11295401,  0.13556407,  0.15416046,\n",
       "        0.16840489,  0.17835803,  0.18344589,  0.18377902,  0.17963329,\n",
       "        0.17121258,  0.15925481,  0.14456472,  0.12793963,  0.109964  ,\n",
       "        0.09130204,  0.07265207,  0.05465038,  0.03766821,  0.02221125,\n",
       "        0.00991291,  0.00341254,  0.00190079,  0.00173963,  0.00172931,\n",
       "        0.00172912,  0.00171475,  0.0018349 ,  0.00266435,  0.00634968,\n",
       "        0.01671126,  0.03541045,  0.0603018 ,  0.08724533,  0.11295401,\n",
       "        0.13556407,  0.15416046,  0.16840489,  0.17835803,  0.18344589,\n",
       "        0.18377902,  0.17963329,  0.17121258,  0.15925481,  0.14456472,\n",
       "        0.12793963,  0.109964  ,  0.09130204,  0.07265207,  0.05465038,\n",
       "        0.03766821,  0.02221125,  0.00991291,  0.00341254,  0.00190079,\n",
       "        0.00173963,  0.00172931,  0.00172912,  0.00171475,  0.0018349 ,\n",
       "        0.00266435,  0.00634968,  0.01671126,  0.03541045,  0.0603018 ,\n",
       "        0.08724533,  0.11295401,  0.13556407,  0.15416046,  0.16840489,\n",
       "        0.17835803,  0.18344589,  0.18377902,  0.17963329,  0.17121258,\n",
       "        0.15925481,  0.14456472,  0.12793963,  0.109964  ,  0.09130204,\n",
       "        0.07265207,  0.05465038,  0.03766821,  0.02221125,  0.00991291,\n",
       "        0.00341254,  0.00190079,  0.00173963,  0.00172931,  0.00172912,\n",
       "        0.00171475,  0.0018349 ,  0.00266435,  0.00634968,  0.01671126,\n",
       "        0.03541045,  0.0603018 ,  0.08724533,  0.11295401,  0.13556407,\n",
       "        0.15416046,  0.16840489,  0.17835803,  0.18344589,  0.18377902,\n",
       "        0.17963329,  0.17121258,  0.15925481,  0.14456472,  0.12793963,\n",
       "        0.109964  ,  0.09130204,  0.07265207,  0.05465038,  0.03766821,\n",
       "        0.02221125,  0.00991291,  0.00341254,  0.00190079,  0.00173963,\n",
       "        0.00172931,  0.00172912,  0.00171475])"
      ]
     },
     "execution_count": 34,
     "metadata": {},
     "output_type": "execute_result"
    }
   ],
   "source": [
    "D"
   ]
  },
  {
   "cell_type": "code",
   "execution_count": 35,
   "metadata": {
    "collapsed": false
   },
   "outputs": [
    {
     "data": {
      "text/plain": [
       "128"
      ]
     },
     "execution_count": 35,
     "metadata": {},
     "output_type": "execute_result"
    }
   ],
   "source": [
    "len(D)"
   ]
  },
  {
   "cell_type": "code",
   "execution_count": 36,
   "metadata": {
    "collapsed": false
   },
   "outputs": [
    {
     "data": {
      "text/plain": [
       "<matplotlib.text.Text at 0x2aefb4b78790>"
      ]
     },
     "execution_count": 36,
     "metadata": {},
     "output_type": "execute_result"
    },
    {
     "data": {
      "image/png": "[encoded data removed]",
      "text/plain": [
       "<matplotlib.figure.Figure at 0x2aefb4b97cd0>"
      ]
     },
     "metadata": {},
     "output_type": "display_data"
    }
   ],
   "source": [
    "# plt.plot(np.arange(128),D)\n",
    "plt.plot(D)\n",
    "plt.xlabel(\"N\")\n",
    "plt.ylabel(\"density\")"
   ]
  },
  {
   "cell_type": "code",
   "execution_count": 38,
   "metadata": {
    "collapsed": false
   },
   "outputs": [
    {
     "data": {
      "text/plain": [
       "array([  1.00815046e+01 +0.00000000e+00j,\n",
       "         0.00000000e+00 +0.00000000e+00j,\n",
       "         0.00000000e+00 +0.00000000e+00j,\n",
       "         0.00000000e+00 +0.00000000e+00j,\n",
       "        -5.22183892e+00 -3.25158643e+00j,\n",
       "         0.00000000e+00 +0.00000000e+00j,\n",
       "         0.00000000e+00 +0.00000000e+00j,\n",
       "         0.00000000e+00 +0.00000000e+00j,\n",
       "         3.73459327e-02 +9.03828697e-01j,\n",
       "         0.00000000e+00 +0.00000000e+00j,\n",
       "         0.00000000e+00 +0.00000000e+00j,\n",
       "         0.00000000e+00 +0.00000000e+00j,\n",
       "         1.46313492e-01 +3.84283114e-01j,\n",
       "         0.00000000e+00 +0.00000000e+00j,\n",
       "         0.00000000e+00 +0.00000000e+00j,\n",
       "         0.00000000e+00 +0.00000000e+00j,\n",
       "         5.46128837e-02 +1.35852062e-01j,\n",
       "         0.00000000e+00 +0.00000000e+00j,\n",
       "         0.00000000e+00 +0.00000000e+00j,\n",
       "         0.00000000e+00 +0.00000000e+00j,\n",
       "         2.28568794e-02 -8.33971376e-03j,\n",
       "         0.00000000e+00 +0.00000000e+00j,\n",
       "         0.00000000e+00 +0.00000000e+00j,\n",
       "         0.00000000e+00 +0.00000000e+00j,\n",
       "         1.99365017e-02 -3.39095481e-02j,\n",
       "         0.00000000e+00 +0.00000000e+00j,\n",
       "         0.00000000e+00 +0.00000000e+00j,\n",
       "         0.00000000e+00 +0.00000000e+00j,\n",
       "         1.91353806e-02 -1.34378708e-02j,\n",
       "         0.00000000e+00 +0.00000000e+00j,\n",
       "         0.00000000e+00 +0.00000000e+00j,\n",
       "         0.00000000e+00 +0.00000000e+00j,\n",
       "         5.59277028e-03 +2.87599467e-03j,\n",
       "         0.00000000e+00 +0.00000000e+00j,\n",
       "         0.00000000e+00 +0.00000000e+00j,\n",
       "         0.00000000e+00 +0.00000000e+00j,\n",
       "        -3.64884622e-03 +8.03285899e-04j,\n",
       "         0.00000000e+00 +0.00000000e+00j,\n",
       "         0.00000000e+00 +0.00000000e+00j,\n",
       "         0.00000000e+00 +0.00000000e+00j,\n",
       "        -4.38771555e-03 -1.67378651e-03j,\n",
       "         0.00000000e+00 +0.00000000e+00j,\n",
       "         0.00000000e+00 +0.00000000e+00j,\n",
       "         0.00000000e+00 +0.00000000e+00j,\n",
       "         1.77695525e-04 -1.91918212e-03j,\n",
       "         0.00000000e+00 +0.00000000e+00j,\n",
       "         0.00000000e+00 +0.00000000e+00j,\n",
       "         0.00000000e+00 +0.00000000e+00j,\n",
       "         1.12326661e-03 -1.35900987e-03j,\n",
       "         0.00000000e+00 +0.00000000e+00j,\n",
       "         0.00000000e+00 +0.00000000e+00j,\n",
       "         0.00000000e+00 +0.00000000e+00j,\n",
       "         4.60898709e-05 +4.89086299e-04j,\n",
       "         0.00000000e+00 +0.00000000e+00j,\n",
       "         0.00000000e+00 +0.00000000e+00j,\n",
       "         0.00000000e+00 +0.00000000e+00j,\n",
       "         1.35450555e-04 +4.95914132e-04j,\n",
       "         0.00000000e+00 +0.00000000e+00j,\n",
       "         0.00000000e+00 +0.00000000e+00j,\n",
       "         0.00000000e+00 +0.00000000e+00j,\n",
       "        -4.79039848e-04 -2.69480915e-04j,\n",
       "         0.00000000e+00 +0.00000000e+00j,\n",
       "         0.00000000e+00 +0.00000000e+00j,\n",
       "         0.00000000e+00 +0.00000000e+00j,\n",
       "        -4.81362193e-04 +0.00000000e+00j,\n",
       "         0.00000000e+00 +0.00000000e+00j,\n",
       "         0.00000000e+00 +0.00000000e+00j,\n",
       "         0.00000000e+00 +0.00000000e+00j,\n",
       "        -4.79039848e-04 +2.69480915e-04j,\n",
       "         0.00000000e+00 +0.00000000e+00j,\n",
       "         0.00000000e+00 +0.00000000e+00j,\n",
       "         0.00000000e+00 +0.00000000e+00j,\n",
       "         1.35450555e-04 -4.95914132e-04j,\n",
       "         0.00000000e+00 +0.00000000e+00j,\n",
       "         0.00000000e+00 +0.00000000e+00j,\n",
       "         0.00000000e+00 +0.00000000e+00j,\n",
       "         4.60898709e-05 -4.89086299e-04j,\n",
       "         0.00000000e+00 +0.00000000e+00j,\n",
       "         0.00000000e+00 +0.00000000e+00j,\n",
       "         0.00000000e+00 +0.00000000e+00j,\n",
       "         1.12326661e-03 +1.35900987e-03j,\n",
       "         0.00000000e+00 +0.00000000e+00j,\n",
       "         0.00000000e+00 +0.00000000e+00j,\n",
       "         0.00000000e+00 +0.00000000e+00j,\n",
       "         1.77695525e-04 +1.91918212e-03j,\n",
       "         0.00000000e+00 +0.00000000e+00j,\n",
       "         0.00000000e+00 +0.00000000e+00j,\n",
       "         0.00000000e+00 +0.00000000e+00j,\n",
       "        -4.38771555e-03 +1.67378651e-03j,\n",
       "         0.00000000e+00 +0.00000000e+00j,\n",
       "         0.00000000e+00 +0.00000000e+00j,\n",
       "         0.00000000e+00 +0.00000000e+00j,\n",
       "        -3.64884622e-03 -8.03285899e-04j,\n",
       "         0.00000000e+00 +0.00000000e+00j,\n",
       "         0.00000000e+00 +0.00000000e+00j,\n",
       "         0.00000000e+00 +0.00000000e+00j,\n",
       "         5.59277028e-03 -2.87599467e-03j,\n",
       "         0.00000000e+00 +0.00000000e+00j,\n",
       "         0.00000000e+00 +0.00000000e+00j,\n",
       "         0.00000000e+00 +0.00000000e+00j,\n",
       "         1.91353806e-02 +1.34378708e-02j,\n",
       "         0.00000000e+00 +0.00000000e+00j,\n",
       "         0.00000000e+00 +0.00000000e+00j,\n",
       "         0.00000000e+00 +0.00000000e+00j,\n",
       "         1.99365017e-02 +3.39095481e-02j,\n",
       "         0.00000000e+00 +0.00000000e+00j,\n",
       "         0.00000000e+00 +0.00000000e+00j,\n",
       "         0.00000000e+00 +0.00000000e+00j,\n",
       "         2.28568794e-02 +8.33971376e-03j,\n",
       "         0.00000000e+00 +0.00000000e+00j,\n",
       "         0.00000000e+00 +0.00000000e+00j,\n",
       "         0.00000000e+00 +0.00000000e+00j,\n",
       "         5.46128837e-02 -1.35852062e-01j,\n",
       "         0.00000000e+00 +0.00000000e+00j,\n",
       "         0.00000000e+00 +0.00000000e+00j,\n",
       "         0.00000000e+00 +0.00000000e+00j,\n",
       "         1.46313492e-01 -3.84283114e-01j,\n",
       "         0.00000000e+00 +0.00000000e+00j,\n",
       "         0.00000000e+00 +0.00000000e+00j,\n",
       "         0.00000000e+00 +0.00000000e+00j,\n",
       "         3.73459327e-02 -9.03828697e-01j,\n",
       "         0.00000000e+00 +0.00000000e+00j,\n",
       "         0.00000000e+00 +0.00000000e+00j,\n",
       "         0.00000000e+00 +0.00000000e+00j,\n",
       "        -5.22183892e+00 +3.25158643e+00j,\n",
       "         0.00000000e+00 +0.00000000e+00j,\n",
       "         0.00000000e+00 +0.00000000e+00j,   0.00000000e+00 +0.00000000e+00j])"
      ]
     },
     "execution_count": 38,
     "metadata": {},
     "output_type": "execute_result"
    }
   ],
   "source": [
    "np.fft.fft(D)"
   ]
  },
  {
   "cell_type": "code",
   "execution_count": 37,
   "metadata": {
    "collapsed": false
   },
   "outputs": [
    {
     "name": "stderr",
     "output_type": "stream",
     "text": [
      "//anaconda/lib/python2.7/site-packages/numpy/core/numeric.py:462: ComplexWarning: Casting complex values to real discards the imaginary part\n",
      "  return array(a, dtype, copy=False, order=order)\n"
     ]
    },
    {
     "data": {
      "text/plain": [
       "(0, 120)"
      ]
     },
     "execution_count": 37,
     "metadata": {},
     "output_type": "execute_result"
    },
    {
     "data": {
      "image/png": "[encoded data removed]",
      "text/plain": [
       "<matplotlib.figure.Figure at 0x2aefb4be8c90>"
      ]
     },
     "metadata": {},
     "output_type": "display_data"
    }
   ],
   "source": [
    "plt.plot(np.fft.fft(D))\n",
    "plt.xlim(0,120)"
   ]
  },
  {
   "cell_type": "markdown",
   "metadata": {},
   "source": [
    "### Fastest growing mode (m=1)"
   ]
  },
  {
   "cell_type": "code",
   "execution_count": 236,
   "metadata": {
    "collapsed": false
   },
   "outputs": [
    {
     "name": "stdout",
     "output_type": "stream",
     "text": [
      "10.0815046135\n"
     ]
    }
   ],
   "source": [
    "amp = float(real(max(np.fft.fft(D))))\n",
    "print amp"
   ]
  },
  {
   "cell_type": "code",
   "execution_count": 237,
   "metadata": {
    "collapsed": false
   },
   "outputs": [
    {
     "data": {
      "text/plain": [
       "768"
      ]
     },
     "execution_count": 237,
     "metadata": {},
     "output_type": "execute_result"
    }
   ],
   "source": [
    "3*2*4*32"
   ]
  },
  {
   "cell_type": "markdown",
   "metadata": {},
   "source": [
    "32 meshblocks in phi direction(spanning 128 zones) and 32 cells in each meshblock"
   ]
  },
  {
   "cell_type": "code",
   "execution_count": 25,
   "metadata": {
    "collapsed": true
   },
   "outputs": [],
   "source": [
    "def compute_fastest_growing_mode(tstep_filename,debug=False):\n",
    "    if debug: print \"Working on {}\".format(tstep_filename) \n",
    "    hdf5 = h5py.File(tstep_filename, 'r+')\n",
    "    NUM_MESHBLOCK=24\n",
    "    D = np.zeros(128)\n",
    "    for M in np.arange(NUM_MESHBLOCK):\n",
    "        meshblock =h5f[\"MeshBlock{}\".format(M)]\n",
    "        density= meshblock[\"rho\"].value#density for each meshblock\n",
    "        N_r = density.shape[0]\n",
    "        N_theta=density.shape[1]\n",
    "        N_phi= density.shape[2]\n",
    "        for n in np.arange(N_phi):\n",
    "            loc = meshblock.attrs[\"LogicalLocation\"]\n",
    "            phi_i =n+32*loc[2]\n",
    "            #Compute D_i in each meshblock\n",
    "            x1f = meshblock[\"x1f\"].value\n",
    "            x2f = meshblock[\"x2f\"].value\n",
    "            m=[]#mass summed over r,theta per density slice\n",
    "            for ri in np.arange(N_r):\n",
    "                for ti in np.arange(N_theta):\n",
    "                    #for each cell compute the coordinate to calculate the mass in each cell\n",
    "                    ri = (x1f[ri]+x1f[ri+1])/2.\n",
    "                    dri = abs(x1f[ri]-x1f[ri+1])\n",
    "                    thetai = (x2f[ti]+x2f[ti+1])/2.\n",
    "                    dthetai = abs(x2f[ti]-x2f[ti+1])\n",
    "                    m.append(density[ri,ti,n]*(ri**2)*sin(thetai)*dri*dthetai)\n",
    "            D[phi_i]=D[phi_i]+sum(m)\n",
    "    if debug: print \"D:\",D\n",
    "    amp = float(real(max(np.fft.fft(D))))\n",
    "    if debug: print \"amp:\", amp\n",
    "    return amp"
   ]
  },
  {
   "cell_type": "code",
   "execution_count": 26,
   "metadata": {
    "collapsed": false
   },
   "outputs": [],
   "source": [
    "# glob.glob(\"log.out1.000*.ath\")"
   ]
  },
  {
   "cell_type": "code",
   "execution_count": 27,
   "metadata": {
    "collapsed": false
   },
   "outputs": [],
   "source": [
    "mode_amp = []\n",
    "for f in sort(glob.glob(\"log.out1.000*.ath\")):\n",
    "#     if f==\"log.out1.00001.ath\" or f==\"log.out1.00100.ath\":\n",
    "    mode_amp.append(compute_fastest_growing_mode(f,False))"
   ]
  },
  {
   "cell_type": "code",
   "execution_count": 244,
   "metadata": {
    "collapsed": false
   },
   "outputs": [
    {
     "data": {
      "text/plain": [
       "[10.081504613486587]"
      ]
     },
     "execution_count": 244,
     "metadata": {},
     "output_type": "execute_result"
    }
   ],
   "source": [
    "mode_amp"
   ]
  },
  {
   "cell_type": "code",
   "execution_count": 222,
   "metadata": {
    "collapsed": false
   },
   "outputs": [
    {
     "data": {
      "text/plain": [
       "<matplotlib.text.Text at 0x2ae93cb7fe50>"
      ]
     },
     "execution_count": 222,
     "metadata": {},
     "output_type": "execute_result"
    },
    {
     "data": {
      "image/png": "[encoded data removed]",
      "text/plain": [
       "<matplotlib.figure.Figure at 0x2ae93cb8dad0>"
      ]
     },
     "metadata": {},
     "output_type": "display_data"
    }
   ],
   "source": [
    "plt.plot(mode_amp)\n",
    "plt.ylabel(\"Mode Amplitude\",fontsize=13)\n",
    "plt.xlabel(\"Time\",fontsize=13)"
   ]
  },
  {
   "cell_type": "code",
   "execution_count": 42,
   "metadata": {
    "collapsed": false
   },
   "outputs": [
    {
     "data": {
      "text/plain": [
       "array([  0.        ,   0.15915494,   0.31830989,   0.47746483,\n",
       "         0.63661977,   0.79577472,   0.95492966,   1.1140846 ,\n",
       "         1.27323954,   1.43239449,   1.59154943,   1.75070437,\n",
       "         1.90985932,   2.06901426,   2.2281692 ,   2.38732415,\n",
       "         2.54647909,   2.70563403,   2.86478898,   3.02394392,\n",
       "         3.18309886,   3.3422538 ,   3.50140875,   3.66056369,\n",
       "         3.81971863,   3.97887358,   4.13802852,   4.29718346,\n",
       "         4.45633841,   4.61549335,   4.77464829,   4.93380324,\n",
       "         5.09295818,   5.25211312,   5.41126807,   5.57042301,\n",
       "         5.72957795,   5.88873289,   6.04788784,   6.20704278,\n",
       "         6.36619772,   6.52535267,   6.68450761,   6.84366255,\n",
       "         7.0028175 ,   7.16197244,   7.32112738,   7.48028233,\n",
       "         7.63943727,   7.79859221,   7.95774715,   8.1169021 ,\n",
       "         8.27605704,   8.43521198,   8.59436693,   8.75352187,\n",
       "         8.91267681,   9.07183176,   9.2309867 ,   9.39014164,\n",
       "         9.54929659,   9.70845153,   9.86760647,  10.02676141,\n",
       "        10.18591636,  10.3450713 ,  10.50422624,  10.66338119,\n",
       "        10.82253613,  10.98169107,  11.14084602,  11.30000096,\n",
       "        11.4591559 ,  11.61831085,  11.77746579,  11.93662073,\n",
       "        12.09577567,  12.25493062,  12.41408556,  12.5732405 ,\n",
       "        12.73239545,  12.89155039,  13.05070533,  13.20986028,\n",
       "        13.36901522,  13.52817016,  13.68732511,  13.84648005,\n",
       "        14.00563499,  14.16478994,  14.32394488,  14.48309982,\n",
       "        14.64225476,  14.80140971,  14.96056465,  15.11971959,\n",
       "        15.27887454,  15.43802948,  15.59718442,  15.75633937])"
      ]
     },
     "execution_count": 42,
     "metadata": {},
     "output_type": "execute_result"
    }
   ],
   "source": []
  },
  {
   "cell_type": "code",
   "execution_count": 45,
   "metadata": {
    "collapsed": false
   },
   "outputs": [
    {
     "data": {
      "text/plain": [
       "[<matplotlib.lines.Line2D at 0x2aefb4f1dfd0>]"
      ]
     },
     "execution_count": 45,
     "metadata": {},
     "output_type": "execute_result"
    },
    {
     "data": {
      "image/png": "[encoded data removed]",
      "text/plain": [
       "<matplotlib.figure.Figure at 0x2aefb4ec2350>"
      ]
     },
     "metadata": {},
     "output_type": "display_data"
    }
   ],
   "source": [
    "amp =  np.loadtxt(\"amp.txt\")\n",
    "t_orbits  = np.arange(len(amp))/2./np.pi\n",
    "plt.ylabel(\"Mode Amplitude\",fontsize=13)\n",
    "plt.xlabel(\"Orbits\",fontsize=13)\n",
    "plt.plot(t_orbits,amp)"
   ]
  },
  {
   "cell_type": "code",
   "execution_count": null,
   "metadata": {
    "collapsed": true
   },
   "outputs": [],
   "source": []
  }
 ],
 "metadata": {
  "kernelspec": {
   "display_name": "Python 2",
   "language": "python",
   "name": "python2"
  },
  "language_info": {
   "codemirror_mode": {
    "name": "ipython",
    "version": 2
   },
   "file_extension": ".py",
   "mimetype": "text/x-python",
   "name": "python",
   "nbconvert_exporter": "python",
   "pygments_lexer": "ipython2",
   "version": "2.7.10"
  }
 },
 "nbformat": 4,
 "nbformat_minor": 0
}
