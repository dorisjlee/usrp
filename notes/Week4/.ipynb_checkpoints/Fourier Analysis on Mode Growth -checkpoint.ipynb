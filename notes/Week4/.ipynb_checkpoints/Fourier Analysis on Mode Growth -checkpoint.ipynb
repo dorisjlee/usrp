{
 "cells": [
  {
   "cell_type": "code",
   "execution_count": 2,
   "metadata": {
    "collapsed": false
   },
   "outputs": [
    {
     "name": "stdout",
     "output_type": "stream",
     "text": [
      "Populating the interactive namespace from numpy and matplotlib\n"
     ]
    }
   ],
   "source": [
    "%pylab inline"
   ]
  },
  {
   "cell_type": "code",
   "execution_count": 1,
   "metadata": {
    "collapsed": false
   },
   "outputs": [
    {
     "name": "stdout",
     "output_type": "stream",
     "text": [
      "/global/scratch2/sd/dorislee/athena_simulation_data/log\n"
     ]
    }
   ],
   "source": [
    "cd ~/gscratch/athena_simulation_data/log/"
   ]
  },
  {
   "cell_type": "code",
   "execution_count": 3,
   "metadata": {
    "collapsed": true
   },
   "outputs": [],
   "source": [
    "import sys\n",
    "sys.path.remove('/global/homes/d/dorislee/.local/lib/python2.7/site-packages/yt-3.2.dev0-py2.7-linux-x86_64.egg')\n",
    "sys.path.remove('/global/homes/d/dorislee/.local/lib/python2.7/site-packages')\n",
    "sys.path.append('/global/homes/d/dorislee/mypythonpackages')"
   ]
  },
  {
   "cell_type": "code",
   "execution_count": 4,
   "metadata": {
    "collapsed": false
   },
   "outputs": [],
   "source": [
    "import h5py\n",
    "import glob"
   ]
  },
  {
   "cell_type": "code",
   "execution_count": 108,
   "metadata": {
    "collapsed": false
   },
   "outputs": [],
   "source": [
    "filename=\"log.out1.00002.ath\" #just read the athena hdf5 file not the xdmf file\n",
    "h5f = h5py.File(filename, 'r+')"
   ]
  },
  {
   "cell_type": "markdown",
   "metadata": {},
   "source": [
    "#### This simulation was 96x64x128 where I defined each meshblock to be 32x32x32 so that I have 24 meshblock one of each processor , making use of one full NUMA node on Hopper"
   ]
  },
  {
   "cell_type": "code",
   "execution_count": 6,
   "metadata": {
    "collapsed": false
   },
   "outputs": [
    {
     "name": "stdout",
     "output_type": "stream",
     "text": [
      "MeshBlock0\n",
      "MeshBlock1\n",
      "MeshBlock10\n",
      "MeshBlock11\n",
      "MeshBlock12\n",
      "MeshBlock13\n",
      "MeshBlock14\n",
      "MeshBlock15\n",
      "MeshBlock16\n",
      "MeshBlock17\n",
      "MeshBlock18\n",
      "MeshBlock19\n",
      "MeshBlock2\n",
      "MeshBlock20\n",
      "MeshBlock21\n",
      "MeshBlock22\n",
      "MeshBlock23\n",
      "MeshBlock3\n",
      "MeshBlock4\n",
      "MeshBlock5\n",
      "MeshBlock6\n",
      "MeshBlock7\n",
      "MeshBlock8\n",
      "MeshBlock9\n"
     ]
    }
   ],
   "source": [
    "for i in f.keys():print i"
   ]
  },
  {
   "cell_type": "code",
   "execution_count": 109,
   "metadata": {
    "collapsed": true
   },
   "outputs": [],
   "source": [
    "meshblock =h5f[\"MeshBlock0\"]"
   ]
  },
  {
   "cell_type": "code",
   "execution_count": 8,
   "metadata": {
    "collapsed": false
   },
   "outputs": [
    {
     "data": {
      "text/plain": [
       "[u'press', u'rho', u'vel1', u'vel2', u'vel3', u'x1f', u'x2f', u'x3f']"
      ]
     },
     "execution_count": 8,
     "metadata": {},
     "output_type": "execute_result"
    }
   ],
   "source": [
    "meshblock.keys()"
   ]
  },
  {
   "cell_type": "code",
   "execution_count": 66,
   "metadata": {
    "collapsed": false
   },
   "outputs": [
    {
     "name": "stdout",
     "output_type": "stream",
     "text": [
      "[ 1.8813808   1.94077992  2.00196099  2.06497765  2.12988472  2.19673896\n",
      "  2.26559877  2.33652449  2.40957785  2.48482299  2.56232548  2.64215302\n",
      "  2.72437525  2.80906415  2.89629388  2.98614049  3.07868242  3.1740005\n",
      "  3.27217841  3.37330151  3.47745824  3.58473969  3.69523954  3.80905437\n",
      "  3.92628384  4.04702997  4.17139864  4.29949856  4.43144131  4.5673418\n",
      "  4.70732021  4.85149717  5.        ]\n"
     ]
    }
   ],
   "source": [
    "x1f = meshblock[\"x1f\"].value\n",
    "print x1f\n",
    "# plt.plot(x1f,'o') #linearly sampled series of r values in a meshblock"
   ]
  },
  {
   "cell_type": "markdown",
   "metadata": {},
   "source": [
    "$$r_i = \\frac{(r_+ + r_-)}{2}$$"
   ]
  },
  {
   "cell_type": "code",
   "execution_count": 67,
   "metadata": {
    "collapsed": true
   },
   "outputs": [],
   "source": [
    "n = 0#for cell number n"
   ]
  },
  {
   "cell_type": "code",
   "execution_count": 65,
   "metadata": {
    "collapsed": false
   },
   "outputs": [
    {
     "name": "stdout",
     "output_type": "stream",
     "text": [
      "1.91108036041\n"
     ]
    }
   ],
   "source": [
    "ri = (x1f[n]+x1f[n+1])/2.\n",
    "print ri"
   ]
  },
  {
   "cell_type": "code",
   "execution_count": 70,
   "metadata": {
    "collapsed": false
   },
   "outputs": [
    {
     "name": "stdout",
     "output_type": "stream",
     "text": [
      "0.0593991\n"
     ]
    }
   ],
   "source": [
    "dri = abs(x1f[n]-x1f[n+1])\n",
    "print dri"
   ]
  },
  {
   "cell_type": "markdown",
   "metadata": {},
   "source": [
    "Computing the r,$\\theta$ surface density ~~over the whole $\\phi_i$ slice~~ per cell\n",
    "$$\\Delta Si,j,k =\\int\\int r drd\\theta = r_i\\Delta r_i\\Delta \\theta_j$$"
   ]
  },
  {
   "cell_type": "markdown",
   "metadata": {},
   "source": [
    "total of 64 meshblocks spanning from $\\theta$=0.32 to 2.79 radian and 32 zones per Meshblock"
   ]
  },
  {
   "cell_type": "code",
   "execution_count": 71,
   "metadata": {
    "collapsed": false
   },
   "outputs": [],
   "source": [
    "# (2.79252680319-0.34906585039)/64.*32"
   ]
  },
  {
   "cell_type": "code",
   "execution_count": 72,
   "metadata": {
    "collapsed": false
   },
   "outputs": [
    {
     "name": "stdout",
     "output_type": "stream",
     "text": [
      "[ 1.57079637  1.60897541  1.64715445  1.68533361  1.72351265  1.76169169\n",
      "  1.79987085  1.83804989  1.87622893  1.91440797  1.95258713  1.99076617\n",
      "  2.02894521  2.06712437  2.10530353  2.14348245  2.18166161  2.21984053\n",
      "  2.25801969  2.29619884  2.33437777  2.37255692  2.41073608  2.448915\n",
      "  2.48709416  2.52527332  2.56345224  2.6016314   2.63981056  2.67798948\n",
      "  2.71616864  2.7543478   2.79252672]\n"
     ]
    }
   ],
   "source": [
    "x2f = meshblock[\"x2f\"].value\n",
    "print x2f"
   ]
  },
  {
   "cell_type": "code",
   "execution_count": 77,
   "metadata": {
    "collapsed": false
   },
   "outputs": [
    {
     "name": "stdout",
     "output_type": "stream",
     "text": [
      "1.58988595009\n",
      "0.038179\n"
     ]
    }
   ],
   "source": [
    "thetai = (x2f[n]+x2f[n+1])/2.\n",
    "print thetai\n",
    "dthetai = abs(x2f[n]-x2f[n+1])\n",
    "print dthetai"
   ]
  },
  {
   "cell_type": "markdown",
   "metadata": {},
   "source": [
    "Checked that these are the same"
   ]
  },
  {
   "cell_type": "code",
   "execution_count": 103,
   "metadata": {
    "collapsed": false
   },
   "outputs": [],
   "source": [
    "# dS = ri*dri*dthetai\n",
    "# print \"The surface area per cell is :\", dS"
   ]
  },
  {
   "cell_type": "markdown",
   "metadata": {},
   "source": [
    "$$D(\\phi) = \\text{surface density} =\\int \\rho r^2sin\\theta dr d\\theta d\\phi=\\Sigma\\Sigma\\rho\\frac{\\Delta V_{cell}}{\\Delta \\phi} $$"
   ]
  },
  {
   "cell_type": "code",
   "execution_count": 23,
   "metadata": {
    "collapsed": false
   },
   "outputs": [],
   "source": [
    "density= meshblock[\"rho\"].value#density for each meshblock\n",
    "N_r = density.shape[0]\n",
    "N_theta=density.shape[1]\n",
    "N_phi= density.shape[2]"
   ]
  },
  {
   "cell_type": "markdown",
   "metadata": {},
   "source": [
    "Summing over a $r,\\theta$ slice of density: "
   ]
  },
  {
   "cell_type": "code",
   "execution_count": 85,
   "metadata": {
    "collapsed": false
   },
   "outputs": [
    {
     "name": "stdout",
     "output_type": "stream",
     "text": [
      "We have 32 values of D(phi) for this MeshBlock\n"
     ]
    }
   ],
   "source": [
    "D_mblock = []\n",
    "for phi_i in np.arange(N_phi):\n",
    "    D_mblock.append(sum(density[:,:,phi_i-1]*ri**2*sin(thetai)*dri*dthetai))\n",
    "print \"We have\", len(D_mblock),\"values of D(phi) for this MeshBlock\""
   ]
  },
  {
   "cell_type": "markdown",
   "metadata": {},
   "source": [
    "pretty low, but makes sense because this is outside the torus so gas pressure is suppose to be low (e-5).."
   ]
  },
  {
   "cell_type": "markdown",
   "metadata": {},
   "source": [
    "Computing $D(\\phi)$ for all 128 values of $\\phi$"
   ]
  },
  {
   "cell_type": "code",
   "execution_count": 129,
   "metadata": {
    "collapsed": false
   },
   "outputs": [],
   "source": [
    "NUM_MESHBLOCK=24\n",
    "D = np.zeros(128)\n",
    "counter=0\n",
    "for M in np.arange(NUM_MESHBLOCK):\n",
    "    meshblock =h5f[\"MeshBlock{}\".format(M)]\n",
    "#     for n in np.arange(32):\n",
    "    for n in np.arange(N_phi):\n",
    "        loc = meshblock.attrs[\"LogicalLocation\"]\n",
    "        phi_i =n+32*loc[2]\n",
    "        #print phi_n\n",
    "        counter+=1\n",
    "        #Compute D_i in each meshblock\n",
    "        x1f = meshblock[\"x1f\"].value\n",
    "        ri = (x1f[n]+x1f[n+1])/2.\n",
    "        dri = abs(x1f[n]-x1f[n+1])\n",
    "        x2f = meshblock[\"x2f\"].value\n",
    "        thetai = (x2f[n]+x2f[n+1])/2.\n",
    "        dthetai = abs(x2f[n]-x2f[n+1])\n",
    "        D_i = sum(density[:,:,n-1]*ri**2*sin(thetai)*dri*dthetai)\n",
    "        D[phi_i]=D[phi_i]+D_i"
   ]
  },
  {
   "cell_type": "code",
   "execution_count": 130,
   "metadata": {
    "collapsed": false
   },
   "outputs": [
    {
     "data": {
      "text/plain": [
       "array([ 0.00121736,  0.00132106,  0.00147623,  0.00165005,  0.00184275,\n",
       "        0.00205539,  0.00228895,  0.00254528,  0.00282909,  0.00314381,\n",
       "        0.00349385,  0.0038788 ,  0.00429395,  0.00473876,  0.005216  ,\n",
       "        0.0057335 ,  0.00629396,  0.00689512,  0.00753205,  0.00820397,\n",
       "        0.00891947,  0.00968598,  0.01051359,  0.01140566,  0.0123602 ,\n",
       "        0.01337048,  0.01443212,  0.01554601,  0.01671655,  0.01794594,\n",
       "        0.01922124,  0.02052784,  0.00121736,  0.00132106,  0.00147623,\n",
       "        0.00165005,  0.00184275,  0.00205539,  0.00228895,  0.00254528,\n",
       "        0.00282909,  0.00314381,  0.00349385,  0.0038788 ,  0.00429395,\n",
       "        0.00473876,  0.005216  ,  0.0057335 ,  0.00629396,  0.00689512,\n",
       "        0.00753205,  0.00820397,  0.00891947,  0.00968598,  0.01051359,\n",
       "        0.01140566,  0.0123602 ,  0.01337048,  0.01443212,  0.01554601,\n",
       "        0.01671655,  0.01794594,  0.01922124,  0.02052784,  0.00121736,\n",
       "        0.00132106,  0.00147623,  0.00165005,  0.00184275,  0.00205539,\n",
       "        0.00228895,  0.00254528,  0.00282909,  0.00314381,  0.00349385,\n",
       "        0.0038788 ,  0.00429395,  0.00473876,  0.005216  ,  0.0057335 ,\n",
       "        0.00629396,  0.00689512,  0.00753205,  0.00820397,  0.00891947,\n",
       "        0.00968598,  0.01051359,  0.01140566,  0.0123602 ,  0.01337048,\n",
       "        0.01443212,  0.01554601,  0.01671655,  0.01794594,  0.01922124,\n",
       "        0.02052784,  0.00121736,  0.00132106,  0.00147623,  0.00165005,\n",
       "        0.00184275,  0.00205539,  0.00228895,  0.00254528,  0.00282909,\n",
       "        0.00314381,  0.00349385,  0.0038788 ,  0.00429395,  0.00473876,\n",
       "        0.005216  ,  0.0057335 ,  0.00629396,  0.00689512,  0.00753205,\n",
       "        0.00820397,  0.00891947,  0.00968598,  0.01051359,  0.01140566,\n",
       "        0.0123602 ,  0.01337048,  0.01443212,  0.01554601,  0.01671655,\n",
       "        0.01794594,  0.01922124,  0.02052784])"
      ]
     },
     "execution_count": 130,
     "metadata": {},
     "output_type": "execute_result"
    }
   ],
   "source": [
    "D"
   ]
  },
  {
   "cell_type": "code",
   "execution_count": 131,
   "metadata": {
    "collapsed": false
   },
   "outputs": [
    {
     "data": {
      "text/plain": [
       "128"
      ]
     },
     "execution_count": 131,
     "metadata": {},
     "output_type": "execute_result"
    }
   ],
   "source": [
    "len(D)"
   ]
  },
  {
   "cell_type": "code",
   "execution_count": 142,
   "metadata": {
    "collapsed": false
   },
   "outputs": [
    {
     "data": {
      "text/plain": [
       "<matplotlib.text.Text at 0x2ae937ff0410>"
      ]
     },
     "execution_count": 142,
     "metadata": {},
     "output_type": "execute_result"
    },
    {
     "data": {
      "image/png": "[encoded data removed]",
      "text/plain": [
       "<matplotlib.figure.Figure at 0x2ae93c5a3bd0>"
      ]
     },
     "metadata": {},
     "output_type": "display_data"
    }
   ],
   "source": [
    "# plt.plot(np.arange(128),D)\n",
    "plt.plot(D)\n",
    "plt.xlabel(\"N\")\n",
    "plt.ylabel(\"density\")"
   ]
  },
  {
   "cell_type": "code",
   "execution_count": 162,
   "metadata": {
    "collapsed": false
   },
   "outputs": [
    {
     "data": {
      "text/plain": [
       "(0, 120)"
      ]
     },
     "execution_count": 162,
     "metadata": {},
     "output_type": "execute_result"
    },
    {
     "data": {
      "image/png": "[encoded data removed]",
      "text/plain": [
       "<matplotlib.figure.Figure at 0x2ae93c8f2310>"
      ]
     },
     "metadata": {},
     "output_type": "display_data"
    }
   ],
   "source": [
    "plt.plot(np.fft.fft(D))\n",
    "plt.xlim(0,120)"
   ]
  },
  {
   "cell_type": "markdown",
   "metadata": {},
   "source": [
    "### Fastest growing mode (m=1)"
   ]
  },
  {
   "cell_type": "code",
   "execution_count": 176,
   "metadata": {
    "collapsed": false
   },
   "outputs": [
    {
     "name": "stdout",
     "output_type": "stream",
     "text": [
      "0.989180003717\n"
     ]
    }
   ],
   "source": [
    "amp = float(real(max(np.fft.fft(D))))\n",
    "print amp"
   ]
  },
  {
   "cell_type": "code",
   "execution_count": 117,
   "metadata": {
    "collapsed": false
   },
   "outputs": [
    {
     "data": {
      "text/plain": [
       "768"
      ]
     },
     "execution_count": 117,
     "metadata": {},
     "output_type": "execute_result"
    }
   ],
   "source": [
    "3*2*4*32"
   ]
  },
  {
   "cell_type": "markdown",
   "metadata": {},
   "source": [
    "32 meshblocks in phi direction(spanning 128 zones) and 32 cells in each meshblock"
   ]
  },
  {
   "cell_type": "code",
   "execution_count": null,
   "metadata": {
    "collapsed": true
   },
   "outputs": [],
   "source": [
    "def compute_fastest_growing_mode(tstep_filename,debug=False):\n",
    "    if debug: print \"Working on {}\".format(tstep_filename) \n",
    "    hdf5 = h5py.File(tstep_filename, 'r+')\n",
    "    NUM_MESHBLOCK=24\n",
    "    D = np.zeros(128)\n",
    "    for M in np.arange(NUM_MESHBLOCK):\n",
    "        meshblock =hdf5[\"MeshBlock{}\".format(M)]\n",
    "        for n in np.arange(N_phi):\n",
    "            loc = meshblock.attrs[\"LogicalLocation\"]\n",
    "            phi_i =n+32*loc[2]\n",
    "            #Compute D_i in each meshblock\n",
    "            x1f = meshblock[\"x1f\"].value\n",
    "            ri = (x1f[n]+x1f[n+1])/2.\n",
    "            dri = abs(x1f[n]-x1f[n+1])\n",
    "            x2f = meshblock[\"x2f\"].value\n",
    "            thetai = (x2f[n]+x2f[n+1])/2.\n",
    "            dthetai = abs(x2f[n]-x2f[n+1])\n",
    "            D_i = sum(density[:,:,n-1]*ri**2*sin(thetai)*dri*dthetai)\n",
    "            D[phi_i]=D[phi_i]+D_i\n",
    "    if debug: print \"D:\",D\n",
    "    amp = float(real(max(np.fft.fft(D))))\n",
    "    if debug: print \"amp:\", amp\n",
    "    return amp\n",
    "    "
   ]
  },
  {
   "cell_type": "code",
   "execution_count": null,
   "metadata": {
    "collapsed": false
   },
   "outputs": [],
   "source": [
    "mode_amp = []\n",
    "for f in sort(glob.glob(\"log.out1.000*.ath\")):\n",
    "    mode_amp.append(compute_fastest_growing_mode(f,True))"
   ]
  },
  {
   "cell_type": "code",
   "execution_count": 183,
   "metadata": {
    "collapsed": false
   },
   "outputs": [
    {
     "data": {
      "text/plain": [
       "[0.9891800037169105,\n",
       " 0.9891800037169105,\n",
       " 0.9891800037169105,\n",
       " 0.9891800037169105,\n",
       " 0.9891800037169105,\n",
       " 0.9891800037169105,\n",
       " 0.9891800037169105,\n",
       " 0.9891800037169105,\n",
       " 0.9891800037169105,\n",
       " 0.9891800037169105,\n",
       " 0.9891800037169105,\n",
       " 0.9891800037169105,\n",
       " 0.9891800037169105,\n",
       " 0.9891800037169105,\n",
       " 0.9891800037169105,\n",
       " 0.9891800037169105,\n",
       " 0.9891800037169105,\n",
       " 0.9891800037169105,\n",
       " 0.9891800037169105,\n",
       " 0.9891800037169105,\n",
       " 0.9891800037169105,\n",
       " 0.9891800037169105,\n",
       " 0.9891800037169105,\n",
       " 0.9891800037169105,\n",
       " 0.9891800037169105,\n",
       " 0.9891800037169105,\n",
       " 0.9891800037169105,\n",
       " 0.9891800037169105,\n",
       " 0.9891800037169105,\n",
       " 0.9891800037169105,\n",
       " 0.9891800037169105,\n",
       " 0.9891800037169105,\n",
       " 0.9891800037169105,\n",
       " 0.9891800037169105,\n",
       " 0.9891800037169105,\n",
       " 0.9891800037169105,\n",
       " 0.9891800037169105,\n",
       " 0.9891800037169105,\n",
       " 0.9891800037169105,\n",
       " 0.9891800037169105,\n",
       " 0.9891800037169105,\n",
       " 0.9891800037169105,\n",
       " 0.9891800037169105,\n",
       " 0.9891800037169105,\n",
       " 0.9891800037169105,\n",
       " 0.9891800037169105,\n",
       " 0.9891800037169105,\n",
       " 0.9891800037169105,\n",
       " 0.9891800037169105,\n",
       " 0.9891800037169105,\n",
       " 0.9891800037169105,\n",
       " 0.9891800037169105,\n",
       " 0.9891800037169105,\n",
       " 0.9891800037169105,\n",
       " 0.9891800037169105,\n",
       " 0.9891800037169105,\n",
       " 0.9891800037169105,\n",
       " 0.9891800037169105,\n",
       " 0.9891800037169105,\n",
       " 0.9891800037169105,\n",
       " 0.9891800037169105,\n",
       " 0.9891800037169105,\n",
       " 0.9891800037169105,\n",
       " 0.9891800037169105,\n",
       " 0.9891800037169105,\n",
       " 0.9891800037169105,\n",
       " 0.9891800037169105,\n",
       " 0.9891800037169105,\n",
       " 0.9891800037169105,\n",
       " 0.9891800037169105,\n",
       " 0.9891800037169105,\n",
       " 0.9891800037169105,\n",
       " 0.9891800037169105,\n",
       " 0.9891800037169105,\n",
       " 0.9891800037169105,\n",
       " 0.9891800037169105,\n",
       " 0.9891800037169105,\n",
       " 0.9891800037169105,\n",
       " 0.9891800037169105,\n",
       " 0.9891800037169105,\n",
       " 0.9891800037169105,\n",
       " 0.9891800037169105,\n",
       " 0.9891800037169105,\n",
       " 0.9891800037169105,\n",
       " 0.9891800037169105,\n",
       " 0.9891800037169105,\n",
       " 0.9891800037169105,\n",
       " 0.9891800037169105,\n",
       " 0.9891800037169105,\n",
       " 0.9891800037169105,\n",
       " 0.9891800037169105,\n",
       " 0.9891800037169105,\n",
       " 0.9891800037169105,\n",
       " 0.9891800037169105,\n",
       " 0.9891800037169105,\n",
       " 0.9891800037169105,\n",
       " 0.9891800037169105,\n",
       " 0.9891800037169105,\n",
       " 0.9891800037169105,\n",
       " 0.9891800037169105]"
      ]
     },
     "execution_count": 183,
     "metadata": {},
     "output_type": "execute_result"
    }
   ],
   "source": [
    "mode_amp"
   ]
  },
  {
   "cell_type": "code",
   "execution_count": 182,
   "metadata": {
    "collapsed": false
   },
   "outputs": [
    {
     "data": {
      "text/plain": [
       "<matplotlib.text.Text at 0x2ae93cad8b10>"
      ]
     },
     "execution_count": 182,
     "metadata": {},
     "output_type": "execute_result"
    },
    {
     "data": {
      "image/png": "[encoded data removed]",
      "text/plain": [
       "<matplotlib.figure.Figure at 0x2ae93ca58710>"
      ]
     },
     "metadata": {},
     "output_type": "display_data"
    }
   ],
   "source": [
    "plt.plot(mode_amp)\n",
    "plt.xlabel(\"Mode Amplitude\",fontsize=13)\n",
    "plt.ylabel(\"Time\",fontsize=13)"
   ]
  },
  {
   "cell_type": "code",
   "execution_count": null,
   "metadata": {
    "collapsed": true
   },
   "outputs": [],
   "source": []
  },
  {
   "cell_type": "code",
   "execution_count": null,
   "metadata": {
    "collapsed": true
   },
   "outputs": [],
   "source": []
  },
  {
   "cell_type": "code",
   "execution_count": null,
   "metadata": {
    "collapsed": true
   },
   "outputs": [],
   "source": []
  },
  {
   "cell_type": "code",
   "execution_count": null,
   "metadata": {
    "collapsed": true
   },
   "outputs": [],
   "source": []
  }
 ],
 "metadata": {
  "kernelspec": {
   "display_name": "Python 2",
   "language": "python",
   "name": "python2"
  },
  "language_info": {
   "codemirror_mode": {
    "name": "ipython",
    "version": 2
   },
   "file_extension": ".py",
   "mimetype": "text/x-python",
   "name": "python",
   "nbconvert_exporter": "python",
   "pygments_lexer": "ipython2",
   "version": "2.7.10"
  }
 },
 "nbformat": 4,
 "nbformat_minor": 0
}
