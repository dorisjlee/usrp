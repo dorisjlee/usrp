{
 "cells": [
  {
   "cell_type": "markdown",
   "metadata": {},
   "source": [
    "### Aaron's LaTeX lunch talk"
   ]
  },
  {
   "cell_type": "markdown",
   "metadata": {},
   "source": [
    "- TexIt\n",
    "    - lightwight , useful tol for writing equations forpowerpoint presentation \n",
    "\n",
    "- submite_prepare.pl\n",
    "    - script that makes your .tex file submission ready ---> i.e. remove all comments \n",
    "- ADS to BibDesk\n",
    "\n",
    "- defcitealias{}\n",
    "\n",
    "- \\mbox for real text in math mode\n",
    "\n",
    "- write your abstract last after you finish paper(<250 words)\n",
    "    - write the guts of the paper first\n",
    "- Section~\\ref{}\n",
    "    - prevents page breaking \n",
    "    - use .eps or .pdf (better to use pdf, so no conversion needed) so that figures are scaalable vector graphics \n",
    "- Summary and Disccussion is important !!\n",
    "- put your best figure in the introduction to entice readers to read your paper\n",
    "- acknowledgement need to include supercomputers"
   ]
  },
  {
   "cell_type": "markdown",
   "metadata": {},
   "source": [
    "- 4:01pm is when the next day's submission gets counted, this is the first thing that shows up on astro-ph"
   ]
  },
  {
   "cell_type": "code",
   "execution_count": null,
   "metadata": {
    "collapsed": true
   },
   "outputs": [],
   "source": []
  }
 ],
 "metadata": {
  "kernelspec": {
   "display_name": "Python 2",
   "language": "python",
   "name": "python2"
  },
  "language_info": {
   "codemirror_mode": {
    "name": "ipython",
    "version": 2
   },
   "file_extension": ".py",
   "mimetype": "text/x-python",
   "name": "python",
   "nbconvert_exporter": "python",
   "pygments_lexer": "ipython2",
   "version": "2.7.10"
  }
 },
 "nbformat": 4,
 "nbformat_minor": 0
}
