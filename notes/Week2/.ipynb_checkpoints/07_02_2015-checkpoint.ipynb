{
 "cells": [
  {
   "cell_type": "markdown",
   "metadata": {},
   "source": [
    "If I want to numerically look at things like what's the pressure max and things like that , I need to load in the athena data as a numpy array. I think there's a script to do this somewhere:"
   ]
  },
  {
   "cell_type": "markdown",
   "metadata": {},
   "source": [
    "``./../vis/join_vtk.sh -i sphtorus -o sphtorus -v density -c 0:1:91``"
   ]
  },
  {
   "cell_type": "markdown",
   "metadata": {},
   "source": [
    "Only use join if different directories because ran on different processors "
   ]
  },
  {
   "cell_type": "code",
   "execution_count": 1,
   "metadata": {
    "collapsed": false
   },
   "outputs": [
    {
     "name": "stdout",
     "output_type": "stream",
     "text": [
      "Populating the interactive namespace from numpy and matplotlib\n"
     ]
    }
   ],
   "source": [
    "%pylab inline"
   ]
  },
  {
   "cell_type": "code",
   "execution_count": 49,
   "metadata": {
    "collapsed": false
   },
   "outputs": [
    {
     "name": "stdout",
     "output_type": "stream",
     "text": [
      "/u/dorislee/Programs/athena-sph/vis\n"
     ]
    }
   ],
   "source": [
    "cd ~/Programs/athena-sph/vis"
   ]
  },
  {
   "cell_type": "code",
   "execution_count": 8,
   "metadata": {
    "collapsed": false
   },
   "outputs": [
    {
     "name": "stdout",
     "output_type": "stream",
     "text": [
      "ath_plots.py   ath_units.py  join_vtk.c    \u001b[0m\u001b[01;34mparticle\u001b[0m/  \u001b[01;34mslice\u001b[0m/   turb.py\r\n",
      "ath_read.py    \u001b[01;34midl\u001b[0m/          \u001b[01;32mjoin_vtk.sh\u001b[0m*  \u001b[01;34mppm\u001b[0m/       \u001b[01;34msm\u001b[0m/      \u001b[01;34mvtk\u001b[0m/\r\n",
      "ath_styles.py  \u001b[01;32mjoin_vtk\u001b[0m*     \u001b[01;34mmatlab\u001b[0m/       \u001b[01;34mpython\u001b[0m/    test.py\r\n",
      "\u001b[m"
     ]
    }
   ],
   "source": [
    "ls"
   ]
  },
  {
   "cell_type": "code",
   "execution_count": 12,
   "metadata": {
    "collapsed": false
   },
   "outputs": [],
   "source": [
    "from ath_read import AthenaData"
   ]
  },
  {
   "cell_type": "code",
   "execution_count": 50,
   "metadata": {
    "collapsed": false
   },
   "outputs": [],
   "source": [
    "data =AthenaData(datapath=\"../sphtorus/\", basename=\"sphtorus\",step=1)"
   ]
  },
  {
   "cell_type": "code",
   "execution_count": 51,
   "metadata": {
    "collapsed": false
   },
   "outputs": [
    {
     "data": {
      "text/plain": [
       "['momentum_xyz', 'total_energy', 'momentum', 'density']"
      ]
     },
     "execution_count": 51,
     "metadata": {},
     "output_type": "execute_result"
    }
   ],
   "source": [
    "data.fields"
   ]
  },
  {
   "cell_type": "code",
   "execution_count": 24,
   "metadata": {
    "collapsed": false
   },
   "outputs": [],
   "source": [
    "rho = data.get_field(\"density\")"
   ]
  },
  {
   "cell_type": "code",
   "execution_count": 26,
   "metadata": {
    "collapsed": false
   },
   "outputs": [
    {
     "data": {
      "text/plain": [
       "(128, 64, 8)"
      ]
     },
     "execution_count": 26,
     "metadata": {},
     "output_type": "execute_result"
    }
   ],
   "source": [
    "rho.shape"
   ]
  },
  {
   "cell_type": "code",
   "execution_count": 30,
   "metadata": {
    "collapsed": false
   },
   "outputs": [
    {
     "data": {
      "text/plain": [
       "<matplotlib.colorbar.Colorbar instance at 0x7f3acd508710>"
      ]
     },
     "execution_count": 30,
     "metadata": {},
     "output_type": "execute_result"
    },
    {
     "data": {
      "image/png": "[encoded data removed]",
      "text/plain": [
       "<matplotlib.figure.Figure at 0x7f3acdb27490>"
      ]
     },
     "metadata": {},
     "output_type": "display_data"
    }
   ],
   "source": [
    "timestep = 3\n",
    "plt.imshow(rho[::,timestep])\n",
    "plt.colorbar()"
   ]
  },
  {
   "cell_type": "markdown",
   "metadata": {},
   "source": [
    "So only conservatives here, modify the athinput so that printing out primitives "
   ]
  },
  {
   "cell_type": "code",
   "execution_count": 22,
   "metadata": {
    "collapsed": false
   },
   "outputs": [
    {
     "name": "stdout",
     "output_type": "stream",
     "text": [
      "import numpy as np\r\n",
      "import struct\r\n",
      "from ath_units import *\r\n",
      "\r\n",
      "class AthenaData():\r\n",
      "    def __init__(self,datapath='.',basename='',step=0,units=None):\r\n",
      "        self.datapath = datapath\r\n",
      "        self.basename = basename\r\n",
      "        self.step = step\r\n",
      "        if units is not None:\r\n"
     ]
    }
   ],
   "source": [
    "!head ath_read.py"
   ]
  },
  {
   "cell_type": "code",
   "execution_count": 39,
   "metadata": {
    "collapsed": false
   },
   "outputs": [
    {
     "name": "stdout",
     "output_type": "stream",
     "text": [
      "/u/dorislee/Programs/athena-sph\n"
     ]
    }
   ],
   "source": [
    "cd ../"
   ]
  },
  {
   "cell_type": "markdown",
   "metadata": {},
   "source": [
    "In this new run (shorter), primitives should be the output. So we can look at what the velocity distribution is like"
   ]
  },
  {
   "cell_type": "code",
   "execution_count": 41,
   "metadata": {
    "collapsed": false
   },
   "outputs": [],
   "source": [
    "data2 =AthenaData(datapath=\"sphtorus_prim/\", basename=\"torus\",step=1)"
   ]
  },
  {
   "cell_type": "code",
   "execution_count": 42,
   "metadata": {
    "collapsed": false
   },
   "outputs": [
    {
     "data": {
      "text/plain": [
       "['velocity', 'pressure', 'velocity_xyz', 'density']"
      ]
     },
     "execution_count": 42,
     "metadata": {},
     "output_type": "execute_result"
    }
   ],
   "source": [
    "data2.fields"
   ]
  },
  {
   "cell_type": "code",
   "execution_count": 43,
   "metadata": {
    "collapsed": false
   },
   "outputs": [
    {
     "data": {
      "text/plain": [
       "['velocity', 'pressure', 'velocity_xyz', 'density']"
      ]
     },
     "execution_count": 43,
     "metadata": {},
     "output_type": "execute_result"
    }
   ],
   "source": [
    "data2.fields"
   ]
  },
  {
   "cell_type": "markdown",
   "metadata": {},
   "source": [
    "Trying to find the constant factor $\\Omega_0$ to correspond to $\\Omega(r) = \\Omega_0(\\omega_0/r)^q$"
   ]
  },
  {
   "cell_type": "code",
   "execution_count": 47,
   "metadata": {
    "collapsed": false
   },
   "outputs": [
    {
     "ename": "KeyError",
     "evalue": "'momentum'",
     "output_type": "error",
     "traceback": [
      "\u001b[1;31m---------------------------------------------------------------------------\u001b[0m",
      "\u001b[1;31mKeyError\u001b[0m                                  Traceback (most recent call last)",
      "\u001b[1;32m<ipython-input-47-8beb12da776a>\u001b[0m in \u001b[0;36m<module>\u001b[1;34m()\u001b[0m\n\u001b[1;32m----> 1\u001b[1;33m \u001b[0mdata2\u001b[0m\u001b[1;33m.\u001b[0m\u001b[0mget_field\u001b[0m\u001b[1;33m(\u001b[0m\u001b[1;34m\"velocity_x\"\u001b[0m\u001b[1;33m)\u001b[0m\u001b[1;33m\u001b[0m\u001b[0m\n\u001b[0m",
      "\u001b[1;32math_read.py\u001b[0m in \u001b[0;36mget_field\u001b[1;34m(self, field)\u001b[0m\n",
      "\u001b[1;32math_read.py\u001b[0m in \u001b[0;36mget_field\u001b[1;34m(self, field)\u001b[0m\n",
      "\u001b[1;32math_read.py\u001b[0m in \u001b[0;36mget_field\u001b[1;34m(self, field)\u001b[0m\n",
      "\u001b[1;31mKeyError\u001b[0m: 'momentum'"
     ]
    }
   ],
   "source": [
    "data2.get_field(\"velocity_x\")"
   ]
  },
  {
   "cell_type": "code",
   "execution_count": 46,
   "metadata": {
    "collapsed": false
   },
   "outputs": [
    {
     "ename": "KeyError",
     "evalue": "'momentum'",
     "output_type": "error",
     "traceback": [
      "\u001b[1;31m---------------------------------------------------------------------------\u001b[0m",
      "\u001b[1;31mKeyError\u001b[0m                                  Traceback (most recent call last)",
      "\u001b[1;32m<ipython-input-46-95a8b83dd7b6>\u001b[0m in \u001b[0;36m<module>\u001b[1;34m()\u001b[0m\n\u001b[1;32m----> 1\u001b[1;33m \u001b[0mdata2\u001b[0m\u001b[1;33m.\u001b[0m\u001b[0mget_field\u001b[0m\u001b[1;33m(\u001b[0m\u001b[1;34m\"velocity\"\u001b[0m\u001b[1;33m)\u001b[0m\u001b[1;33m\u001b[0m\u001b[0m\n\u001b[0m",
      "\u001b[1;32math_read.py\u001b[0m in \u001b[0;36mget_field\u001b[1;34m(self, field)\u001b[0m\n",
      "\u001b[1;32math_read.py\u001b[0m in \u001b[0;36mget_field\u001b[1;34m(self, field)\u001b[0m\n",
      "\u001b[1;31mKeyError\u001b[0m: 'momentum'"
     ]
    }
   ],
   "source": [
    "data2.get_field(\"velocity\")"
   ]
  },
  {
   "cell_type": "markdown",
   "metadata": {},
   "source": [
    "outputing primitives are bad when you use athena_read because athena_read tries to find the column on momentum and divide it by the density to find the velocity. but then if you output primitives, there will not be a column of momentum, so the code dies. So just stick with data with conservative outputs. "
   ]
  },
  {
   "cell_type": "markdown",
   "metadata": {},
   "source": [
    "Doesn't velocity_x correspond to x1 ==> r ? this hsould be zero ?"
   ]
  },
  {
   "cell_type": "code",
   "execution_count": 53,
   "metadata": {
    "collapsed": false
   },
   "outputs": [
    {
     "data": {
      "text/plain": [
       "array([[[-0.25676403, -0.25676403, -0.25676403, ..., -0.25676403,\n",
       "         -0.25676403, -0.25676403],\n",
       "        [-0.25687722, -0.25687722, -0.25687722, ..., -0.25687722,\n",
       "         -0.25687722, -0.25687722],\n",
       "        [-0.2569393 , -0.2569393 , -0.2569393 , ..., -0.2569393 ,\n",
       "         -0.2569393 , -0.2569393 ],\n",
       "        ..., \n",
       "        [-0.2569393 , -0.2569393 , -0.2569393 , ..., -0.2569393 ,\n",
       "         -0.2569393 , -0.2569393 ],\n",
       "        [-0.25687722, -0.25687722, -0.25687722, ..., -0.25687722,\n",
       "         -0.25687722, -0.25687722],\n",
       "        [-0.25676403, -0.25676403, -0.25676403, ..., -0.25676403,\n",
       "         -0.25676403, -0.25676403]],\n",
       "\n",
       "       [[-0.15683866, -0.15683866, -0.15683866, ..., -0.15683866,\n",
       "         -0.15683866, -0.15683866],\n",
       "        [-0.15710656, -0.15710656, -0.15710656, ..., -0.15710656,\n",
       "         -0.15710656, -0.15710656],\n",
       "        [-0.15726407, -0.15726407, -0.15726407, ..., -0.15726407,\n",
       "         -0.15726407, -0.15726407],\n",
       "        ..., \n",
       "        [-0.15726407, -0.15726407, -0.15726407, ..., -0.15726407,\n",
       "         -0.15726407, -0.15726407],\n",
       "        [-0.15710656, -0.15710656, -0.15710656, ..., -0.15710656,\n",
       "         -0.15710656, -0.15710656],\n",
       "        [-0.15683866, -0.15683866, -0.15683866, ..., -0.15683866,\n",
       "         -0.15683866, -0.15683866]],\n",
       "\n",
       "       [[-0.1484024 , -0.1484024 , -0.1484024 , ..., -0.1484024 ,\n",
       "         -0.1484024 , -0.1484024 ],\n",
       "        [-0.14877237, -0.14877237, -0.14877237, ..., -0.14877237,\n",
       "         -0.14877237, -0.14877237],\n",
       "        [-0.14900108, -0.14900108, -0.14900108, ..., -0.14900108,\n",
       "         -0.14900108, -0.14900108],\n",
       "        ..., \n",
       "        [-0.14900108, -0.14900108, -0.14900108, ..., -0.14900108,\n",
       "         -0.14900108, -0.14900108],\n",
       "        [-0.14877237, -0.14877237, -0.14877237, ..., -0.14877237,\n",
       "         -0.14877237, -0.14877237],\n",
       "        [-0.1484024 , -0.1484024 , -0.1484024 , ..., -0.1484024 ,\n",
       "         -0.1484024 , -0.1484024 ]],\n",
       "\n",
       "       ..., \n",
       "       [[-0.00192455, -0.00192455, -0.00192455, ..., -0.00192455,\n",
       "         -0.00192455, -0.00192455],\n",
       "        [-0.00192455, -0.00192455, -0.00192455, ..., -0.00192455,\n",
       "         -0.00192455, -0.00192455],\n",
       "        [-0.00192455, -0.00192455, -0.00192455, ..., -0.00192455,\n",
       "         -0.00192455, -0.00192455],\n",
       "        ..., \n",
       "        [-0.00192455, -0.00192455, -0.00192455, ..., -0.00192455,\n",
       "         -0.00192455, -0.00192455],\n",
       "        [-0.00192455, -0.00192455, -0.00192455, ..., -0.00192455,\n",
       "         -0.00192455, -0.00192455],\n",
       "        [-0.00192455, -0.00192455, -0.00192455, ..., -0.00192455,\n",
       "         -0.00192455, -0.00192455]],\n",
       "\n",
       "       [[-0.00189267, -0.00189267, -0.00189267, ..., -0.00189267,\n",
       "         -0.00189267, -0.00189267],\n",
       "        [-0.00189267, -0.00189267, -0.00189267, ..., -0.00189267,\n",
       "         -0.00189267, -0.00189267],\n",
       "        [-0.00189267, -0.00189267, -0.00189267, ..., -0.00189267,\n",
       "         -0.00189267, -0.00189267],\n",
       "        ..., \n",
       "        [-0.00189267, -0.00189267, -0.00189267, ..., -0.00189267,\n",
       "         -0.00189267, -0.00189267],\n",
       "        [-0.00189267, -0.00189267, -0.00189267, ..., -0.00189267,\n",
       "         -0.00189267, -0.00189267],\n",
       "        [-0.00189267, -0.00189267, -0.00189267, ..., -0.00189267,\n",
       "         -0.00189267, -0.00189267]],\n",
       "\n",
       "       [[-0.00362446, -0.00362446, -0.00362446, ..., -0.00362446,\n",
       "         -0.00362446, -0.00362446],\n",
       "        [-0.00362446, -0.00362446, -0.00362446, ..., -0.00362446,\n",
       "         -0.00362446, -0.00362446],\n",
       "        [-0.00362446, -0.00362446, -0.00362446, ..., -0.00362446,\n",
       "         -0.00362446, -0.00362446],\n",
       "        ..., \n",
       "        [-0.00362446, -0.00362446, -0.00362446, ..., -0.00362446,\n",
       "         -0.00362446, -0.00362446],\n",
       "        [-0.00362446, -0.00362446, -0.00362446, ..., -0.00362446,\n",
       "         -0.00362446, -0.00362446],\n",
       "        [-0.00362446, -0.00362446, -0.00362446, ..., -0.00362446,\n",
       "         -0.00362446, -0.00362446]]])"
      ]
     },
     "execution_count": 53,
     "metadata": {},
     "output_type": "execute_result"
    }
   ],
   "source": [
    "data.get_field(\"velocity_x\")"
   ]
  },
  {
   "cell_type": "markdown",
   "metadata": {},
   "source": [
    "And this instead should be nonzero..."
   ]
  },
  {
   "cell_type": "code",
   "execution_count": 55,
   "metadata": {
    "collapsed": false
   },
   "outputs": [
    {
     "data": {
      "text/plain": [
       "array([[[-0., -0., -0., ..., -0., -0., -0.],\n",
       "        [-0., -0., -0., ..., -0., -0., -0.],\n",
       "        [-0., -0., -0., ..., -0., -0., -0.],\n",
       "        ..., \n",
       "        [-0., -0., -0., ..., -0., -0., -0.],\n",
       "        [-0., -0., -0., ..., -0., -0., -0.],\n",
       "        [-0., -0., -0., ..., -0., -0., -0.]],\n",
       "\n",
       "       [[-0., -0., -0., ..., -0., -0., -0.],\n",
       "        [-0., -0., -0., ..., -0., -0., -0.],\n",
       "        [-0., -0., -0., ..., -0., -0., -0.],\n",
       "        ..., \n",
       "        [-0., -0., -0., ..., -0., -0., -0.],\n",
       "        [-0., -0., -0., ..., -0., -0., -0.],\n",
       "        [-0., -0., -0., ..., -0., -0., -0.]],\n",
       "\n",
       "       [[ 0.,  0.,  0., ...,  0.,  0.,  0.],\n",
       "        [-0., -0., -0., ..., -0., -0., -0.],\n",
       "        [-0., -0., -0., ..., -0., -0., -0.],\n",
       "        ..., \n",
       "        [-0., -0., -0., ..., -0., -0., -0.],\n",
       "        [-0., -0., -0., ..., -0., -0., -0.],\n",
       "        [ 0.,  0.,  0., ...,  0.,  0.,  0.]],\n",
       "\n",
       "       ..., \n",
       "       [[ 0.,  0.,  0., ...,  0.,  0.,  0.],\n",
       "        [ 0.,  0.,  0., ...,  0.,  0.,  0.],\n",
       "        [ 0.,  0.,  0., ...,  0.,  0.,  0.],\n",
       "        ..., \n",
       "        [ 0.,  0.,  0., ...,  0.,  0.,  0.],\n",
       "        [ 0.,  0.,  0., ...,  0.,  0.,  0.],\n",
       "        [ 0.,  0.,  0., ...,  0.,  0.,  0.]],\n",
       "\n",
       "       [[ 0.,  0.,  0., ...,  0.,  0.,  0.],\n",
       "        [ 0.,  0.,  0., ...,  0.,  0.,  0.],\n",
       "        [ 0.,  0.,  0., ...,  0.,  0.,  0.],\n",
       "        ..., \n",
       "        [ 0.,  0.,  0., ...,  0.,  0.,  0.],\n",
       "        [ 0.,  0.,  0., ...,  0.,  0.,  0.],\n",
       "        [ 0.,  0.,  0., ...,  0.,  0.,  0.]],\n",
       "\n",
       "       [[ 0.,  0.,  0., ...,  0.,  0.,  0.],\n",
       "        [ 0.,  0.,  0., ...,  0.,  0.,  0.],\n",
       "        [ 0.,  0.,  0., ...,  0.,  0.,  0.],\n",
       "        ..., \n",
       "        [ 0.,  0.,  0., ...,  0.,  0.,  0.],\n",
       "        [ 0.,  0.,  0., ...,  0.,  0.,  0.],\n",
       "        [ 0.,  0.,  0., ...,  0.,  0.,  0.]]])"
      ]
     },
     "execution_count": 55,
     "metadata": {},
     "output_type": "execute_result"
    }
   ],
   "source": [
    "data.get_field(\"velocity_z\")"
   ]
  },
  {
   "cell_type": "markdown",
   "metadata": {},
   "source": [
    "this makes sense if it is smart enough to convert it back into x y sicne then the xy  component woould be nonzero and Vz is zero but I don't see anywhere in the code that does this conversion so it must be just a coincidence "
   ]
  },
  {
   "cell_type": "markdown",
   "metadata": {},
   "source": [
    "# SphPPI "
   ]
  },
  {
   "cell_type": "markdown",
   "metadata": {},
   "source": [
    "Fixed the floating point error bug and can run now but It looks like a high density ambient condition which is not what we want"
   ]
  },
  {
   "cell_type": "code",
   "execution_count": 56,
   "metadata": {
    "collapsed": false
   },
   "outputs": [
    {
     "data": {
      "image/png": "[encoded data removed]",
      "text/plain": [
       "<IPython.core.display.Image object>"
      ]
     },
     "execution_count": 56,
     "metadata": {
      "image/png": {
       "width": 600
      }
     },
     "output_type": "execute_result"
    }
   ],
   "source": [
    "from IPython.display import Image\n",
    "Image(filename=\"/u/dorislee/usrp/data/torusppi.png\",width=600)"
   ]
  },
  {
   "cell_type": "markdown",
   "metadata": {},
   "source": [
    "#Slender Torus A3 "
   ]
  },
  {
   "cell_type": "code",
   "execution_count": null,
   "metadata": {
    "collapsed": true
   },
   "outputs": [],
   "source": []
  }
 ],
 "metadata": {
  "kernelspec": {
   "display_name": "Python 2",
   "language": "python",
   "name": "python2"
  },
  "language_info": {
   "codemirror_mode": {
    "name": "ipython",
    "version": 2
   },
   "file_extension": ".py",
   "mimetype": "text/x-python",
   "name": "python",
   "nbconvert_exporter": "python",
   "pygments_lexer": "ipython2",
   "version": "2.7.6"
  }
 },
 "nbformat": 4,
 "nbformat_minor": 0
}
