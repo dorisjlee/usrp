{
 "cells": [
  {
   "cell_type": "code",
   "execution_count": 4,
   "metadata": {
    "collapsed": false
   },
   "outputs": [
    {
     "name": "stdout",
     "output_type": "stream",
     "text": [
      "Populating the interactive namespace from numpy and matplotlib\n"
     ]
    }
   ],
   "source": [
    "%pylab inline"
   ]
  },
  {
   "cell_type": "markdown",
   "metadata": {},
   "source": [
    "## Collecting results from the Model Runs "
   ]
  },
  {
   "cell_type": "markdown",
   "metadata": {},
   "source": [
    "- Model A,B uses d0= 0.01 instead of 0.0001 to prevent fp error\n",
    "- Model C and afterwards uses d0 = 0.0001 which crashed earlier"
   ]
  },
  {
   "cell_type": "markdown",
   "metadata": {},
   "source": [
    "- The omega0 =20 in the input file but I used omega0=1 in the problem generator (this value was never read in)"
   ]
  },
  {
   "cell_type": "markdown",
   "metadata": {},
   "source": [
    "- Model A: almost finished running \n",
    "-       B : still running needs a while\n",
    "-       C: Finished running sucessfully\n",
    "\n",
    "```\n",
    "cycle=309287 time=1.223336e+01 next dt=4.420682e-05 last dt=2.597753e-05\n",
    "\n",
    "terminating on time limit\n",
    "  tlim= 1.223336e+01   nlim= 500000\n",
    "  time= 1.223336e+01  cycle= 309287\n",
    "\n",
    "zone-cycles/cpu-second = 6.100999e+05\n",
    "\n",
    "elapsed wall time = 6.756170e+04 sec.\n",
    "\n",
    "zone-cycles/wall-second = 6.000274e+05\n",
    "\n",
    "Simulation terminated on Sat Jul  4 12:37:26 2015\n",
    "\n",
    "```\n",
    "- D looks like it just started, I have no idea why..\n",
    "- E broke at floating point excpetion \n",
    "```\n",
    "cycle=143224 time=1.436742e+01 next dt=1.558930e-04 last dt=1.558932e-04\n",
    "cycle=143225 time=1.436758e+01 next dt=1.558929e-04 last dt=1.558930e-04\n",
    "cycle=143226 time=1.436773e+01 next dt=1.558927e-04 last dt=1.558929e-04\n",
    "Floating point exception\n",
    "```\n",
    "- F broke at floating point exception really quickly right after too\n",
    "\n",
    "```\n",
    "cycle=16107 time=5.881359e-01 next dt=4.211115e-05 last dt=4.211080e-05\n",
    "cycle=16108 time=5.881780e-01 next dt=4.211150e-05 last dt=4.211115e-05\n",
    "Floating point exception\n",
    "\n",
    "```\n",
    "\n",
    "- I broke at floating point exception really quicky too\n",
    "\n",
    "```\n",
    "cycle=272 time=1.337826e-02 next dt=4.559375e-05 last dt=4.561631e-05\n",
    "cycle=273 time=1.342386e-02 next dt=4.557133e-05 last dt=4.559375e-05\n",
    "cycle=274 time=1.346943e-02 next dt=4.554904e-05 last dt=4.557133e-05\n",
    "cycle=275 time=1.351498e-02 next dt=4.552690e-05 last dt=4.554904e-05\n",
    "cycle=276 time=1.356050e-02 next dt=4.550488e-05 last dt=4.552690e-05\n",
    "cycle=277 time=1.360601e-02 next dt=4.548300e-05 last dt=4.550488e-05\n",
    "Floating point exception\n",
    "\n",
    "```\n",
    "- J broke at floating point exception really quicky too\n",
    "\n",
    "```\n",
    "cycle=274 time=1.346943e-02 next dt=4.554904e-05 last dt=4.557133e-05\n",
    "cycle=275 time=1.351498e-02 next dt=4.552690e-05 last dt=4.554904e-05\n",
    "cycle=276 time=1.356050e-02 next dt=4.550488e-05 last dt=4.552690e-05\n",
    "cycle=277 time=1.360601e-02 next dt=4.548300e-05 last dt=4.550488e-05\n",
    "Floating point exception\n",
    "```\n",
    "\n",
    "- K broke at floating point exception really quicky too\n",
    "\n",
    "```\n",
    "cycle=273 time=1.342386e-02 next dt=4.557133e-05 last dt=4.559375e-05\n",
    "cycle=274 time=1.346943e-02 next dt=4.554904e-05 last dt=4.557133e-05\n",
    "cycle=275 time=1.351498e-02 next dt=4.552690e-05 last dt=4.554904e-05\n",
    "cycle=276 time=1.356050e-02 next dt=4.550488e-05 last dt=4.552690e-05\n",
    "cycle=277 time=1.360601e-02 next dt=4.548300e-05 last dt=4.550488e-05\n",
    "Floating point exception\n",
    "\n",
    "```"
   ]
  },
  {
   "cell_type": "markdown",
   "metadata": {},
   "source": [
    "This is interesting because the elapsed walltime is 6.756170e+04 sec which is like 46 days? but I only started this on Friday. Maybe this is the actual time *number of cores (but MPI not enabled here though?)"
   ]
  },
  {
   "cell_type": "code",
   "execution_count": 2,
   "metadata": {
    "collapsed": false,
    "scrolled": true
   },
   "outputs": [
    {
     "data": {
      "text/plain": [
       "46.917847222222214"
      ]
     },
     "execution_count": 2,
     "metadata": {},
     "output_type": "execute_result"
    }
   ],
   "source": [
    "6.756170e+04/60./24"
   ]
  },
  {
   "cell_type": "markdown",
   "metadata": {},
   "source": [
    "I, J, K all broke at around the same time since their run is essentially identical other than viscosity (not implemented) and orbital time (which is never reached) "
   ]
  },
  {
   "cell_type": "code",
   "execution_count": 5,
   "metadata": {
    "collapsed": false
   },
   "outputs": [
    {
     "data": {
      "text/plain": [
       "3.7259288871574943"
      ]
     },
     "execution_count": 5,
     "metadata": {},
     "output_type": "execute_result"
    }
   ],
   "source": [
    "0.593*2*pi"
   ]
  },
  {
   "cell_type": "markdown",
   "metadata": {},
   "source": [
    "# Debugging Run I (simmilarly J,K)"
   ]
  },
  {
   "cell_type": "markdown",
   "metadata": {},
   "source": [
    " Negative densities again"
   ]
  },
  {
   "cell_type": "raw",
   "metadata": {},
   "source": [
    "print Wr\n",
    "$1 = {d = -1.1569845473693996e-07, Vx = -0.024907326012800504, Vy = -0.019020853857245074, \n",
    "  Vz = 1.2474241215507933, P = <value optimized out>}"
   ]
  },
  {
   "cell_type": "markdown",
   "metadata": {},
   "source": [
    "Turned off - O0"
   ]
  },
  {
   "cell_type": "markdown",
   "metadata": {},
   "source": [
    "/u/dorislee/Programs/athena-sph/src/rsolvers/hllc.c"
   ]
  },
  {
   "cell_type": "markdown",
   "metadata": {},
   "source": [
    "Made changes to source code\n",
    "Note sure why it is still not workin \n",
    "\n",
    "```\n",
    "#2  0x0000000000437723 in fluxes (Ul=..., Ur=..., Wl=..., Wr=..., Bxi=6.9533491682330333e-310, \n",
    "    pFlux=0x7ffff40e4428) at hllc.c:80\n",
    "warning: Source file is more recent than executable.\n",
    "80\t  \tsqrtdl = sqrt((double)Wl.d);\n",
    "(gdb) Wl.d\n",
    "Undefined command: \"Wl\".  Try \"help\".\n",
    "(gdb) print Wl.d\n",
    "$1 = 0.00010471956166659377\n",
    "(gdb) print sqrtdl\n",
    "$2 = 0.010233257627295121\n",
    "\n",
    "```"
   ]
  },
  {
   "cell_type": "markdown",
   "metadata": {},
   "source": [
    "Cleaned up and reran again "
   ]
  },
  {
   "cell_type": "markdown",
   "metadata": {},
   "source": [
    "I think configure regenerates your Makeoption script which makes the -O0 and -g flag go away"
   ]
  },
  {
   "cell_type": "markdown",
   "metadata": {},
   "source": [
    "Perfect so we passed that now and as I expected it crashes again in the bottom where you have sqrt again"
   ]
  },
  {
   "cell_type": "markdown",
   "metadata": {},
   "source": [
    "```\n",
    "cycle=277 time=1.360601e-02 next dt=4.548300e-05 last dt=4.550488e-05\n",
    "\n",
    "Program received signal SIGFPE, Arithmetic exception.\n",
    "0x000000339c8150f0 in __ieee754_sqrt () from /lib64/libm.so.6\n",
    "Missing separate debuginfos, use: debuginfo-install glibc-2.12-1.149.el6_6.9.x86_64\n",
    "(gdb) bt\n",
    "#0  0x000000339c8150f0 in __ieee754_sqrt () from /lib64/libm.so.6\n",
    "#1  0x000000339c8259a2 in sqrt () from /lib64/libm.so.6\n",
    "#2  0x000000000043792e in fluxes (Ul=..., Ur=..., Wl=..., Wr=..., Bxi=6.9533491682330333e-310, \n",
    "    pFlux=0x7ffff40e4428) at hllc.c:125\n",
    "#3  0x00000000004322dd in integrate_3d_vl (pD=0x647b90) at integrate_3d_vl.c:1395\n",
    "#4  0x0000000000413c49 in main (argc=3, argv=0x7fffffffd7a8) at main.c:537\n",
    "(gdb) f 2\n",
    "#2  0x000000000043792e in fluxes (Ul=..., Ur=..., Wl=..., Wr=..., Bxi=6.9533491682330333e-310, \n",
    "    pFlux=0x7ffff40e4428) at hllc.c:125\n",
    "125\t  cfr = sqrt((double)(Gamma*Wr.P/Wr.d));\n",
    "\n",
    "```"
   ]
  },
  {
   "cell_type": "markdown",
   "metadata": {},
   "source": [
    "### Running the newer version of lr_states_prim2"
   ]
  },
  {
   "cell_type": "code",
   "execution_count": null,
   "metadata": {
    "collapsed": true
   },
   "outputs": [],
   "source": [
    "$ diff athena-sph.orig/src/reconstruction/lr_states_prim2.c  athena-sph/src/reconstruction/lr_states_prim2.c "
   ]
  }
 ],
 "metadata": {
  "kernelspec": {
   "display_name": "Python 2",
   "language": "python",
   "name": "python2"
  },
  "language_info": {
   "codemirror_mode": {
    "name": "ipython",
    "version": 2
   },
   "file_extension": ".py",
   "mimetype": "text/x-python",
   "name": "python",
   "nbconvert_exporter": "python",
   "pygments_lexer": "ipython2",
   "version": "2.7.9"
  }
 },
 "nbformat": 4,
 "nbformat_minor": 0
}
