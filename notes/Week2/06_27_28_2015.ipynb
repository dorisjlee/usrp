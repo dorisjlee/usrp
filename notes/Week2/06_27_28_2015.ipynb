{
 "cells": [
  {
   "cell_type": "markdown",
   "metadata": {},
   "source": [
    "- distortion parameter (should that come in here somewhere ? ) but our analytical formula already gives us the minor and major axies of the torus!?"
   ]
  },
  {
   "cell_type": "markdown",
   "metadata": {},
   "source": [
    "- normalized units g = 1 ; w0=1 what would be appropriate choices of param values? "
   ]
  },
  {
   "cell_type": "markdown",
   "metadata": {},
   "source": [
    "- ``<r>[i] = pGrid->px1v[i], <theta>[j] = pGrid->px2v[j], <phi>[k] = pGrid->px3[k] ``"
   ]
  },
  {
   "cell_type": "markdown",
   "metadata": {},
   "source": [
    "- ./configure --with-coord=spherical --with-gas=mhd --with-flux=hlld --with-integrator=vl --with-order=2p --with-problem=sphppi"
   ]
  },
  {
   "cell_type": "markdown",
   "metadata": {},
   "source": [
    "again don't forget the alias '"
   ]
  },
  {
   "cell_type": "markdown",
   "metadata": {},
   "source": [
    "```\n",
    "$ ./bin/athena -i athinput.sphppi \n",
    "Simulation started on Sat Jun 27 08:33:22 2015\n",
    "\n",
    "Floating point exception\n",
    "```"
   ]
  },
  {
   "cell_type": "markdown",
   "metadata": {},
   "source": [
    "So this program runs if I comment out my definiitons of W.d, W.P and W.V3 so there must be some weird C error when I calculate these values, need to check on these values by printing ."
   ]
  },
  {
   "cell_type": "markdown",
   "metadata": {},
   "source": [
    "Actually this does run properly I might have forgottten to do .bin/athena again..which was why it didnt work>"
   ]
  },
  {
   "cell_type": "code",
   "execution_count": null,
   "metadata": {
    "collapsed": true
   },
   "outputs": [],
   "source": []
  }
 ],
 "metadata": {
  "kernelspec": {
   "display_name": "Python 2",
   "language": "python",
   "name": "python2"
  },
  "language_info": {
   "codemirror_mode": {
    "name": "ipython",
    "version": 2
   },
   "file_extension": ".py",
   "mimetype": "text/x-python",
   "name": "python",
   "nbconvert_exporter": "python",
   "pygments_lexer": "ipython2",
   "version": "2.7.6"
  }
 },
 "nbformat": 4,
 "nbformat_minor": 0
}
